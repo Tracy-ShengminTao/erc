{
 "cells": [
  {
   "cell_type": "code",
   "execution_count": 1,
   "id": "continuous-electronics",
   "metadata": {},
   "outputs": [],
   "source": [
    "from audio import AudioDataset"
   ]
  },
  {
   "cell_type": "code",
   "execution_count": 2,
   "id": "alternate-custom",
   "metadata": {},
   "outputs": [],
   "source": [
    "train = AudioDataset(csv_path='/home/kvu/erc/data/AFEW/raw-audios/train.csv', \n",
    "                     data_dir='/home/kvu/erc/data/AFEW/raw-audios/train/', \n",
    "                     format='.mp3', \n",
    "                     is_train=True, \n",
    "                     sr=22050, \n",
    "                     duration=2.5, \n",
    "                     n_mels=128)"
   ]
  },
  {
   "cell_type": "code",
   "execution_count": 6,
   "id": "integral-extraction",
   "metadata": {},
   "outputs": [
    {
     "name": "stderr",
     "output_type": "stream",
     "text": [
      "/home/kvu/erc/venv/lib/python3.6/site-packages/librosa/core/audio.py:162: UserWarning: PySoundFile failed. Trying audioread instead.\n",
      "  warnings.warn(\"PySoundFile failed. Trying audioread instead.\")\n"
     ]
    },
    {
     "name": "stdout",
     "output_type": "stream",
     "text": [
      "(3, 128, 108)\n"
     ]
    }
   ],
   "source": [
    "audio, lbl = train[0]\n",
    "print(audio.shape)"
   ]
  },
  {
   "cell_type": "code",
   "execution_count": null,
   "id": "wired-harassment",
   "metadata": {},
   "outputs": [],
   "source": []
  }
 ],
 "metadata": {
  "kernelspec": {
   "display_name": "Python 3",
   "language": "python",
   "name": "python3"
  },
  "language_info": {
   "codemirror_mode": {
    "name": "ipython",
    "version": 3
   },
   "file_extension": ".py",
   "mimetype": "text/x-python",
   "name": "python",
   "nbconvert_exporter": "python",
   "pygments_lexer": "ipython3",
   "version": "3.6.12"
  }
 },
 "nbformat": 4,
 "nbformat_minor": 5
}
