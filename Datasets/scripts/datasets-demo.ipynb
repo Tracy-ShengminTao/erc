{
 "cells": [
  {
   "cell_type": "code",
   "execution_count": 12,
   "metadata": {},
   "outputs": [],
   "source": [
    "from glob import glob\n",
    "import os\n",
    "\n",
    "datasets = [foo.split('/')[1] for foo in glob('../*/labels.json')]\n",
    "\n",
    "if len(datasets) == 0:\n",
    "    raise FileNotFoundError(\"no datasets found\")"
   ]
  },
  {
   "cell_type": "code",
   "execution_count": 42,
   "metadata": {},
   "outputs": [
    {
     "data": {
      "text/plain": [
       "('IEMOCAP', 'Ses04M_impro05_F035')"
      ]
     },
     "execution_count": 42,
     "metadata": {},
     "output_type": "execute_result"
    }
   ],
   "source": [
    "import random\n",
    "\n",
    "# choose one random utternace id\n",
    "_, dataset, __, ___, filename = random.choice(glob('../*/raw-videos/train/*')).split('/')\n",
    "uttid = filename.split('.')[0]\n",
    "\n",
    "dataset, uttid"
   ]
  },
  {
   "cell_type": "code",
   "execution_count": 45,
   "metadata": {},
   "outputs": [],
   "source": [
    "from collections import namedtuple\n",
    "import json\n",
    "\n",
    "def get_stuff(dataset, uttid):\n",
    "    vid_path = os.path.join('../', dataset, 'train', uttid +'.avi')\n",
    "    if not os.path.isfile(vid_path):\n",
    "        vid_path = vid_path.replace('.avi', '.mp4')\n",
    "    if not os.path.isfile(vid_path):\n",
    "        vid_path = None\n",
    "        \n",
    "    audio_path = os.path.join('../', dataset, 'train', uttid + '.wav')\n",
    "\n",
    "    if not os.path.isfile(audio_path):\n",
    "        audio_path = audio_path.replace('.wav', '.mp3')\n",
    "    if not os.path.isfile(audio_path):\n",
    "        audio_path = None\n",
    "        \n",
    "    text_path = os.path.join('../', dataset, 'train', uttid + '.json')\n",
    "    print(text_path)\n",
    "    if not os.path.isfile(text_path):\n",
    "        text_path = None\n",
    "        \n",
    "    label_path = os.path.join('../', dataset, 'labels.json')\n",
    "\n",
    "    with open(label_path, 'r') as stream:\n",
    "        labels = json.load(stream)\n",
    "        \n",
    "    label = labels['train'][uttid]\n",
    "    \n",
    "    return vid_path, audio_path, text_path, label"
   ]
  },
  {
   "cell_type": "code",
   "execution_count": 46,
   "metadata": {},
   "outputs": [
    {
     "name": "stdout",
     "output_type": "stream",
     "text": [
      "../IEMOCAP/train/Ses04M_impro05_F035.json\n"
     ]
    },
    {
     "data": {
      "text/plain": [
       "(None, None, None, 'frustration')"
      ]
     },
     "execution_count": 46,
     "metadata": {},
     "output_type": "execute_result"
    }
   ],
   "source": [
    "get_stuff(dataset, uttid)"
   ]
  },
  {
   "cell_type": "code",
   "execution_count": 33,
   "metadata": {},
   "outputs": [
    {
     "data": {
      "text/plain": [
       "\u001b[0;31mSignature:\u001b[0m\n",
       "\u001b[0mnamedtuple\u001b[0m\u001b[0;34m(\u001b[0m\u001b[0;34m\u001b[0m\n",
       "\u001b[0;34m\u001b[0m    \u001b[0mtypename\u001b[0m\u001b[0;34m,\u001b[0m\u001b[0;34m\u001b[0m\n",
       "\u001b[0;34m\u001b[0m    \u001b[0mfield_names\u001b[0m\u001b[0;34m,\u001b[0m\u001b[0;34m\u001b[0m\n",
       "\u001b[0;34m\u001b[0m    \u001b[0;34m*\u001b[0m\u001b[0;34m,\u001b[0m\u001b[0;34m\u001b[0m\n",
       "\u001b[0;34m\u001b[0m    \u001b[0mrename\u001b[0m\u001b[0;34m=\u001b[0m\u001b[0;32mFalse\u001b[0m\u001b[0;34m,\u001b[0m\u001b[0;34m\u001b[0m\n",
       "\u001b[0;34m\u001b[0m    \u001b[0mdefaults\u001b[0m\u001b[0;34m=\u001b[0m\u001b[0;32mNone\u001b[0m\u001b[0;34m,\u001b[0m\u001b[0;34m\u001b[0m\n",
       "\u001b[0;34m\u001b[0m    \u001b[0mmodule\u001b[0m\u001b[0;34m=\u001b[0m\u001b[0;32mNone\u001b[0m\u001b[0;34m,\u001b[0m\u001b[0;34m\u001b[0m\n",
       "\u001b[0;34m\u001b[0m\u001b[0;34m)\u001b[0m\u001b[0;34m\u001b[0m\u001b[0;34m\u001b[0m\u001b[0m\n",
       "\u001b[0;31mDocstring:\u001b[0m\n",
       "Returns a new subclass of tuple with named fields.\n",
       "\n",
       ">>> Point = namedtuple('Point', ['x', 'y'])\n",
       ">>> Point.__doc__                   # docstring for the new class\n",
       "'Point(x, y)'\n",
       ">>> p = Point(11, y=22)             # instantiate with positional args or keywords\n",
       ">>> p[0] + p[1]                     # indexable like a plain tuple\n",
       "33\n",
       ">>> x, y = p                        # unpack like a regular tuple\n",
       ">>> x, y\n",
       "(11, 22)\n",
       ">>> p.x + p.y                       # fields also accessible by name\n",
       "33\n",
       ">>> d = p._asdict()                 # convert to a dictionary\n",
       ">>> d['x']\n",
       "11\n",
       ">>> Point(**d)                      # convert from a dictionary\n",
       "Point(x=11, y=22)\n",
       ">>> p._replace(x=100)               # _replace() is like str.replace() but targets named fields\n",
       "Point(x=100, y=22)\n",
       "\u001b[0;31mFile:\u001b[0m      /usr/lib/python3.7/collections/__init__.py\n",
       "\u001b[0;31mType:\u001b[0m      function\n"
      ]
     },
     "metadata": {},
     "output_type": "display_data"
    }
   ],
   "source": [
    "stuff = namedtuple('stuff', [\n",
    "    'bbox', 'landmark', 'det_score', 'embedding', 'gender', 'age',\n",
    "    'embedding_norm', 'normed_embedding'\n",
    "])\n",
    "\n",
    "Face.__new__.__defaults__ = (None, ) * len(Face._fields)\n",
    "\n",
    "face = Face(bbox=bbox,\n",
    "            landmark=landmark,\n",
    "            det_score=det_score,\n",
    "            embedding=embedding,\n",
    "            gender=gender,\n",
    "            age=age,\n",
    "            normed_embedding=normed_embedding,\n",
    "            embedding_norm=embedding_norm)"
   ]
  }
 ],
 "metadata": {
  "kernelspec": {
   "display_name": "Python 3",
   "language": "python",
   "name": "python3"
  },
  "language_info": {
   "codemirror_mode": {
    "name": "ipython",
    "version": 3
   },
   "file_extension": ".py",
   "mimetype": "text/x-python",
   "name": "python",
   "nbconvert_exporter": "python",
   "pygments_lexer": "ipython3",
   "version": "3.7.9"
  }
 },
 "nbformat": 4,
 "nbformat_minor": 4
}
