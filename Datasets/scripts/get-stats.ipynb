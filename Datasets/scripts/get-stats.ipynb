{
 "metadata": {
  "language_info": {
   "codemirror_mode": {
    "name": "ipython",
    "version": 3
   },
   "file_extension": ".py",
   "mimetype": "text/x-python",
   "name": "python",
   "nbconvert_exporter": "python",
   "pygments_lexer": "ipython3",
   "version": "3.7.9-final"
  },
  "orig_nbformat": 2,
  "kernelspec": {
   "name": "python37964bitdevpython378e162af75d134820b03d49898b79756f",
   "display_name": "Python 3.7.9 64-bit ('dev-python-3.7')",
   "language": "python"
  }
 },
 "nbformat": 4,
 "nbformat_minor": 2,
 "cells": [
  {
   "cell_type": "code",
   "execution_count": 73,
   "metadata": {},
   "outputs": [],
   "source": [
    "from glob import glob\n",
    "import json\n",
    "from collections import Counter\n",
    "\n",
    "stats = {}\n",
    "for DATASET_NAME in ['MELD', 'IEMOCAP', 'AFEW', 'CAER']:\n",
    "    stats[DATASET_NAME] = {}\n",
    "    with open(f\"../{DATASET_NAME}/labels.json\", 'r') as stream:\n",
    "        labels = json.load(stream)\n",
    "    for DATASET in ['train', 'val', 'test']:\n",
    "        stats[DATASET_NAME][DATASET] = dict(Counter(list(labels[DATASET].values())))\n"
   ]
  },
  {
   "cell_type": "code",
   "execution_count": 83,
   "metadata": {},
   "outputs": [
    {
     "output_type": "stream",
     "name": "stdout",
     "text": [
      "{'MELD': 'train', 'anger': 1109, 'disgust': 271, 'fear': 268, 'joy': 1743, 'neutral': 4710, 'sadness': 683, 'surprise': 1205, 'SUM': 9989}\n{'MELD': 'val', 'anger': 153, 'disgust': 22, 'fear': 40, 'joy': 163, 'neutral': 470, 'sadness': 111, 'surprise': 150, 'SUM': 1109}\n{'MELD': 'test', 'anger': 345, 'disgust': 68, 'fear': 50, 'joy': 402, 'neutral': 1256, 'sadness': 208, 'surprise': 281, 'SUM': 2610}\n{'IEMOCAP': 'train', 'anger': 749, 'disgust': 2, 'excited': 520, 'fear': 25, 'frustration': 1210, 'happiness': 338, 'neutral': 1080, 'other': 2, 'sadness': 764, 'surprise': 70, 'undecided': 1618, 'SUM': 6378}\n{'IEMOCAP': 'val', 'anger': 184, 'excited': 222, 'fear': 5, 'frustration': 258, 'happiness': 114, 'neutral': 244, 'other': 1, 'sadness': 75, 'surprise': 19, 'undecided': 369, 'SUM': 1491}\n{'IEMOCAP': 'test', 'anger': 170, 'excited': 299, 'fear': 10, 'frustration': 381, 'happiness': 143, 'neutral': 384, 'sadness': 245, 'surprise': 18, 'undecided': 520, 'SUM': 2170}\n{'AFEW': 'train', 'angry': 133, 'disgust': 74, 'fear': 81, 'happy': 150, 'neutral': 144, 'sad': 117, 'surprise': 74, 'SUM': 773}\n{'AFEW': 'val', 'angry': 64, 'disgust': 40, 'fear': 46, 'happy': 63, 'neutral': 63, 'sad': 61, 'surprise': 46, 'SUM': 383}\n{'AFEW': 'test', 'SUM': 0}\n{'CAER': 'train', 'anger': 1136, 'disgust': 500, 'fear': 358, 'happy': 1905, 'neutral': 3202, 'sad': 1028, 'surprise': 1093, 'SUM': 9222}\n{'CAER': 'val', 'anger': 162, 'disgust': 71, 'fear': 51, 'happy': 272, 'neutral': 457, 'sad': 146, 'surprise': 157, 'SUM': 1316}\n{'CAER': 'test', 'anger': 325, 'disgust': 145, 'fear': 102, 'happy': 544, 'neutral': 915, 'sad': 294, 'surprise': 312, 'SUM': 2637}\n"
     ]
    }
   ],
   "source": [
    "table = {}\n",
    "for DATASET_NAME in ['MELD', 'IEMOCAP', 'AFEW', 'CAER']:\n",
    "    for DATASET in ['train', 'val', 'test']:\n",
    "        foo = {DATASET_NAME:DATASET}\n",
    "        bar = dict(sorted(stats[DATASET_NAME][DATASET].items()))\n",
    "        for key, val in bar.items():\n",
    "            foo[key] = val\n",
    "        foo['SUM'] = sum(list(bar.values()))\n",
    "\n",
    "        print(foo)\n"
   ]
  }
 ]
}