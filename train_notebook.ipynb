{
 "cells": [
  {
   "cell_type": "code",
   "execution_count": 1,
   "id": "supported-personality",
   "metadata": {},
   "outputs": [
    {
     "name": "stdout",
     "output_type": "stream",
     "text": [
      "Mon Feb 22 15:22:44 2021       \n",
      "+-----------------------------------------------------------------------------+\n",
      "| NVIDIA-SMI 450.102.04   Driver Version: 450.102.04   CUDA Version: 11.0     |\n",
      "|-------------------------------+----------------------+----------------------+\n",
      "| GPU  Name        Persistence-M| Bus-Id        Disp.A | Volatile Uncorr. ECC |\n",
      "| Fan  Temp  Perf  Pwr:Usage/Cap|         Memory-Usage | GPU-Util  Compute M. |\n",
      "|                               |                      |               MIG M. |\n",
      "|===============================+======================+======================|\n",
      "|   0  GeForce GTX 1050    Off  | 00000000:01:00.0 Off |                  N/A |\n",
      "| N/A   55C    P0    N/A /  N/A |   1029MiB /  4042MiB |      0%      Default |\n",
      "|                               |                      |                  N/A |\n",
      "+-------------------------------+----------------------+----------------------+\n",
      "                                                                               \n",
      "+-----------------------------------------------------------------------------+\n",
      "| Processes:                                                                  |\n",
      "|  GPU   GI   CI        PID   Type   Process name                  GPU Memory |\n",
      "|        ID   ID                                                   Usage      |\n",
      "|=============================================================================|\n",
      "|    0   N/A  N/A      1278      G   /usr/lib/xorg/Xorg                 80MiB |\n",
      "|    0   N/A  N/A      2030      G   /usr/lib/xorg/Xorg                245MiB |\n",
      "|    0   N/A  N/A      2203      G   /usr/bin/gnome-shell              207MiB |\n",
      "|    0   N/A  N/A      3534      G   ...AAAAAAAAA= --shared-files      249MiB |\n",
      "|    0   N/A  N/A      8325      G   ...AAAAAAAAA= --shared-files       34MiB |\n",
      "|    0   N/A  N/A     76458      G   ...AAAAAAAA== --shared-files      202MiB |\n",
      "+-----------------------------------------------------------------------------+\n"
     ]
    }
   ],
   "source": [
    "!nvidia-smi"
   ]
  },
  {
   "cell_type": "code",
   "execution_count": 2,
   "id": "quantitative-aircraft",
   "metadata": {},
   "outputs": [],
   "source": [
    "# import timm\n",
    "# from pprint import pprint\n",
    "# model_names = timm.list_models(pretrained=True)\n",
    "# pprint(model_names)"
   ]
  },
  {
   "cell_type": "code",
   "execution_count": null,
   "id": "extra-ladder",
   "metadata": {},
   "outputs": [
    {
     "name": "stdout",
     "output_type": "stream",
     "text": [
      "{ 'dataset': { 'train': { 'args': { 'csv_path': 'data/AFEW/raw-audios/train.csv',\n",
      "                                    'data_dir': 'data/AFEW/raw-audios/train/',\n",
      "                                    'duration': 3,\n",
      "                                    'format': '.mp3',\n",
      "                                    'is_train': True,\n",
      "                                    'n_mels': 128,\n",
      "                                    'sr': 22050},\n",
      "                          'loader': { 'args': { 'batch_size': 4,\n",
      "                                                'drop_last': False,\n",
      "                                                'shuffle': True},\n",
      "                                      'name': 'DataLoader'},\n",
      "                          'name': 'AudioDataset'},\n",
      "               'val': { 'args': { 'csv_path': 'data/AFEW/raw-audios/val.csv',\n",
      "                                  'data_dir': 'data/AFEW/raw-audios/val/',\n",
      "                                  'duration': 3,\n",
      "                                  'format': '.mp3',\n",
      "                                  'is_train': False,\n",
      "                                  'n_mels': 128,\n",
      "                                  'sr': 22050},\n",
      "                        'loader': { 'args': {'batch_size': 4, 'shuffle': True},\n",
      "                                    'name': 'DataLoader'},\n",
      "                        'name': 'AudioDataset'}},\n",
      "  'debug': False,\n",
      "  'gpus': '0',\n",
      "  'id': 'audio_effnet_b0',\n",
      "  'loss': {'args': None, 'name': 'CrossEntropyLoss'},\n",
      "  'metric': [{'args': None, 'name': 'Accuracy'}],\n",
      "  'model': { 'args': { 'freeze_backbone': False,\n",
      "                       'from_pretrained': True,\n",
      "                       'name': 'tf_efficientnet_b0_ns',\n",
      "                       'num_classes': 3},\n",
      "             'name': 'BaseTimmModel'},\n",
      "  'optimizer': {'args': {'lr': 0.0001}, 'name': 'Adam'},\n",
      "  'pretrained': None,\n",
      "  'scheduler': { 'args': {'gamma': 0.2, 'last_epoch': -1, 'step_size': 3},\n",
      "                 'name': 'StepLR'},\n",
      "  'trainer': {'log_step': 1, 'nepochs': 5, 'val_step': 1}}\n",
      "\n",
      "Epoch   0\n",
      "-----------------------------------\n",
      "Training........\n",
      "100%|█████████████████████████████████████████| 107/107 [02:45<00:00,  1.55s/it]\n",
      "+ Training result\n",
      "Loss: 1.0845879767542688\n",
      "Accuracy: 0.37704917788505554\n",
      "Evaluating........\n",
      " 69%|█████████████████████████████▌             | 33/48 [00:47<00:22,  1.51s/it]"
     ]
    }
   ],
   "source": [
    "!python3 train.py --config configs/audio_effnet.yaml --gpus 0 "
   ]
  },
  {
   "cell_type": "code",
   "execution_count": null,
   "id": "sitting-petite",
   "metadata": {},
   "outputs": [],
   "source": []
  }
 ],
 "metadata": {
  "kernelspec": {
   "display_name": "Python 3",
   "language": "python",
   "name": "python3"
  },
  "language_info": {
   "codemirror_mode": {
    "name": "ipython",
    "version": 3
   },
   "file_extension": ".py",
   "mimetype": "text/x-python",
   "name": "python",
   "nbconvert_exporter": "python",
   "pygments_lexer": "ipython3",
   "version": "3.6.12"
  }
 },
 "nbformat": 4,
 "nbformat_minor": 5
}
