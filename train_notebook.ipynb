{
 "cells": [
  {
   "cell_type": "code",
   "execution_count": 1,
   "id": "accessory-administrator",
   "metadata": {},
   "outputs": [
    {
     "name": "stdout",
     "output_type": "stream",
     "text": [
      "Wed Feb 24 01:23:21 2021       \n",
      "+-----------------------------------------------------------------------------+\n",
      "| NVIDIA-SMI 450.102.04   Driver Version: 450.102.04   CUDA Version: 11.0     |\n",
      "|-------------------------------+----------------------+----------------------+\n",
      "| GPU  Name        Persistence-M| Bus-Id        Disp.A | Volatile Uncorr. ECC |\n",
      "| Fan  Temp  Perf  Pwr:Usage/Cap|         Memory-Usage | GPU-Util  Compute M. |\n",
      "|                               |                      |               MIG M. |\n",
      "|===============================+======================+======================|\n",
      "|   0  GeForce GTX 1050    Off  | 00000000:01:00.0 Off |                  N/A |\n",
      "| N/A   53C    P0    N/A /  N/A |   2068MiB /  4042MiB |     11%      Default |\n",
      "|                               |                      |                  N/A |\n",
      "+-------------------------------+----------------------+----------------------+\n",
      "                                                                               \n",
      "+-----------------------------------------------------------------------------+\n",
      "| Processes:                                                                  |\n",
      "|  GPU   GI   CI        PID   Type   Process name                  GPU Memory |\n",
      "|        ID   ID                                                   Usage      |\n",
      "|=============================================================================|\n",
      "|    0   N/A  N/A      1330      G   /usr/lib/xorg/Xorg                 80MiB |\n",
      "|    0   N/A  N/A      2073      G   /usr/lib/xorg/Xorg                205MiB |\n",
      "|    0   N/A  N/A      2255      G   /usr/bin/gnome-shell              158MiB |\n",
      "|    0   N/A  N/A      3897      G   ...AAAAAAAAA= --shared-files      198MiB |\n",
      "|    0   N/A  N/A      6288      G   ...AAAAAAAA== --shared-files      129MiB |\n",
      "|    0   N/A  N/A    226236      C   ...e/kvu/erc/venv/bin/python     1285MiB |\n",
      "+-----------------------------------------------------------------------------+\n"
     ]
    }
   ],
   "source": [
    "!nvidia-smi"
   ]
  },
  {
   "cell_type": "code",
   "execution_count": 2,
   "id": "mineral-frontier",
   "metadata": {},
   "outputs": [],
   "source": [
    "# import timm\n",
    "# from pprint import pprint\n",
    "# model_names = timm.list_models(pretrained=True)\n",
    "# pprint(model_names)"
   ]
  },
  {
   "cell_type": "code",
   "execution_count": null,
   "id": "absolute-charlotte",
   "metadata": {},
   "outputs": [],
   "source": [
    "!rm -rf runs/"
   ]
  },
  {
   "cell_type": "code",
   "execution_count": 3,
   "id": "mexican-liability",
   "metadata": {},
   "outputs": [
    {
     "name": "stdout",
     "output_type": "stream",
     "text": [
      "{ 'dataset': { 'train': { 'args': { 'csv_path': 'data/AFEW/raw-audios/train.csv',\n",
      "                                    'data_dir': 'data/AFEW/raw-audios/train/',\n",
      "                                    'duration': 3,\n",
      "                                    'format': '.mp3',\n",
      "                                    'is_train': True,\n",
      "                                    'n_mels': 128,\n",
      "                                    'sr': 22050},\n",
      "                          'loader': { 'args': { 'batch_size': 4,\n",
      "                                                'drop_last': False,\n",
      "                                                'shuffle': True},\n",
      "                                      'name': 'DataLoader'},\n",
      "                          'name': 'AudioDataset'},\n",
      "               'val': { 'args': { 'csv_path': 'data/AFEW/raw-audios/val.csv',\n",
      "                                  'data_dir': 'data/AFEW/raw-audios/val/',\n",
      "                                  'duration': 3,\n",
      "                                  'format': '.mp3',\n",
      "                                  'is_train': False,\n",
      "                                  'n_mels': 128,\n",
      "                                  'sr': 22050},\n",
      "                        'loader': { 'args': {'batch_size': 4, 'shuffle': True},\n",
      "                                    'name': 'DataLoader'},\n",
      "                        'name': 'AudioDataset'}},\n",
      "  'debug': False,\n",
      "  'gpus': '0',\n",
      "  'id': 'audio_effnet_b0',\n",
      "  'loss': {'args': None, 'name': 'FocalLoss'},\n",
      "  'metric': [{'args': None, 'name': 'Accuracy'}],\n",
      "  'model': { 'args': { 'freeze_backbone': False,\n",
      "                       'from_pretrained': True,\n",
      "                       'name': 'tf_efficientnet_b0_ns',\n",
      "                       'num_classes': 7},\n",
      "             'name': 'BaseTimmModel'},\n",
      "  'optimizer': {'args': {'lr': 0.0001}, 'name': 'Adam'},\n",
      "  'pretrained': None,\n",
      "  'scheduler': { 'args': {'gamma': 0.2, 'last_epoch': -1, 'step_size': 3},\n",
      "                 'name': 'StepLR'},\n",
      "  'trainer': {'log_step': 1, 'nepochs': 10, 'val_step': 1}}\n",
      "\n",
      "Epoch   0\n",
      "-----------------------------------\n",
      "Training........\n",
      "100%|█████████████████████████████████████████| 194/194 [05:27<00:00,  1.69s/it]\n",
      "+ Training result\n",
      "Loss: 1.9069749000146208\n",
      "Accuracy: 0.2121604084968567\n",
      "Evaluating........\n",
      "100%|███████████████████████████████████████████| 96/96 [02:20<00:00,  1.46s/it]\n",
      "+ Evaluation result\n",
      "Loss: 1.8811281844973562\n",
      "Accuracy: 0.24281984567642212\n",
      "-----------------------------------\n",
      "Loss is improved from  inf to  1.881128. Saving weights...\n",
      "Accuracy is improved from  0.000000 to  0.242820. Saving weights...\n",
      "\n",
      "Epoch   1\n",
      "-----------------------------------\n",
      "Training........\n",
      "100%|█████████████████████████████████████████| 194/194 [05:22<00:00,  1.66s/it]\n",
      "+ Training result\n",
      "Loss: 1.7748402221915647\n",
      "Accuracy: 0.3078913390636444\n",
      "Evaluating........\n",
      "100%|███████████████████████████████████████████| 96/96 [02:18<00:00,  1.45s/it]\n",
      "+ Evaluation result\n",
      "Loss: 1.8372016164163747\n",
      "Accuracy: 0.292428195476532\n",
      "-----------------------------------\n",
      "Loss is improved from  1.881128 to  1.837202. Saving weights...\n",
      "Accuracy is improved from  0.242820 to  0.292428. Saving weights...\n",
      "\n",
      "Epoch   2\n",
      "-----------------------------------\n",
      "Training........\n",
      "100%|█████████████████████████████████████████| 194/194 [05:07<00:00,  1.58s/it]\n",
      "+ Training result\n",
      "Loss: 1.6211365796241566\n",
      "Accuracy: 0.4062095880508423\n",
      "Evaluating........\n",
      "100%|███████████████████████████████████████████| 96/96 [02:22<00:00,  1.48s/it]\n",
      "+ Evaluation result\n",
      "Loss: 1.8549338144560656\n",
      "Accuracy: 0.27154046297073364\n",
      "-----------------------------------\n",
      "Loss is not improved from 1.837202.\n",
      "Accuracy is not improved from 0.292428.\n",
      "\n",
      "Epoch   3\n",
      "-----------------------------------\n",
      "Training........\n",
      "100%|█████████████████████████████████████████| 194/194 [05:04<00:00,  1.57s/it]\n",
      "+ Training result\n",
      "Loss: 1.3998904028504169\n",
      "Accuracy: 0.5019404888153076\n",
      "Evaluating........\n",
      "100%|███████████████████████████████████████████| 96/96 [02:24<00:00,  1.51s/it]\n",
      "+ Evaluation result\n",
      "Loss: 1.9305670807758968\n",
      "Accuracy: 0.2532637119293213\n",
      "-----------------------------------\n",
      "Loss is not improved from 1.837202.\n",
      "Accuracy is not improved from 0.292428.\n",
      "\n",
      "Epoch   4\n",
      "-----------------------------------\n",
      "Training........\n",
      "100%|█████████████████████████████████████████| 194/194 [04:57<00:00,  1.54s/it]\n",
      "+ Training result\n",
      "Loss: 1.200518793359245\n",
      "Accuracy: 0.5756791830062866\n",
      "Evaluating........\n",
      "100%|███████████████████████████████████████████| 96/96 [02:17<00:00,  1.43s/it]\n",
      "+ Evaluation result\n",
      "Loss: 1.9530979699144764\n",
      "Accuracy: 0.2898172438144684\n",
      "-----------------------------------\n",
      "Loss is not improved from 1.837202.\n",
      "Accuracy is not improved from 0.292428.\n",
      "\n",
      "Epoch   5\n",
      "-----------------------------------\n",
      "Training........\n",
      "  1%|▍                                          | 2/194 [00:02<04:17,  1.34s/it]^C\n",
      "  1%|▍                                          | 2/194 [00:04<06:44,  2.10s/it]\n",
      "Traceback (most recent call last):\n",
      "  File \"train.py\", line 120, in <module>\n",
      "    train(config)\n",
      "  File \"train.py\", line 93, in train\n",
      "    val_dataloader=val_dataloader)\n",
      "  File \"./libs/workers/trainer.py\", line 178, in train\n",
      "    self.train_epoch(epoch=epoch, dataloader=train_dataloader)\n",
      "  File \"./libs/workers/trainer.py\", line 105, in train_epoch\n",
      "    self.optimizer.step()\n",
      "  File \"/home/kvu/erc/venv/lib/python3.6/site-packages/torch/optim/lr_scheduler.py\", line 67, in wrapper\n",
      "    return wrapped(*args, **kwargs)\n",
      "  File \"/home/kvu/erc/venv/lib/python3.6/site-packages/torch/autograd/grad_mode.py\", line 26, in decorate_context\n",
      "    return func(*args, **kwargs)\n",
      "  File \"/home/kvu/erc/venv/lib/python3.6/site-packages/torch/optim/adam.py\", line 99, in step\n",
      "    if group['amsgrad']:\n",
      "KeyboardInterrupt\n"
     ]
    }
   ],
   "source": [
    "!python3 train.py --config configs/audio_effnet.yaml --gpus 0 "
   ]
  },
  {
   "cell_type": "markdown",
   "id": "floating-antenna",
   "metadata": {},
   "source": [
    "## Tensorboard"
   ]
  },
  {
   "cell_type": "code",
   "execution_count": 4,
   "id": "declared-responsibility",
   "metadata": {},
   "outputs": [],
   "source": [
    "%load_ext tensorboard\n",
    "%reload_ext tensorboard"
   ]
  },
  {
   "cell_type": "code",
   "execution_count": 5,
   "id": "developing-station",
   "metadata": {},
   "outputs": [
    {
     "data": {
      "text/plain": [
       "Reusing TensorBoard on port 6006 (pid 215831), started 1:36:37 ago. (Use '!kill 215831' to kill it.)"
      ]
     },
     "metadata": {},
     "output_type": "display_data"
    },
    {
     "data": {
      "text/html": [
       "\n",
       "      <iframe id=\"tensorboard-frame-ba2960b86ecf02d7\" width=\"100%\" height=\"800\" frameborder=\"0\">\n",
       "      </iframe>\n",
       "      <script>\n",
       "        (function() {\n",
       "          const frame = document.getElementById(\"tensorboard-frame-ba2960b86ecf02d7\");\n",
       "          const url = new URL(\"/\", window.location);\n",
       "          const port = 6006;\n",
       "          if (port) {\n",
       "            url.port = port;\n",
       "          }\n",
       "          frame.src = url;\n",
       "        })();\n",
       "      </script>\n",
       "    "
      ],
      "text/plain": [
       "<IPython.core.display.HTML object>"
      ]
     },
     "metadata": {},
     "output_type": "display_data"
    }
   ],
   "source": [
    "%tensorboard --logdir=runs/"
   ]
  },
  {
   "cell_type": "code",
   "execution_count": null,
   "id": "unlikely-detective",
   "metadata": {},
   "outputs": [],
   "source": []
  }
 ],
 "metadata": {
  "kernelspec": {
   "display_name": "Python 3",
   "language": "python",
   "name": "python3"
  },
  "language_info": {
   "codemirror_mode": {
    "name": "ipython",
    "version": 3
   },
   "file_extension": ".py",
   "mimetype": "text/x-python",
   "name": "python",
   "nbconvert_exporter": "python",
   "pygments_lexer": "ipython3",
   "version": "3.6.12"
  }
 },
 "nbformat": 4,
 "nbformat_minor": 5
}
