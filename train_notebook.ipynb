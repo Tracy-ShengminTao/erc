{
 "cells": [
  {
   "cell_type": "code",
   "execution_count": 1,
   "id": "lightweight-function",
   "metadata": {},
   "outputs": [
    {
     "name": "stdout",
     "output_type": "stream",
     "text": [
      "Mon Mar  8 04:21:19 2021       \n",
      "+-----------------------------------------------------------------------------+\n",
      "| NVIDIA-SMI 450.102.04   Driver Version: 450.102.04   CUDA Version: 11.0     |\n",
      "|-------------------------------+----------------------+----------------------+\n",
      "| GPU  Name        Persistence-M| Bus-Id        Disp.A | Volatile Uncorr. ECC |\n",
      "| Fan  Temp  Perf  Pwr:Usage/Cap|         Memory-Usage | GPU-Util  Compute M. |\n",
      "|                               |                      |               MIG M. |\n",
      "|===============================+======================+======================|\n",
      "|   0  GeForce GTX 1050    Off  | 00000000:01:00.0 Off |                  N/A |\n",
      "| N/A   47C    P3    N/A /  N/A |   1616MiB /  4042MiB |      0%      Default |\n",
      "|                               |                      |                  N/A |\n",
      "+-------------------------------+----------------------+----------------------+\n",
      "                                                                               \n",
      "+-----------------------------------------------------------------------------+\n",
      "| Processes:                                                                  |\n",
      "|  GPU   GI   CI        PID   Type   Process name                  GPU Memory |\n",
      "|        ID   ID                                                   Usage      |\n",
      "|=============================================================================|\n",
      "|    0   N/A  N/A      1308      G   /usr/lib/xorg/Xorg                 80MiB |\n",
      "|    0   N/A  N/A      2100      G   /usr/lib/xorg/Xorg                195MiB |\n",
      "|    0   N/A  N/A      2278      G   /usr/bin/gnome-shell              208MiB |\n",
      "|    0   N/A  N/A      3884      G   ...AAAAAAAAA= --shared-files      111MiB |\n",
      "|    0   N/A  N/A      4484      G   ...AAAAAAAA== --shared-files      126MiB |\n",
      "|    0   N/A  N/A    177604      C   ...e/kvu/erc/venv/bin/python      883MiB |\n",
      "+-----------------------------------------------------------------------------+\n"
     ]
    }
   ],
   "source": [
    "!nvidia-smi"
   ]
  },
  {
   "cell_type": "code",
   "execution_count": 2,
   "id": "compact-pittsburgh",
   "metadata": {},
   "outputs": [],
   "source": [
    "# import timm\n",
    "# from pprint import pprint\n",
    "# model_names = timm.list_models(pretrained=True)\n",
    "# pprint(model_names)"
   ]
  },
  {
   "cell_type": "code",
   "execution_count": 3,
   "id": "controversial-austria",
   "metadata": {},
   "outputs": [],
   "source": [
    "!rm -rf runs/"
   ]
  },
  {
   "cell_type": "code",
   "execution_count": null,
   "id": "responsible-fourth",
   "metadata": {},
   "outputs": [
    {
     "name": "stdout",
     "output_type": "stream",
     "text": [
      "{ 'dataset': { 'train': { 'args': { 'csv_path': 'data/MELD/raw-audios/train.csv',\n",
      "                                    'data_dir': 'data/MELD/raw-audios-wav/train/',\n",
      "                                    'duration': 4,\n",
      "                                    'format': '.wav',\n",
      "                                    'is_train': True,\n",
      "                                    'n_mels': 128,\n",
      "                                    'sr': 22050},\n",
      "                          'loader': { 'args': { 'batch_size': 4,\n",
      "                                                'drop_last': True,\n",
      "                                                'shuffle': True},\n",
      "                                      'name': 'DataLoader'},\n",
      "                          'name': 'AudioDataset'},\n",
      "               'val': { 'args': { 'csv_path': 'data/MELD/raw-audios/val.csv',\n",
      "                                  'data_dir': 'data/MELD/raw-audios-wav/val/',\n",
      "                                  'duration': 4,\n",
      "                                  'format': '.wav',\n",
      "                                  'is_train': False,\n",
      "                                  'n_mels': 128,\n",
      "                                  'sr': 22050},\n",
      "                        'loader': { 'args': {'batch_size': 4, 'shuffle': True},\n",
      "                                    'name': 'DataLoader'},\n",
      "                        'name': 'AudioDataset'}},\n",
      "  'debug': False,\n",
      "  'gpus': '0',\n",
      "  'id': 'audio_effnet_b0',\n",
      "  'loss': {'args': None, 'name': 'FocalLoss'},\n",
      "  'metric': [{'args': None, 'name': 'Accuracy'}],\n",
      "  'model': { 'args': { 'freeze_backbone': False,\n",
      "                       'from_pretrained': True,\n",
      "                       'name': 'tf_efficientnet_b0_ns',\n",
      "                       'num_classes': 7},\n",
      "             'name': 'BaseTimmModel'},\n",
      "  'optimizer': {'args': {'lr': 1e-05}, 'name': 'Adam'},\n",
      "  'pretrained': None,\n",
      "  'scheduler': { 'args': {'gamma': 0.2, 'last_epoch': -1, 'step_size': 3},\n",
      "                 'name': 'StepLR'},\n",
      "  'trainer': {'log_step': 1, 'nepochs': 10, 'val_step': 1}}\n",
      "\n",
      "Epoch   0\n",
      "-----------------------------------\n",
      "Training........\n",
      " 31%|████████████▎                           | 770/2497 [03:31<09:14,  3.11it/s]"
     ]
    }
   ],
   "source": [
    "!python3 train.py --config configs/MELD_audio_effnet.yaml --gpus 0 "
   ]
  },
  {
   "cell_type": "markdown",
   "id": "creative-shell",
   "metadata": {},
   "source": [
    "## Tensorboard"
   ]
  },
  {
   "cell_type": "code",
   "execution_count": null,
   "id": "polished-citation",
   "metadata": {},
   "outputs": [],
   "source": [
    "%load_ext tensorboard\n",
    "%reload_ext tensorboard"
   ]
  },
  {
   "cell_type": "code",
   "execution_count": null,
   "id": "worse-contributor",
   "metadata": {},
   "outputs": [],
   "source": [
    "%tensorboard --logdir=runs/"
   ]
  },
  {
   "cell_type": "code",
   "execution_count": null,
   "id": "forty-grill",
   "metadata": {},
   "outputs": [],
   "source": []
  }
 ],
 "metadata": {
  "kernelspec": {
   "display_name": "Python 3",
   "language": "python",
   "name": "python3"
  },
  "language_info": {
   "codemirror_mode": {
    "name": "ipython",
    "version": 3
   },
   "file_extension": ".py",
   "mimetype": "text/x-python",
   "name": "python",
   "nbconvert_exporter": "python",
   "pygments_lexer": "ipython3",
   "version": "3.6.12"
  }
 },
 "nbformat": 4,
 "nbformat_minor": 5
}
