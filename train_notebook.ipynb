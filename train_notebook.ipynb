{
 "cells": [
  {
   "cell_type": "code",
   "execution_count": 1,
   "id": "parliamentary-ownership",
   "metadata": {},
   "outputs": [
    {
     "name": "stdout",
     "output_type": "stream",
     "text": [
      "Wed Feb  3 01:47:11 2021       \n",
      "+-----------------------------------------------------------------------------+\n",
      "| NVIDIA-SMI 450.102.04   Driver Version: 450.102.04   CUDA Version: 11.0     |\n",
      "|-------------------------------+----------------------+----------------------+\n",
      "| GPU  Name        Persistence-M| Bus-Id        Disp.A | Volatile Uncorr. ECC |\n",
      "| Fan  Temp  Perf  Pwr:Usage/Cap|         Memory-Usage | GPU-Util  Compute M. |\n",
      "|                               |                      |               MIG M. |\n",
      "|===============================+======================+======================|\n",
      "|   0  GeForce GTX 1050    Off  | 00000000:01:00.0 Off |                  N/A |\n",
      "| N/A   48C    P3    N/A /  N/A |    642MiB /  4042MiB |     10%      Default |\n",
      "|                               |                      |                  N/A |\n",
      "+-------------------------------+----------------------+----------------------+\n",
      "                                                                               \n",
      "+-----------------------------------------------------------------------------+\n",
      "| Processes:                                                                  |\n",
      "|  GPU   GI   CI        PID   Type   Process name                  GPU Memory |\n",
      "|        ID   ID                                                   Usage      |\n",
      "|=============================================================================|\n",
      "|    0   N/A  N/A      1351      G   /usr/lib/xorg/Xorg                 80MiB |\n",
      "|    0   N/A  N/A      2471      G   /usr/lib/xorg/Xorg                167MiB |\n",
      "|    0   N/A  N/A      2647      G   /usr/bin/gnome-shell              156MiB |\n",
      "|    0   N/A  N/A    111787      G   ...AAAAAAAAA= --shared-files      142MiB |\n",
      "|    0   N/A  N/A    265825      G   ...AAAAAAAAA= --shared-files       87MiB |\n",
      "+-----------------------------------------------------------------------------+\n"
     ]
    }
   ],
   "source": [
    "!nvidia-smi"
   ]
  },
  {
   "cell_type": "code",
   "execution_count": 1,
   "id": "informational-database",
   "metadata": {},
   "outputs": [
    {
     "name": "stdout",
     "output_type": "stream",
     "text": [
      "{ 'dataset': { 'folds_test_dir': None,\n",
      "               'folds_train_dir': None,\n",
      "               'num_folds': None,\n",
      "               'train': { 'args': { 'IMG_SIZE': 224,\n",
      "                                    'csv_path': 'Datasets/MELD-single-frame/train.csv',\n",
      "                                    'data_dir': 'data/train/',\n",
      "                                    'is_train': True},\n",
      "                          'loader': { 'args': { 'batch_size': 8,\n",
      "                                                'drop_last': False,\n",
      "                                                'shuffle': True},\n",
      "                                      'name': 'DataLoader'},\n",
      "                          'name': 'DatasetAdvance'},\n",
      "               'val': { 'args': { 'IMG_SIZE': 224,\n",
      "                                  'csv_path': 'Datasets/MELD-single-frame/dev.csv',\n",
      "                                  'data_dir': 'data/dev/',\n",
      "                                  'is_train': False},\n",
      "                        'loader': { 'args': {'batch_size': 8, 'shuffle': True},\n",
      "                                    'name': 'DataLoader'},\n",
      "                        'name': 'DatasetAdvance'}},\n",
      "  'debug': False,\n",
      "  'gpus': '0',\n",
      "  'id': 'effnet_b3',\n",
      "  'loss': {'args': None, 'name': 'CrossEntropyLoss'},\n",
      "  'metric': [{'args': None, 'name': 'Accuracy'}],\n",
      "  'model': { 'args': { 'freeze_backbone': False,\n",
      "                       'from_pretrained': True,\n",
      "                       'num_classes': 7,\n",
      "                       'version': 3},\n",
      "             'name': 'BaseModel'},\n",
      "  'optimizer': {'args': {'lr': 0.0001}, 'name': 'Adam'},\n",
      "  'pretrained': None,\n",
      "  'scheduler': { 'args': {'gamma': 0.2, 'last_epoch': -1, 'step_size': 3},\n",
      "                 'name': 'StepLR'},\n",
      "  'trainer': {'log_step': 1, 'nepochs': 20, 'val_step': 1}}\n",
      "Loaded pretrained weights for efficientnet-b3\n",
      "\n",
      "Epoch   0\n",
      "-----------------------------------\n",
      "Training........\n",
      "100%|█████████████████████████████████████████| 941/941 [08:07<00:00,  1.93it/s]\n",
      "+ Training result\n",
      "Loss: 1.6380662712863345\n",
      "Accuracy: 0.4341353178024292\n",
      "Evaluating........\n",
      "100%|█████████████████████████████████████████| 108/108 [00:13<00:00,  7.79it/s]\n",
      "+ Evaluation result\n",
      "Loss: 1.6899819495501345\n",
      "Accuracy: 0.3581395447254181\n",
      "-----------------------------------\n",
      "/home/kvu/erc/venv/lib/python3.8/site-packages/torch/optim/lr_scheduler.py:156: UserWarning: The epoch parameter in `scheduler.step()` was not necessary and is being deprecated where possible. Please use `scheduler.step()` to step the scheduler. During the deprecation, if epoch is different from None, the closed form is used instead of the new chainable form, where available. Please open an issue if you are unable to replicate your use case: https://github.com/pytorch/pytorch/issues/new/choose.\n",
      "  warnings.warn(EPOCH_DEPRECATION_WARNING, UserWarning)\n",
      "Loss is improved from  inf to  1.689982. Saving weights...\n",
      "Accuracy is improved from  0.000000 to  0.358140. Saving weights...\n",
      "\n",
      "Epoch   1\n",
      "-----------------------------------\n",
      "Training........\n",
      "  9%|███▉                                      | 88/941 [00:38<05:53,  2.42it/s]^C\n",
      "  9%|███▉                                      | 88/941 [00:39<06:20,  2.24it/s]\n",
      "Traceback (most recent call last):\n",
      "  File \"train.py\", line 119, in <module>\n",
      "    train(config)\n",
      "  File \"train.py\", line 93, in train\n",
      "    trainer.train(train_dataloader=train_dataloader, val_dataloader=val_dataloader)\n",
      "  File \"./libs/workers/trainer.py\", line 174, in train\n",
      "    self.train_epoch(epoch=epoch, dataloader=train_dataloader)\n",
      "  File \"./libs/workers/trainer.py\", line 99, in train_epoch\n",
      "    loss.backward()\n",
      "  File \"/home/kvu/erc/venv/lib/python3.8/site-packages/torch/tensor.py\", line 221, in backward\n",
      "    torch.autograd.backward(self, gradient, retain_graph, create_graph)\n",
      "  File \"/home/kvu/erc/venv/lib/python3.8/site-packages/torch/autograd/__init__.py\", line 130, in backward\n",
      "    Variable._execution_engine.run_backward(\n",
      "KeyboardInterrupt\n"
     ]
    }
   ],
   "source": [
    "!python3 train.py --config configs/effnet.yaml --gpus 0 "
   ]
  },
  {
   "cell_type": "code",
   "execution_count": null,
   "id": "aerial-letters",
   "metadata": {},
   "outputs": [],
   "source": []
  }
 ],
 "metadata": {
  "kernelspec": {
   "display_name": "Python 3",
   "language": "python",
   "name": "python3"
  },
  "language_info": {
   "codemirror_mode": {
    "name": "ipython",
    "version": 3
   },
   "file_extension": ".py",
   "mimetype": "text/x-python",
   "name": "python",
   "nbconvert_exporter": "python",
   "pygments_lexer": "ipython3",
   "version": "3.8.5"
  }
 },
 "nbformat": 4,
 "nbformat_minor": 5
}
