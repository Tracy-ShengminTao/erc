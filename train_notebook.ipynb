{
 "cells": [
  {
   "cell_type": "code",
   "execution_count": 1,
   "id": "6b3598b4",
   "metadata": {},
   "outputs": [
    {
     "name": "stdout",
     "output_type": "stream",
     "text": [
      "Mon Apr 12 22:04:09 2021       \n",
      "+-----------------------------------------------------------------------------+\n",
      "| NVIDIA-SMI 460.39       Driver Version: 460.39       CUDA Version: 11.2     |\n",
      "|-------------------------------+----------------------+----------------------+\n",
      "| GPU  Name        Persistence-M| Bus-Id        Disp.A | Volatile Uncorr. ECC |\n",
      "| Fan  Temp  Perf  Pwr:Usage/Cap|         Memory-Usage | GPU-Util  Compute M. |\n",
      "|                               |                      |               MIG M. |\n",
      "|===============================+======================+======================|\n",
      "|   0  GeForce GTX 1050    Off  | 00000000:01:00.0 Off |                  N/A |\n",
      "| N/A   69C    P0    N/A /  N/A |   1189MiB /  4042MiB |      0%      Default |\n",
      "|                               |                      |                  N/A |\n",
      "+-------------------------------+----------------------+----------------------+\n",
      "                                                                               \n",
      "+-----------------------------------------------------------------------------+\n",
      "| Processes:                                                                  |\n",
      "|  GPU   GI   CI        PID   Type   Process name                  GPU Memory |\n",
      "|        ID   ID                                                   Usage      |\n",
      "|=============================================================================|\n",
      "|    0   N/A  N/A      1049      G   /usr/lib/xorg/Xorg                233MiB |\n",
      "|    0   N/A  N/A      1590      G   /usr/bin/gnome-shell               74MiB |\n",
      "|    0   N/A  N/A      3143      G   ...AAAAAAAAA= --shared-files      125MiB |\n",
      "|    0   N/A  N/A     15101      G   ...AAAAAAAA== --shared-files       32MiB |\n",
      "|    0   N/A  N/A     39852      C   .../kvu/erc/venv/bin/python3      719MiB |\n",
      "+-----------------------------------------------------------------------------+\n"
     ]
    }
   ],
   "source": [
    "!nvidia-smi"
   ]
  },
  {
   "cell_type": "code",
   "execution_count": 2,
   "id": "b84725a5",
   "metadata": {},
   "outputs": [],
   "source": [
    "!rm -rf runs/"
   ]
  },
  {
   "cell_type": "code",
   "execution_count": 3,
   "id": "4627374b",
   "metadata": {},
   "outputs": [
    {
     "name": "stdout",
     "output_type": "stream",
     "text": [
      "{ 'dataset': { 'train': { 'args': { 'audio_feat_dir': 'Datasets/MELD/audio-features/train/',\n",
      "                                    'csv_path': 'data/raw-audios-wav/train.csv',\n",
      "                                    'text_feat_dir': 'Datasets/MELD/text-features/train/'},\n",
      "                          'loader': { 'args': { 'batch_size': 8,\n",
      "                                                'drop_last': True,\n",
      "                                                'shuffle': True},\n",
      "                                      'name': 'DataLoader'},\n",
      "                          'name': 'AudioTextFeatureVectorDataset'},\n",
      "               'val': { 'args': { 'audio_feat_dir': 'Datasets/MELD/audio-features/val/',\n",
      "                                  'csv_path': 'data/raw-audios-wav/val.csv',\n",
      "                                  'text_feat_dir': 'Datasets/MELD/text-features/val/'},\n",
      "                        'loader': { 'args': { 'batch_size': 8,\n",
      "                                              'drop_last': True,\n",
      "                                              'shuffle': True},\n",
      "                                    'name': 'DataLoader'},\n",
      "                        'name': 'AudioTextFeatureVectorDataset'}},\n",
      "  'debug': False,\n",
      "  'gpus': '0',\n",
      "  'id': 'single_utterance_multimodal_fusion',\n",
      "  'loss': { 'args': {'alpha': 0.75, 'gamma': 2, 'reduce': True},\n",
      "            'name': 'FocalLoss'},\n",
      "  'metric': [{'args': None, 'name': 'F1Weighted'}],\n",
      "  'model': {'args': {'num_classes': 7}, 'name': 'FusionModel'},\n",
      "  'optimizer': {'args': {'lr': 3e-05}, 'name': 'Adam'},\n",
      "  'pretrained': None,\n",
      "  'scheduler': { 'args': {'factor': 0.8, 'patience': 2},\n",
      "                 'name': 'ReduceLROnPlateau'},\n",
      "  'trainer': {'log_step': 1, 'nepochs': 3, 'val_step': 1}}\n",
      "\n",
      "Epoch   0\n",
      "-----------------------------------\n",
      "Training........\n",
      "100%|███████████████████████████████████████| 1248/1248 [00:22<00:00, 56.37it/s]\n",
      "+ Training result\n",
      "Loss: 0.27989384738565337\n",
      "F1 weighted: 0.7221690895057463\n",
      "Evaluating........\n",
      "100%|████████████████████████████████████████| 138/138 [00:00<00:00, 184.12it/s]\n",
      "+ Evaluation result\n",
      "Loss: 0.39116583253337966\n",
      "F1 weighted: 0.6514402516183857\n",
      "-----------------------------------\n",
      "Loss is improved from  inf to  0.391166. Saving weights...\n",
      "F1Weighted is improved from  0.000000 to  0.651440. Saving weights...\n",
      "\n",
      "Epoch   1\n",
      "-----------------------------------\n",
      "Training........\n",
      "100%|███████████████████████████████████████| 1248/1248 [00:22<00:00, 56.58it/s]\n",
      "+ Training result\n",
      "Loss: 0.21943502587497188\n",
      "F1 weighted: 0.7514291863291174\n",
      "Evaluating........\n",
      "100%|████████████████████████████████████████| 138/138 [00:00<00:00, 167.78it/s]\n",
      "+ Evaluation result\n",
      "Loss: 0.433167945409693\n",
      "F1 weighted: 0.6405786670346443\n",
      "-----------------------------------\n",
      "Loss is not improved from 0.391166.\n",
      "F1Weighted is not improved from 0.651440.\n",
      "\n",
      "Epoch   2\n",
      "-----------------------------------\n",
      "Training........\n",
      "100%|███████████████████████████████████████| 1248/1248 [00:22<00:00, 55.94it/s]\n",
      "+ Training result\n",
      "Loss: 0.21431423330530097\n",
      "F1 weighted: 0.7540390246243058\n",
      "Evaluating........\n",
      "100%|████████████████████████████████████████| 138/138 [00:00<00:00, 182.38it/s]\n",
      "+ Evaluation result\n",
      "Loss: 0.4034578258836426\n",
      "F1 weighted: 0.6345808978681162\n",
      "-----------------------------------\n",
      "Loss is not improved from 0.391166.\n",
      "F1Weighted is not improved from 0.651440.\n"
     ]
    }
   ],
   "source": [
    "!python3 train.py --config configs/multimodal_single.yaml --gpus 0 "
   ]
  },
  {
   "cell_type": "markdown",
   "id": "b2206238",
   "metadata": {},
   "source": [
    "## Tensorboard"
   ]
  },
  {
   "cell_type": "code",
   "execution_count": 4,
   "id": "0ebd1c60",
   "metadata": {},
   "outputs": [],
   "source": [
    "%load_ext tensorboard\n",
    "%reload_ext tensorboard"
   ]
  },
  {
   "cell_type": "code",
   "execution_count": 5,
   "id": "441a89e0",
   "metadata": {},
   "outputs": [
    {
     "data": {
      "text/plain": [
       "Reusing TensorBoard on port 6006 (pid 30205), started 1:38:27 ago. (Use '!kill 30205' to kill it.)"
      ]
     },
     "metadata": {},
     "output_type": "display_data"
    },
    {
     "data": {
      "text/html": [
       "\n",
       "      <iframe id=\"tensorboard-frame-99466d4ef69a0bd\" width=\"100%\" height=\"800\" frameborder=\"0\">\n",
       "      </iframe>\n",
       "      <script>\n",
       "        (function() {\n",
       "          const frame = document.getElementById(\"tensorboard-frame-99466d4ef69a0bd\");\n",
       "          const url = new URL(\"/\", window.location);\n",
       "          const port = 6006;\n",
       "          if (port) {\n",
       "            url.port = port;\n",
       "          }\n",
       "          frame.src = url;\n",
       "        })();\n",
       "      </script>\n",
       "    "
      ],
      "text/plain": [
       "<IPython.core.display.HTML object>"
      ]
     },
     "metadata": {},
     "output_type": "display_data"
    }
   ],
   "source": [
    "%tensorboard --logdir=runs/"
   ]
  },
  {
   "cell_type": "code",
   "execution_count": null,
   "id": "d126368f",
   "metadata": {},
   "outputs": [],
   "source": []
  }
 ],
 "metadata": {
  "kernelspec": {
   "display_name": "Python 3",
   "language": "python",
   "name": "python3"
  },
  "language_info": {
   "codemirror_mode": {
    "name": "ipython",
    "version": 3
   },
   "file_extension": ".py",
   "mimetype": "text/x-python",
   "name": "python",
   "nbconvert_exporter": "python",
   "pygments_lexer": "ipython3",
   "version": "3.8.5"
  }
 },
 "nbformat": 4,
 "nbformat_minor": 5
}
