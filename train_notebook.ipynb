{
 "cells": [
  {
   "cell_type": "code",
   "execution_count": 1,
   "id": "cd8f8fb3",
   "metadata": {},
   "outputs": [
    {
     "name": "stdout",
     "output_type": "stream",
     "text": [
      "Tue Apr 20 22:53:40 2021       \n",
      "+-----------------------------------------------------------------------------+\n",
      "| NVIDIA-SMI 460.56       Driver Version: 460.56       CUDA Version: 11.2     |\n",
      "|-------------------------------+----------------------+----------------------+\n",
      "| GPU  Name        Persistence-M| Bus-Id        Disp.A | Volatile Uncorr. ECC |\n",
      "| Fan  Temp  Perf  Pwr:Usage/Cap|         Memory-Usage | GPU-Util  Compute M. |\n",
      "|                               |                      |               MIG M. |\n",
      "|===============================+======================+======================|\n",
      "|   0  GeForce GTX 1050    Off  | 00000000:01:00.0 Off |                  N/A |\n",
      "| N/A   51C    P0    N/A /  N/A |   1335MiB /  4042MiB |      0%      Default |\n",
      "|                               |                      |                  N/A |\n",
      "+-------------------------------+----------------------+----------------------+\n",
      "                                                                               \n",
      "+-----------------------------------------------------------------------------+\n",
      "| Processes:                                                                  |\n",
      "|  GPU   GI   CI        PID   Type   Process name                  GPU Memory |\n",
      "|        ID   ID                                                   Usage      |\n",
      "|=============================================================================|\n",
      "|    0   N/A  N/A      1051      G   /usr/lib/xorg/Xorg                199MiB |\n",
      "|    0   N/A  N/A      1416      G   /usr/bin/gnome-shell               55MiB |\n",
      "|    0   N/A  N/A      2961      G   ...AAAAAAAAA= --shared-files      245MiB |\n",
      "|    0   N/A  N/A      3498      G   ...AAAAAAAA== --shared-files       37MiB |\n",
      "|    0   N/A  N/A     32199      C   .../kvu/erc/venv/bin/python3      793MiB |\n",
      "+-----------------------------------------------------------------------------+\n"
     ]
    }
   ],
   "source": [
    "!nvidia-smi"
   ]
  },
  {
   "cell_type": "code",
   "execution_count": 2,
   "id": "1a560b73",
   "metadata": {},
   "outputs": [],
   "source": [
    "!rm -rf runs/"
   ]
  },
  {
   "cell_type": "code",
   "execution_count": null,
   "id": "102ff04a",
   "metadata": {},
   "outputs": [
    {
     "name": "stdout",
     "output_type": "stream",
     "text": [
      "{ 'dataset': { 'train': { 'args': { 'audio_feat_dir': 'Datasets/MELD/audio-features/train/',\n",
      "                                    'csv_path': 'data/raw-audios-wav/train.csv',\n",
      "                                    'dataset': 'train',\n",
      "                                    'num_utt': 10,\n",
      "                                    'ordered_json_list': 'Datasets/MELD/utterance-ordered.json',\n",
      "                                    'text_feat_dir': 'Datasets/MELD/text-features/train/'},\n",
      "                          'loader': { 'args': { 'batch_size': 8,\n",
      "                                                'drop_last': True,\n",
      "                                                'shuffle': True},\n",
      "                                      'name': 'DataLoader'},\n",
      "                          'name': 'ContextAwareDataset'},\n",
      "               'val': { 'args': { 'audio_feat_dir': 'Datasets/MELD/audio-features/test/',\n",
      "                                  'csv_path': 'data/raw-audios-wav/test.csv',\n",
      "                                  'dataset': 'test',\n",
      "                                  'num_utt': 10,\n",
      "                                  'ordered_json_list': 'Datasets/MELD/utterance-ordered.json',\n",
      "                                  'text_feat_dir': 'Datasets/MELD/text-features/test/'},\n",
      "                        'loader': { 'args': { 'batch_size': 8,\n",
      "                                              'drop_last': True,\n",
      "                                              'shuffle': True},\n",
      "                                    'name': 'DataLoader'},\n",
      "                        'name': 'ContextAwareDataset'}},\n",
      "  'debug': False,\n",
      "  'gpus': '0',\n",
      "  'id': 'context_aware_multimodal_fusion',\n",
      "  'loss': { 'args': {'alpha': 0.75, 'gamma': 3, 'reduce': True},\n",
      "            'name': 'FocalLoss'},\n",
      "  'metric': [{'args': None, 'name': 'F1Weighted'}],\n",
      "  'model': { 'args': { 'AUDIO_FEAT_DIM': 1280,\n",
      "                       'EMB_DIM': 256,\n",
      "                       'TEXT_FEAT_DIM': 1024,\n",
      "                       'num_classes': 7,\n",
      "                       'use_concat': False},\n",
      "             'name': 'ContextAwareModel'},\n",
      "  'optimizer': {'args': {'lr': 3e-05}, 'name': 'Adam'},\n",
      "  'pretrained': None,\n",
      "  'scheduler': { 'args': {'gamma': 0.2, 'last_epoch': -1, 'step_size': 1},\n",
      "                 'name': 'StepLR'},\n",
      "  'trainer': {'log_step': 1, 'nepochs': 10, 'val_step': 1}}\n",
      "\n",
      "Epoch   0\n",
      "-----------------------------------\n",
      "Training........\n",
      "100%|███████████████████████████████████████| 1248/1248 [08:44<00:00,  2.38it/s]\n",
      "+ Training result\n",
      "Loss: 0.2334154361583504\n",
      "F1 weighted: 0.6837093509011979\n",
      "Evaluating........\n",
      "100%|█████████████████████████████████████████| 326/326 [00:38<00:00,  8.57it/s]\n",
      "+ Evaluation result\n",
      "Loss: 0.3614985003661754\n",
      "F1 weighted: 0.632131937470482\n",
      "-----------------------------------\n",
      "Loss is improved from  inf to  0.361499. Saving weights...\n",
      "F1Weighted is improved from  0.000000 to  0.632132. Saving weights...\n",
      "\n",
      "Epoch   1\n",
      "-----------------------------------\n",
      "Training........\n",
      "100%|███████████████████████████████████████| 1248/1248 [08:52<00:00,  2.35it/s]\n",
      "+ Training result\n",
      "Loss: 0.15758974189593106\n",
      "F1 weighted: 0.728335452847984\n",
      "Evaluating........\n",
      "100%|█████████████████████████████████████████| 326/326 [00:40<00:00,  8.00it/s]\n",
      "+ Evaluation result\n",
      "Loss: 0.2642717924771794\n",
      "F1 weighted: 0.6527945072004746\n",
      "-----------------------------------\n",
      "Loss is improved from  0.361499 to  0.264272. Saving weights...\n",
      "F1Weighted is improved from  0.632132 to  0.652795. Saving weights...\n",
      "\n",
      "Epoch   2\n",
      "-----------------------------------\n",
      "Training........\n",
      "100%|███████████████████████████████████████| 1248/1248 [08:35<00:00,  2.42it/s]\n",
      "+ Training result\n",
      "Loss: 0.14712751224059928\n",
      "F1 weighted: 0.7416711687067126\n",
      "Evaluating........\n",
      "100%|█████████████████████████████████████████| 326/326 [00:38<00:00,  8.54it/s]\n",
      "+ Evaluation result\n",
      "Loss: 0.4388840119877135\n",
      "F1 weighted: 0.5988972079523412\n",
      "-----------------------------------\n",
      "Loss is not improved from 0.264272.\n",
      "F1Weighted is not improved from 0.652795.\n",
      "\n",
      "Epoch   3\n",
      "-----------------------------------\n",
      "Training........\n",
      "100%|███████████████████████████████████████| 1248/1248 [08:20<00:00,  2.49it/s]\n",
      "+ Training result\n",
      "Loss: 0.1402100994090082\n",
      "F1 weighted: 0.75601360641179\n",
      "Evaluating........\n",
      "100%|█████████████████████████████████████████| 326/326 [00:38<00:00,  8.54it/s]\n",
      "+ Evaluation result\n",
      "Loss: 0.32476455892160866\n",
      "F1 weighted: 0.6148962410826244\n",
      "-----------------------------------\n",
      "Loss is not improved from 0.264272.\n",
      "F1Weighted is not improved from 0.652795.\n",
      "\n",
      "Epoch   4\n",
      "-----------------------------------\n",
      "Training........\n",
      " 20%|████████                                | 253/1248 [01:42<06:22,  2.60it/s]"
     ]
    }
   ],
   "source": [
    "!python3 train.py --config configs/context_aware.yaml --gpus 0 "
   ]
  },
  {
   "cell_type": "markdown",
   "id": "176877e1",
   "metadata": {},
   "source": [
    "## Tensorboard"
   ]
  },
  {
   "cell_type": "code",
   "execution_count": null,
   "id": "7b576b84",
   "metadata": {},
   "outputs": [],
   "source": [
    "%load_ext tensorboard\n",
    "%reload_ext tensorboard"
   ]
  },
  {
   "cell_type": "code",
   "execution_count": null,
   "id": "a093f63c",
   "metadata": {},
   "outputs": [],
   "source": [
    "%tensorboard --logdir=runs/"
   ]
  },
  {
   "cell_type": "code",
   "execution_count": null,
   "id": "526a136e",
   "metadata": {},
   "outputs": [],
   "source": []
  }
 ],
 "metadata": {
  "kernelspec": {
   "display_name": "Python 3",
   "language": "python",
   "name": "python3"
  },
  "language_info": {
   "codemirror_mode": {
    "name": "ipython",
    "version": 3
   },
   "file_extension": ".py",
   "mimetype": "text/x-python",
   "name": "python",
   "nbconvert_exporter": "python",
   "pygments_lexer": "ipython3",
   "version": "3.8.5"
  }
 },
 "nbformat": 4,
 "nbformat_minor": 5
}
