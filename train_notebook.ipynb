{
 "cells": [
  {
   "cell_type": "code",
   "execution_count": 1,
   "id": "dirty-ticket",
   "metadata": {},
   "outputs": [
    {
     "name": "stdout",
     "output_type": "stream",
     "text": [
      "Mon Mar  8 14:59:57 2021       \n",
      "+-----------------------------------------------------------------------------+\n",
      "| NVIDIA-SMI 450.102.04   Driver Version: 450.102.04   CUDA Version: 11.0     |\n",
      "|-------------------------------+----------------------+----------------------+\n",
      "| GPU  Name        Persistence-M| Bus-Id        Disp.A | Volatile Uncorr. ECC |\n",
      "| Fan  Temp  Perf  Pwr:Usage/Cap|         Memory-Usage | GPU-Util  Compute M. |\n",
      "|                               |                      |               MIG M. |\n",
      "|===============================+======================+======================|\n",
      "|   0  GeForce GTX 1050    Off  | 00000000:01:00.0 Off |                  N/A |\n",
      "| N/A   49C    P3    N/A /  N/A |   1875MiB /  4042MiB |      2%      Default |\n",
      "|                               |                      |                  N/A |\n",
      "+-------------------------------+----------------------+----------------------+\n",
      "                                                                               \n",
      "+-----------------------------------------------------------------------------+\n",
      "| Processes:                                                                  |\n",
      "|  GPU   GI   CI        PID   Type   Process name                  GPU Memory |\n",
      "|        ID   ID                                                   Usage      |\n",
      "|=============================================================================|\n",
      "|    0   N/A  N/A      1392      G   /usr/lib/xorg/Xorg                 80MiB |\n",
      "|    0   N/A  N/A      6779      G   /usr/lib/xorg/Xorg                175MiB |\n",
      "|    0   N/A  N/A      6966      G   /usr/bin/gnome-shell              171MiB |\n",
      "|    0   N/A  N/A      8131      G   ...AAAAAAAAA= --shared-files      245MiB |\n",
      "|    0   N/A  N/A     10103      G   ...AAAAAAAA== --shared-files      249MiB |\n",
      "|    0   N/A  N/A     13621      C   ...e/kvu/erc/venv/bin/python      943MiB |\n",
      "+-----------------------------------------------------------------------------+\n"
     ]
    }
   ],
   "source": [
    "!nvidia-smi"
   ]
  },
  {
   "cell_type": "code",
   "execution_count": 2,
   "id": "fuzzy-audio",
   "metadata": {},
   "outputs": [],
   "source": [
    "# import timm\n",
    "# from pprint import pprint\n",
    "# model_names = timm.list_models(pretrained=True)\n",
    "# pprint(model_names)"
   ]
  },
  {
   "cell_type": "code",
   "execution_count": 3,
   "id": "documented-education",
   "metadata": {},
   "outputs": [],
   "source": [
    "!rm -rf runs/"
   ]
  },
  {
   "cell_type": "code",
   "execution_count": 4,
   "id": "vietnamese-toner",
   "metadata": {},
   "outputs": [
    {
     "name": "stdout",
     "output_type": "stream",
     "text": [
      "{ 'dataset': { 'train': { 'args': { 'csv_path': 'data/MELD/raw-audios/train.csv',\n",
      "                                    'data_dir': 'data/MELD/raw-audios-wav/train/',\n",
      "                                    'duration': 8,\n",
      "                                    'format': '.wav',\n",
      "                                    'is_train': True,\n",
      "                                    'n_mels': 128,\n",
      "                                    'sr': 22050},\n",
      "                          'loader': { 'args': { 'batch_size': 4,\n",
      "                                                'drop_last': True,\n",
      "                                                'shuffle': True},\n",
      "                                      'name': 'DataLoader'},\n",
      "                          'name': 'AudioDataset'},\n",
      "               'val': { 'args': { 'csv_path': 'data/MELD/raw-audios/val.csv',\n",
      "                                  'data_dir': 'data/MELD/raw-audios-wav/val/',\n",
      "                                  'duration': 8,\n",
      "                                  'format': '.wav',\n",
      "                                  'is_train': False,\n",
      "                                  'n_mels': 128,\n",
      "                                  'sr': 22050},\n",
      "                        'loader': { 'args': {'batch_size': 4, 'shuffle': True},\n",
      "                                    'name': 'DataLoader'},\n",
      "                        'name': 'AudioDataset'}},\n",
      "  'debug': False,\n",
      "  'gpus': '0',\n",
      "  'id': 'audio_effnet_b0',\n",
      "  'loss': {'args': None, 'name': 'FocalLoss'},\n",
      "  'metric': [{'args': None, 'name': 'F1Weighted'}],\n",
      "  'model': { 'args': { 'freeze_backbone': False,\n",
      "                       'from_pretrained': True,\n",
      "                       'name': 'tf_efficientnet_b0_ns',\n",
      "                       'num_classes': 7},\n",
      "             'name': 'BaseTimmModel'},\n",
      "  'optimizer': {'args': {'lr': 1e-05}, 'name': 'Adam'},\n",
      "  'pretrained': None,\n",
      "  'scheduler': { 'args': {'gamma': 0.2, 'last_epoch': -1, 'step_size': 3},\n",
      "                 'name': 'StepLR'},\n",
      "  'trainer': {'log_step': 1, 'nepochs': 10, 'val_step': 1}}\n",
      "\n",
      "Epoch   0\n",
      "-----------------------------------\n",
      "Training........\n",
      "100%|███████████████████████████████████████| 2497/2497 [15:22<00:00,  2.71it/s]\n",
      "+ Training result\n",
      "Loss: 1.64962980825518\n",
      "F1 weighted: 0.5498314829133091\n",
      "Evaluating........\n",
      "100%|█████████████████████████████████████████| 277/277 [01:00<00:00,  4.59it/s]\n",
      "+ Evaluation result\n",
      "Loss: 1.6674511368093938\n",
      "F1 weighted: 0.5681533539124909\n",
      "-----------------------------------\n",
      "Loss is improved from  inf to  1.667451. Saving weights...\n",
      "F1Weighted is improved from  0.000000 to  0.568153. Saving weights...\n",
      "\n",
      "Epoch   1\n",
      "-----------------------------------\n",
      "Training........\n",
      " 14%|█████▊                                  | 359/2497 [01:59<12:32,  2.84it/s]^C\n",
      " 14%|█████▊                                  | 359/2497 [02:00<11:54,  2.99it/s]\n",
      "Traceback (most recent call last):\n",
      "  File \"train.py\", line 120, in <module>\n",
      "    train(config)\n",
      "  File \"train.py\", line 93, in train\n",
      "    val_dataloader=val_dataloader)\n",
      "  File \"./libs/workers/trainer.py\", line 187, in train\n",
      "    self.train_epoch(epoch=epoch, dataloader=train_dataloader)\n",
      "  File \"./libs/workers/trainer.py\", line 110, in train_epoch\n",
      "    torch.nn.utils.clip_grad_norm_(self.model.parameters(), self.max_grad_norm)\n",
      "  File \"/home/kvu/erc/venv/lib/python3.6/site-packages/torch/nn/utils/clip_grad.py\", line 40, in clip_grad_norm_\n",
      "    p.grad.detach().mul_(clip_coef.to(p.grad.device))\n",
      "  File \"/home/kvu/erc/venv/lib/python3.6/site-packages/torch/tensor.py\", line 947, in grad\n",
      "    if self.requires_grad and not hasattr(self, \"retains_grad\") and not self.is_leaf and self._grad is None:\n",
      "KeyboardInterrupt\n"
     ]
    }
   ],
   "source": [
    "!python3 train.py --config configs/MELD_audio_effnet.yaml --gpus 0 "
   ]
  },
  {
   "cell_type": "markdown",
   "id": "outstanding-sheffield",
   "metadata": {},
   "source": [
    "## Tensorboard"
   ]
  },
  {
   "cell_type": "code",
   "execution_count": 5,
   "id": "impossible-floor",
   "metadata": {},
   "outputs": [],
   "source": [
    "%load_ext tensorboard\n",
    "%reload_ext tensorboard"
   ]
  },
  {
   "cell_type": "code",
   "execution_count": 6,
   "id": "martial-exclusion",
   "metadata": {},
   "outputs": [
    {
     "data": {
      "text/plain": [
       "Reusing TensorBoard on port 6006 (pid 11893), started 2:08:23 ago. (Use '!kill 11893' to kill it.)"
      ]
     },
     "metadata": {},
     "output_type": "display_data"
    },
    {
     "data": {
      "text/html": [
       "\n",
       "      <iframe id=\"tensorboard-frame-b43257378529da83\" width=\"100%\" height=\"800\" frameborder=\"0\">\n",
       "      </iframe>\n",
       "      <script>\n",
       "        (function() {\n",
       "          const frame = document.getElementById(\"tensorboard-frame-b43257378529da83\");\n",
       "          const url = new URL(\"/\", window.location);\n",
       "          const port = 6006;\n",
       "          if (port) {\n",
       "            url.port = port;\n",
       "          }\n",
       "          frame.src = url;\n",
       "        })();\n",
       "      </script>\n",
       "    "
      ],
      "text/plain": [
       "<IPython.core.display.HTML object>"
      ]
     },
     "metadata": {},
     "output_type": "display_data"
    }
   ],
   "source": [
    "%tensorboard --logdir=runs/"
   ]
  },
  {
   "cell_type": "code",
   "execution_count": null,
   "id": "indian-cabin",
   "metadata": {},
   "outputs": [],
   "source": []
  }
 ],
 "metadata": {
  "kernelspec": {
   "display_name": "Python 3",
   "language": "python",
   "name": "python3"
  },
  "language_info": {
   "codemirror_mode": {
    "name": "ipython",
    "version": 3
   },
   "file_extension": ".py",
   "mimetype": "text/x-python",
   "name": "python",
   "nbconvert_exporter": "python",
   "pygments_lexer": "ipython3",
   "version": "3.6.12"
  }
 },
 "nbformat": 4,
 "nbformat_minor": 5
}
