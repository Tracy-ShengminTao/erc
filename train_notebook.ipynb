{
 "cells": [
  {
   "cell_type": "code",
   "execution_count": 1,
   "id": "a13e65c1",
   "metadata": {},
   "outputs": [
    {
     "name": "stdout",
     "output_type": "stream",
     "text": [
      "Failed to initialize NVML: Driver/library version mismatch\n"
     ]
    }
   ],
   "source": [
    "!nvidia-smi"
   ]
  },
  {
   "cell_type": "code",
   "execution_count": 2,
   "id": "ab869a8e",
   "metadata": {},
   "outputs": [],
   "source": [
    "!rm -rf runs/"
   ]
  },
  {
   "cell_type": "code",
   "execution_count": null,
   "id": "b16d4cf8",
   "metadata": {},
   "outputs": [
    {
     "name": "stdout",
     "output_type": "stream",
     "text": [
      "{ 'dataset': { 'train': { 'args': { 'audio_feat_dir': 'Datasets/MELD/audio-features/train/',\n",
      "                                    'csv_path': 'data/raw-audios-wav/train.csv',\n",
      "                                    'dataset': 'train',\n",
      "                                    'num_utt': 2,\n",
      "                                    'ordered_json_list': 'Datasets/MELD/utterance-ordered.json',\n",
      "                                    'text_feat_dir': 'Datasets/MELD/text-features/train/'},\n",
      "                          'loader': { 'args': { 'batch_size': 8,\n",
      "                                                'drop_last': True,\n",
      "                                                'shuffle': True},\n",
      "                                      'name': 'DataLoader'},\n",
      "                          'name': 'ContextAwareDataset'},\n",
      "               'val': { 'args': { 'audio_feat_dir': 'Datasets/MELD/audio-features/val/',\n",
      "                                  'csv_path': 'data/raw-audios-wav/val.csv',\n",
      "                                  'dataset': 'val',\n",
      "                                  'num_utt': 2,\n",
      "                                  'ordered_json_list': 'Datasets/MELD/utterance-ordered.json',\n",
      "                                  'text_feat_dir': 'Datasets/MELD/text-features/val/'},\n",
      "                        'loader': { 'args': { 'batch_size': 8,\n",
      "                                              'drop_last': True,\n",
      "                                              'shuffle': True},\n",
      "                                    'name': 'DataLoader'},\n",
      "                        'name': 'ContextAwareDataset'}},\n",
      "  'debug': False,\n",
      "  'gpus': '0',\n",
      "  'id': 'context_aware_multimodal_fusion',\n",
      "  'loss': { 'args': {'alpha': 0.75, 'gamma': 2, 'reduce': True},\n",
      "            'name': 'FocalLoss'},\n",
      "  'metric': [{'args': None, 'name': 'F1Weighted'}],\n",
      "  'model': { 'args': { 'AUDIO_FEAT_DIM': 1280,\n",
      "                       'EMB_DIM': 2304,\n",
      "                       'TEXT_FEAT_DIM': 1024,\n",
      "                       'num_classes': 7,\n",
      "                       'use_concat': True},\n",
      "             'name': 'ContextAwareModel'},\n",
      "  'optimizer': {'args': {'lr': 0.0001}, 'name': 'Adam'},\n",
      "  'pretrained': None,\n",
      "  'scheduler': { 'args': {'gamma': 0.1, 'last_epoch': -1, 'step_size': 3},\n",
      "                 'name': 'StepLR'},\n",
      "  'trainer': {'log_step': 1, 'nepochs': 3, 'val_step': 1}}\n",
      "\n",
      "Epoch   0\n",
      "-----------------------------------\n",
      "Training........\n",
      "100%|███████████████████████████████████████| 1248/1248 [10:00<00:00,  2.08it/s]\n",
      "+ Training result\n",
      "Loss: 0.2714930995347789\n",
      "F1 weighted: 0.71135054414843\n",
      "Evaluating........\n",
      "100%|█████████████████████████████████████████| 138/138 [00:07<00:00, 19.47it/s]\n",
      "+ Evaluation result\n",
      "Loss: 0.40632481109418406\n",
      "F1 weighted: 0.6309049738146923\n",
      "-----------------------------------\n",
      "Loss is improved from  inf to  0.406325. Saving weights...\n",
      "F1Weighted is improved from  0.000000 to  0.630905. Saving weights...\n",
      "\n",
      "Epoch   1\n",
      "-----------------------------------\n",
      "Training........\n",
      "100%|███████████████████████████████████████| 1248/1248 [10:26<00:00,  1.99it/s]\n",
      "+ Training result\n",
      "Loss: 0.23138903948114245\n",
      "F1 weighted: 0.7363524538162989\n",
      "Evaluating........\n",
      "100%|█████████████████████████████████████████| 138/138 [00:07<00:00, 19.48it/s]\n",
      "+ Evaluation result\n",
      "Loss: 0.4678032543928618\n",
      "F1 weighted: 0.5825225272781078\n",
      "-----------------------------------\n",
      "Loss is not improved from 0.406325.\n",
      "F1Weighted is not improved from 0.630905.\n",
      "\n",
      "Epoch   2\n",
      "-----------------------------------\n",
      "Training........\n",
      " 20%|███████▉                                | 249/1248 [02:06<08:29,  1.96it/s]"
     ]
    }
   ],
   "source": [
    "!python3 train.py --config configs/context_aware.yaml --gpus 0 "
   ]
  },
  {
   "cell_type": "markdown",
   "id": "1ebe334b",
   "metadata": {},
   "source": [
    "## Tensorboard"
   ]
  },
  {
   "cell_type": "code",
   "execution_count": null,
   "id": "f85c44e4",
   "metadata": {},
   "outputs": [],
   "source": [
    "%load_ext tensorboard\n",
    "%reload_ext tensorboard"
   ]
  },
  {
   "cell_type": "code",
   "execution_count": null,
   "id": "b63e8ed9",
   "metadata": {},
   "outputs": [],
   "source": [
    "%tensorboard --logdir=runs/"
   ]
  },
  {
   "cell_type": "code",
   "execution_count": null,
   "id": "f3260de4",
   "metadata": {},
   "outputs": [],
   "source": []
  }
 ],
 "metadata": {
  "kernelspec": {
   "display_name": "Python 3",
   "language": "python",
   "name": "python3"
  },
  "language_info": {
   "codemirror_mode": {
    "name": "ipython",
    "version": 3
   },
   "file_extension": ".py",
   "mimetype": "text/x-python",
   "name": "python",
   "nbconvert_exporter": "python",
   "pygments_lexer": "ipython3",
   "version": "3.8.5"
  }
 },
 "nbformat": 4,
 "nbformat_minor": 5
}
