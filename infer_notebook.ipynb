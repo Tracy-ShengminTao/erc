{
 "cells": [
  {
   "cell_type": "code",
   "execution_count": 1,
   "id": "36af7e66",
   "metadata": {},
   "outputs": [],
   "source": [
    "MODEL_CHECKPOINT_PATH = '/home/kvu/erc/best_weights/best_mbp_test_6670/best_metric_F1Weighted.pth'\n",
    "AUDIO_FEAT_DIR = 'Datasets/MELD/audio-features/train/'\n",
    "TEXT_FEAT_DIR = 'Datasets/MELD/text-features/train/'\n",
    "CSV_PATH = 'data/raw-audios-wav/train.csv'"
   ]
  },
  {
   "cell_type": "code",
   "execution_count": 2,
   "id": "58999ad3",
   "metadata": {},
   "outputs": [],
   "source": [
    "import sys\n",
    "sys.path.append('libs')\n",
    "\n",
    "import csv\n",
    "import os\n",
    "from sklearn.metrics import confusion_matrix\n",
    "from tqdm import tqdm\n",
    "\n",
    "import pandas\n",
    "import torch\n",
    "import yaml\n",
    "import seaborn as sns\n",
    "%matplotlib inline\n",
    "import matplotlib.pyplot as plt\n",
    "import numpy as np\n",
    "import pandas as pd\n",
    "from sklearn.metrics import classification_report, confusion_matrix, accuracy_score, f1_score\n",
    "from PIL import Image\n",
    "from torchvision import transforms as tvtf\n",
    "from torch.utils.data import DataLoader\n",
    "from utils.device import detach, move_to\n",
    "\n",
    "from utils.getter import get_instance\n",
    "from datasets import *\n",
    "\n",
    "import warnings\n",
    "warnings.filterwarnings(\"ignore\")"
   ]
  },
  {
   "cell_type": "markdown",
   "id": "dc7b7b7e",
   "metadata": {},
   "source": [
    "## Load weight"
   ]
  },
  {
   "cell_type": "code",
   "execution_count": 3,
   "id": "d5e0fe9e",
   "metadata": {},
   "outputs": [
    {
     "data": {
      "text/plain": [
       "{'id': 'single_utterance_multimodal_fusion',\n",
       " 'pretrained': None,\n",
       " 'model': {'name': 'FusionModel', 'args': {'num_classes': 7}},\n",
       " 'optimizer': {'name': 'Adam', 'args': {'lr': 3e-05}},\n",
       " 'loss': {'name': 'FocalLoss',\n",
       "  'args': {'alpha': 0.75, 'gamma': 2, 'reduce': True}},\n",
       " 'metric': [{'name': 'F1Weighted', 'args': {}}],\n",
       " 'scheduler': {'name': 'ReduceLROnPlateau',\n",
       "  'args': {'factor': 0.8, 'patience': 2}},\n",
       " 'dataset': {'train': {'name': 'AudioTextFeatureVectorDataset',\n",
       "   'args': {'csv_path': 'data/raw-audios-wav/train.csv',\n",
       "    'audio_feat_dir': 'Datasets/MELD/audio-features/train/',\n",
       "    'text_feat_dir': 'Datasets/MELD/text-features/train/'},\n",
       "   'loader': {'name': 'DataLoader',\n",
       "    'args': {'batch_size': 8, 'shuffle': True, 'drop_last': True}}},\n",
       "  'val': {'name': 'AudioTextFeatureVectorDataset',\n",
       "   'args': {'csv_path': 'data/raw-audios-wav/val.csv',\n",
       "    'audio_feat_dir': 'Datasets/MELD/audio-features/val/',\n",
       "    'text_feat_dir': 'Datasets/MELD/text-features/val/'},\n",
       "   'loader': {'name': 'DataLoader',\n",
       "    'args': {'batch_size': 8, 'shuffle': True, 'drop_last': True}}}},\n",
       " 'trainer': {'nepochs': 3, 'val_step': 1, 'log_step': 1},\n",
       " 'gpus': '0',\n",
       " 'debug': False}"
      ]
     },
     "execution_count": 3,
     "metadata": {},
     "output_type": "execute_result"
    }
   ],
   "source": [
    "config = torch.load(MODEL_CHECKPOINT_PATH)['config']\n",
    "config"
   ]
  },
  {
   "cell_type": "code",
   "execution_count": 4,
   "id": "5bbb40a9",
   "metadata": {},
   "outputs": [
    {
     "data": {
      "text/plain": [
       "<All keys matched successfully>"
      ]
     },
     "execution_count": 4,
     "metadata": {},
     "output_type": "execute_result"
    }
   ],
   "source": [
    "dev_id = 'cuda:{}'.format(config['gpus']) \\\n",
    "    if torch.cuda.is_available() and config.get('gpus', None) is not None \\\n",
    "    else 'cpu'\n",
    "\n",
    "device = torch.device(dev_id)\n",
    "model = get_instance(config['model']).to(device)\n",
    "model.load_state_dict(torch.load(MODEL_CHECKPOINT_PATH)['model_state_dict'])"
   ]
  },
  {
   "cell_type": "markdown",
   "id": "592309d7",
   "metadata": {},
   "source": [
    "## Dataset"
   ]
  },
  {
   "cell_type": "code",
   "execution_count": 5,
   "id": "cb1db6f8",
   "metadata": {},
   "outputs": [],
   "source": [
    "test_dataset = AudioTextFeatureVectorDataset(csv_path=CSV_PATH, \n",
    "                                        audio_feat_dir=AUDIO_FEAT_DIR, \n",
    "                                        text_feat_dir=TEXT_FEAT_DIR)\n",
    "\n",
    "test_dataset_loader = DataLoader(dataset=test_dataset, batch_size=8, shuffle=False, pin_memory=False) "
   ]
  },
  {
   "cell_type": "markdown",
   "id": "fa02aa6b",
   "metadata": {},
   "source": [
    "## Inference"
   ]
  },
  {
   "cell_type": "code",
   "execution_count": 6,
   "id": "60fbfe13",
   "metadata": {},
   "outputs": [],
   "source": [
    "def inference(model, data_loader, device):\n",
    "    model.eval()\n",
    "    preds_all = []\n",
    "    ground_truths = []\n",
    "    pbar = tqdm(enumerate(data_loader), total=len(data_loader))\n",
    "    for step, (inp, lbl) in pbar:\n",
    "        ground_truths.append(lbl)\n",
    "        inp = move_to(inp, device)\n",
    "        preds = model(inp)\n",
    "        preds_all += [torch.softmax(preds, dim=1).detach().cpu().numpy()]\n",
    "    preds_all = np.concatenate(preds_all, axis=0)\n",
    "    ground_truths = np.concatenate(ground_truths, axis=0)\n",
    "    return preds_all, ground_truths"
   ]
  },
  {
   "cell_type": "code",
   "execution_count": 7,
   "id": "44dd9ae1",
   "metadata": {},
   "outputs": [
    {
     "name": "stderr",
     "output_type": "stream",
     "text": [
      "100%|██████████| 1249/1249 [00:07<00:00, 172.81it/s]\n"
     ]
    }
   ],
   "source": [
    "test_preds, ground_truths = inference(model, test_dataset_loader, device)"
   ]
  },
  {
   "cell_type": "code",
   "execution_count": 8,
   "id": "18dd8e63",
   "metadata": {},
   "outputs": [
    {
     "name": "stdout",
     "output_type": "stream",
     "text": [
      "0.7797018521725441\n"
     ]
    }
   ],
   "source": [
    "preds = np.argmax(test_preds, axis=1)\n",
    "print(f1_score(preds, ground_truths, average='weighted'))"
   ]
  },
  {
   "cell_type": "code",
   "execution_count": 9,
   "id": "2aa261b4",
   "metadata": {},
   "outputs": [],
   "source": [
    "del model, config"
   ]
  },
  {
   "cell_type": "markdown",
   "id": "1d26be5e",
   "metadata": {},
   "source": [
    "## Confusion matrix"
   ]
  },
  {
   "cell_type": "code",
   "execution_count": 10,
   "id": "f662bb2c",
   "metadata": {},
   "outputs": [],
   "source": [
    "NUM_CLASSES = 7\n",
    "classes = ['neutral', 'surprise', 'fear', 'sadness', 'joy', 'disgust', 'anger']"
   ]
  },
  {
   "cell_type": "code",
   "execution_count": 11,
   "id": "0757b9ca",
   "metadata": {},
   "outputs": [
    {
     "name": "stdout",
     "output_type": "stream",
     "text": [
      "[[4227  112   55  106  219   31  120]\n",
      " [  70  929   10   33   78   15   62]\n",
      " [  57   22  120   38   28    6   27]\n",
      " [  62   21   33  373   33   10   45]\n",
      " [ 182   58   16   31 1272    6   77]\n",
      " [  24    8    8   32   28  146   67]\n",
      " [  87   55   26   70   85   57  711]]\n"
     ]
    }
   ],
   "source": [
    "cfm = confusion_matrix(preds, ground_truths, labels=[i for i in range(NUM_CLASSES)])\n",
    "print(cfm)\n",
    "cfm = np.around(cfm.astype('float') / cfm.sum(axis=1)[:, np.newaxis], decimals=3)"
   ]
  },
  {
   "cell_type": "code",
   "execution_count": 12,
   "id": "4bdecd00",
   "metadata": {},
   "outputs": [],
   "source": [
    "cfm_pd = pd.DataFrame(cfm, index=classes, columns=classes)"
   ]
  },
  {
   "cell_type": "code",
   "execution_count": 13,
   "id": "fd8457e5",
   "metadata": {},
   "outputs": [
    {
     "data": {
      "image/png": "[encoded data removed]",
      "text/plain": [
       "<Figure size 576x576 with 2 Axes>"
      ]
     },
     "metadata": {
      "needs_background": "light"
     },
     "output_type": "display_data"
    }
   ],
   "source": [
    "figure = plt.figure(figsize=(8, 8))\n",
    "sns.heatmap(cfm_pd, annot=True, cmap=plt.cm.Reds)\n",
    "plt.tight_layout()\n",
    "plt.ylabel('True label')\n",
    "plt.xlabel('Predicted label')\n",
    "plt.show()"
   ]
  },
  {
   "cell_type": "code",
   "execution_count": null,
   "id": "03bb18c3",
   "metadata": {},
   "outputs": [],
   "source": []
  },
  {
   "cell_type": "code",
   "execution_count": null,
   "id": "3031422c",
   "metadata": {},
   "outputs": [],
   "source": []
  }
 ],
 "metadata": {
  "kernelspec": {
   "display_name": "Python 3",
   "language": "python",
   "name": "python3"
  },
  "language_info": {
   "codemirror_mode": {
    "name": "ipython",
    "version": 3
   },
   "file_extension": ".py",
   "mimetype": "text/x-python",
   "name": "python",
   "nbconvert_exporter": "python",
   "pygments_lexer": "ipython3",
   "version": "3.8.5"
  }
 },
 "nbformat": 4,
 "nbformat_minor": 5
}
