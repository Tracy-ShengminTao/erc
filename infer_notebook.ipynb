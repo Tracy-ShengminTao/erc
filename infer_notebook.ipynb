{
 "cells": [
  {
   "cell_type": "code",
   "execution_count": 62,
   "id": "alpine-review",
   "metadata": {},
   "outputs": [],
   "source": [
    "MODEL_CHECKPOINT_PATH = '/home/kvu/erc/runs/audio_effnet_b0-2021_03_08-15_00_05/best_metric_F1Weighted.pth'\n",
    "TEST_DIR = 'data/MELD/raw-audios-wav/test/'\n",
    "CSV_PATH = 'data/MELD/raw-audios-wav/test.csv'"
   ]
  },
  {
   "cell_type": "code",
   "execution_count": 63,
   "id": "exceptional-bidder",
   "metadata": {},
   "outputs": [],
   "source": [
    "import sys\n",
    "sys.path.append('libs')\n",
    "\n",
    "import csv\n",
    "import os\n",
    "from sklearn.metrics import confusion_matrix\n",
    "from tqdm import tqdm\n",
    "\n",
    "import pandas\n",
    "import torch\n",
    "import yaml\n",
    "import seaborn as sns\n",
    "%matplotlib inline\n",
    "import matplotlib.pyplot as plt\n",
    "import numpy as np\n",
    "import pandas as pd\n",
    "from sklearn.metrics import classification_report, confusion_matrix, accuracy_score, f1_score\n",
    "from PIL import Image\n",
    "from torchvision import transforms as tvtf\n",
    "from torch.utils.data import DataLoader\n",
    "from utils.device import detach, move_to\n",
    "\n",
    "from utils.getter import get_instance\n",
    "from datasets import *\n",
    "\n",
    "import warnings\n",
    "warnings.filterwarnings(\"ignore\")"
   ]
  },
  {
   "cell_type": "markdown",
   "id": "classical-investing",
   "metadata": {},
   "source": [
    "## Load weight"
   ]
  },
  {
   "cell_type": "code",
   "execution_count": 64,
   "id": "supported-shaft",
   "metadata": {},
   "outputs": [
    {
     "data": {
      "text/plain": [
       "{'id': 'audio_effnet_b0',\n",
       " 'pretrained': None,\n",
       " 'model': {'name': 'BaseTimmModel',\n",
       "  'args': {'name': 'tf_efficientnet_b0_ns',\n",
       "   'num_classes': 7,\n",
       "   'freeze_backbone': False,\n",
       "   'from_pretrained': True}},\n",
       " 'optimizer': {'name': 'Adam', 'args': {'lr': 1e-05}},\n",
       " 'loss': {'name': 'FocalLoss', 'args': {}},\n",
       " 'metric': [{'name': 'F1Weighted', 'args': {}}],\n",
       " 'scheduler': {'name': 'StepLR',\n",
       "  'args': {'step_size': 3, 'gamma': 0.2, 'last_epoch': -1}},\n",
       " 'dataset': {'train': {'name': 'AudioDataset',\n",
       "   'args': {'data_dir': 'data/MELD/raw-audios-wav/train/',\n",
       "    'csv_path': 'data/MELD/raw-audios/train.csv',\n",
       "    'format': '.wav',\n",
       "    'sr': 22050,\n",
       "    'duration': 8,\n",
       "    'n_mels': 128,\n",
       "    'is_train': True},\n",
       "   'loader': {'name': 'DataLoader',\n",
       "    'args': {'batch_size': 4, 'shuffle': True, 'drop_last': True}}},\n",
       "  'val': {'name': 'AudioDataset',\n",
       "   'args': {'data_dir': 'data/MELD/raw-audios-wav/val/',\n",
       "    'csv_path': 'data/MELD/raw-audios/val.csv',\n",
       "    'format': '.wav',\n",
       "    'sr': 22050,\n",
       "    'duration': 8,\n",
       "    'n_mels': 128,\n",
       "    'is_train': False},\n",
       "   'loader': {'name': 'DataLoader',\n",
       "    'args': {'batch_size': 4, 'shuffle': True}}}},\n",
       " 'trainer': {'nepochs': 10, 'val_step': 1, 'log_step': 1},\n",
       " 'gpus': '0',\n",
       " 'debug': False}"
      ]
     },
     "execution_count": 64,
     "metadata": {},
     "output_type": "execute_result"
    }
   ],
   "source": [
    "config = torch.load(MODEL_CHECKPOINT_PATH)['config']\n",
    "config"
   ]
  },
  {
   "cell_type": "code",
   "execution_count": 65,
   "id": "successful-oasis",
   "metadata": {},
   "outputs": [
    {
     "data": {
      "text/plain": [
       "<All keys matched successfully>"
      ]
     },
     "execution_count": 65,
     "metadata": {},
     "output_type": "execute_result"
    }
   ],
   "source": [
    "dev_id = 'cuda:{}'.format(config['gpus']) \\\n",
    "    if torch.cuda.is_available() and config.get('gpus', None) is not None \\\n",
    "    else 'cpu'\n",
    "\n",
    "device = torch.device(dev_id)\n",
    "model = get_instance(config['model']).to(device)\n",
    "model.load_state_dict(torch.load(MODEL_CHECKPOINT_PATH)['model_state_dict'])"
   ]
  },
  {
   "cell_type": "markdown",
   "id": "casual-responsibility",
   "metadata": {},
   "source": [
    "## Dataset"
   ]
  },
  {
   "cell_type": "code",
   "execution_count": 66,
   "id": "smaller-chess",
   "metadata": {},
   "outputs": [],
   "source": [
    "test_dataset = AudioDataset(csv_path=CSV_PATH, data_dir=TEST_DIR, format='.wav', is_train=False, sr=22050, duration=8, n_mels=128)\n",
    "test_dataset_loader = DataLoader(dataset=test_dataset, batch_size=4, shuffle=False, pin_memory=False) "
   ]
  },
  {
   "cell_type": "code",
   "execution_count": 67,
   "id": "convinced-teacher",
   "metadata": {},
   "outputs": [
    {
     "data": {
      "text/plain": [
       "(3, 128, 345)"
      ]
     },
     "execution_count": 67,
     "metadata": {},
     "output_type": "execute_result"
    }
   ],
   "source": [
    "x, y = test_dataset[0]\n",
    "x.shape"
   ]
  },
  {
   "cell_type": "markdown",
   "id": "unusual-strip",
   "metadata": {},
   "source": [
    "## Inference"
   ]
  },
  {
   "cell_type": "code",
   "execution_count": 68,
   "id": "engaged-convert",
   "metadata": {},
   "outputs": [],
   "source": [
    "def inference(model, data_loader, device):\n",
    "    model.eval()\n",
    "    image_preds_all = []\n",
    "    ground_truths = []\n",
    "    pbar = tqdm(enumerate(data_loader), total=len(data_loader))\n",
    "    for step, (imgs, lbl) in pbar:\n",
    "        ground_truths.append(lbl)\n",
    "        imgs = imgs.to(device).float()\n",
    "        image_preds = model(imgs)\n",
    "        image_preds_all += [torch.softmax(image_preds, dim=1).detach().cpu().numpy()]\n",
    "        \n",
    "    image_preds_all = np.concatenate(image_preds_all, axis=0)\n",
    "    ground_truths = np.concatenate(ground_truths, axis=0)\n",
    "    return image_preds_all, ground_truths"
   ]
  },
  {
   "cell_type": "code",
   "execution_count": 69,
   "id": "chief-england",
   "metadata": {},
   "outputs": [
    {
     "name": "stderr",
     "output_type": "stream",
     "text": [
      "100%|██████████| 653/653 [02:18<00:00,  4.71it/s]\n"
     ]
    }
   ],
   "source": [
    "test_preds, ground_truths = inference(model, test_dataset_loader, device)"
   ]
  },
  {
   "cell_type": "code",
   "execution_count": 70,
   "id": "front-sucking",
   "metadata": {},
   "outputs": [
    {
     "name": "stdout",
     "output_type": "stream",
     "text": [
      "0.6186805174580633\n"
     ]
    }
   ],
   "source": [
    "preds = np.argmax(test_preds, axis=1)\n",
    "print(f1_score(preds, ground_truths, average='weighted'))"
   ]
  },
  {
   "cell_type": "code",
   "execution_count": 71,
   "id": "three-disclaimer",
   "metadata": {},
   "outputs": [],
   "source": [
    "del model, config"
   ]
  },
  {
   "cell_type": "markdown",
   "id": "foreign-valve",
   "metadata": {},
   "source": [
    "## Confusion matrix"
   ]
  },
  {
   "cell_type": "code",
   "execution_count": 72,
   "id": "accomplished-sullivan",
   "metadata": {},
   "outputs": [],
   "source": [
    "NUM_CLASSES = 7\n",
    "classes = ['neutral', 'surprise', 'fear', 'sadness', 'joy', 'disgust', 'anger']"
   ]
  },
  {
   "cell_type": "code",
   "execution_count": 73,
   "id": "cheap-sullivan",
   "metadata": {},
   "outputs": [
    {
     "name": "stdout",
     "output_type": "stream",
     "text": [
      "[[1210  268   47  195  383   66  326]\n",
      " [   8    3    0    3    3    1    3]\n",
      " [   0    0    0    0    0    0    0]\n",
      " [   1    0    0    0    0    0    0]\n",
      " [  35   10    3   10   13    1   14]\n",
      " [   0    0    0    0    0    0    0]\n",
      " [   2    0    0    0    3    0    2]]\n"
     ]
    }
   ],
   "source": [
    "cfm = confusion_matrix(preds, ground_truths, labels=[i for i in range(NUM_CLASSES)])\n",
    "print(cfm)\n",
    "cfm = np.around(cfm.astype('float') / cfm.sum(axis=1)[:, np.newaxis], decimals=3)"
   ]
  },
  {
   "cell_type": "code",
   "execution_count": 74,
   "id": "proper-samuel",
   "metadata": {},
   "outputs": [],
   "source": [
    "cfm_pd = pd.DataFrame(cfm, index=classes, columns=classes)"
   ]
  },
  {
   "cell_type": "code",
   "execution_count": 75,
   "id": "interior-handle",
   "metadata": {},
   "outputs": [
    {
     "data": {
      "image/png": "[encoded data removed]",
      "text/plain": [
       "<Figure size 576x576 with 2 Axes>"
      ]
     },
     "metadata": {
      "needs_background": "light"
     },
     "output_type": "display_data"
    }
   ],
   "source": [
    "figure = plt.figure(figsize=(8, 8))\n",
    "sns.heatmap(cfm_pd, annot=True, cmap=plt.cm.Reds)\n",
    "plt.tight_layout()\n",
    "plt.ylabel('True label')\n",
    "plt.xlabel('Predicted label')\n",
    "plt.show()"
   ]
  },
  {
   "cell_type": "code",
   "execution_count": 35,
   "id": "rolled-cradle",
   "metadata": {},
   "outputs": [],
   "source": []
  },
  {
   "cell_type": "code",
   "execution_count": null,
   "id": "portuguese-accordance",
   "metadata": {},
   "outputs": [],
   "source": []
  }
 ],
 "metadata": {
  "kernelspec": {
   "display_name": "Python 3",
   "language": "python",
   "name": "python3"
  },
  "language_info": {
   "codemirror_mode": {
    "name": "ipython",
    "version": 3
   },
   "file_extension": ".py",
   "mimetype": "text/x-python",
   "name": "python",
   "nbconvert_exporter": "python",
   "pygments_lexer": "ipython3",
   "version": "3.6.12"
  }
 },
 "nbformat": 4,
 "nbformat_minor": 5
}
