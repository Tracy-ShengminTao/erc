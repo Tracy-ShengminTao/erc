{
 "cells": [
  {
   "cell_type": "code",
   "execution_count": 1,
   "id": "9ff120c7",
   "metadata": {},
   "outputs": [],
   "source": [
    "dataset = 'test'\n",
    "MODEL_CHECKPOINT_PATH = '/home/kvu/erc/runs/context_aware_multimodal_fusion-2021_04_20-00_06_19/best_metric_F1Weighted.pth'\n",
    "AUDIO_FEAT_DIR = f'Datasets/MELD/audio-features/{dataset}/'\n",
    "TEXT_FEAT_DIR = f'Datasets/MELD/text-features/{dataset}/'\n",
    "CSV_PATH = f'data/raw-audios-wav/{dataset}.csv'\n",
    "JSON_PATH = 'Datasets/MELD/utterance-ordered.json'"
   ]
  },
  {
   "cell_type": "code",
   "execution_count": 2,
   "id": "7f8549be",
   "metadata": {},
   "outputs": [],
   "source": [
    "import sys\n",
    "sys.path.append('libs')\n",
    "\n",
    "import csv\n",
    "import os\n",
    "from sklearn.metrics import confusion_matrix\n",
    "from tqdm import tqdm\n",
    "\n",
    "import pandas\n",
    "import torch\n",
    "import yaml\n",
    "import seaborn as sns\n",
    "%matplotlib inline\n",
    "import matplotlib.pyplot as plt\n",
    "import numpy as np\n",
    "import pandas as pd\n",
    "from sklearn.metrics import classification_report, confusion_matrix, accuracy_score, f1_score\n",
    "from PIL import Image\n",
    "from torchvision import transforms as tvtf\n",
    "from torch.utils.data import DataLoader\n",
    "from utils.device import detach, move_to\n",
    "\n",
    "from utils.getter import get_instance\n",
    "from datasets import *\n",
    "\n",
    "import warnings\n",
    "warnings.filterwarnings(\"ignore\")"
   ]
  },
  {
   "cell_type": "markdown",
   "id": "06bb3cc5",
   "metadata": {},
   "source": [
    "## Load weight"
   ]
  },
  {
   "cell_type": "code",
   "execution_count": 3,
   "id": "aafa6186",
   "metadata": {},
   "outputs": [
    {
     "data": {
      "text/plain": [
       "{'id': 'context_aware_multimodal_fusion',\n",
       " 'pretrained': None,\n",
       " 'model': {'name': 'ContextAwareModel',\n",
       "  'args': {'num_classes': 7,\n",
       "   'AUDIO_FEAT_DIM': 1280,\n",
       "   'TEXT_FEAT_DIM': 1024,\n",
       "   'EMB_DIM': 256}},\n",
       " 'optimizer': {'name': 'Adam', 'args': {'lr': 0.0001}},\n",
       " 'loss': {'name': 'FocalLoss',\n",
       "  'args': {'alpha': 0.75, 'gamma': 2, 'reduce': True}},\n",
       " 'metric': [{'name': 'F1Weighted', 'args': {}}],\n",
       " 'scheduler': {'name': 'StepLR',\n",
       "  'args': {'step_size': 3, 'gamma': 0.1, 'last_epoch': -1}},\n",
       " 'dataset': {'train': {'name': 'ContextAwareDataset',\n",
       "   'args': {'csv_path': 'data/raw-audios-wav/train.csv',\n",
       "    'audio_feat_dir': 'Datasets/MELD/audio-features/train/',\n",
       "    'text_feat_dir': 'Datasets/MELD/text-features/train/',\n",
       "    'ordered_json_list': 'Datasets/MELD/utterance-ordered.json',\n",
       "    'num_utt': 10,\n",
       "    'dataset': 'train'},\n",
       "   'loader': {'name': 'DataLoader',\n",
       "    'args': {'batch_size': 8, 'shuffle': True, 'drop_last': True}}},\n",
       "  'val': {'name': 'ContextAwareDataset',\n",
       "   'args': {'csv_path': 'data/raw-audios-wav/val.csv',\n",
       "    'audio_feat_dir': 'Datasets/MELD/audio-features/val/',\n",
       "    'text_feat_dir': 'Datasets/MELD/text-features/val/',\n",
       "    'ordered_json_list': 'Datasets/MELD/utterance-ordered.json',\n",
       "    'num_utt': 10,\n",
       "    'dataset': 'val'},\n",
       "   'loader': {'name': 'DataLoader',\n",
       "    'args': {'batch_size': 8, 'shuffle': True, 'drop_last': True}}}},\n",
       " 'trainer': {'nepochs': 3, 'val_step': 1, 'log_step': 1},\n",
       " 'gpus': '0',\n",
       " 'debug': False}"
      ]
     },
     "execution_count": 3,
     "metadata": {},
     "output_type": "execute_result"
    }
   ],
   "source": [
    "config = torch.load(MODEL_CHECKPOINT_PATH)['config']\n",
    "config"
   ]
  },
  {
   "cell_type": "code",
   "execution_count": 4,
   "id": "b3db67a5",
   "metadata": {},
   "outputs": [
    {
     "data": {
      "text/plain": [
       "<All keys matched successfully>"
      ]
     },
     "execution_count": 4,
     "metadata": {},
     "output_type": "execute_result"
    }
   ],
   "source": [
    "dev_id = 'cuda:{}'.format(config['gpus']) \\\n",
    "    if torch.cuda.is_available() and config.get('gpus', None) is not None \\\n",
    "    else 'cpu'\n",
    "\n",
    "device = torch.device(dev_id)\n",
    "model = get_instance(config['model']).to(device)\n",
    "model.load_state_dict(torch.load(MODEL_CHECKPOINT_PATH)['model_state_dict'])"
   ]
  },
  {
   "cell_type": "markdown",
   "id": "50ccc695",
   "metadata": {},
   "source": [
    "## Dataset"
   ]
  },
  {
   "cell_type": "code",
   "execution_count": 5,
   "id": "63fc6ea4",
   "metadata": {},
   "outputs": [],
   "source": [
    "test_dataset = ContextAwareDataset(csv_path=CSV_PATH, \n",
    "                                        audio_feat_dir=AUDIO_FEAT_DIR, \n",
    "                                        text_feat_dir=TEXT_FEAT_DIR, ordered_json_list=JSON_PATH, num_utt=10, dataset=dataset)\n",
    "\n",
    "# test_dataset = AudioTextFeatureVectorDataset(csv_path=CSV_PATH, \n",
    "#                                         audio_feat_dir=AUDIO_FEAT_DIR, \n",
    "#                                         text_feat_dir=TEXT_FEAT_DIR)\n",
    "\n",
    "test_dataset_loader = DataLoader(dataset=test_dataset, batch_size=32, shuffle=False, pin_memory=False) "
   ]
  },
  {
   "cell_type": "markdown",
   "id": "077db6ec",
   "metadata": {},
   "source": [
    "## Inference"
   ]
  },
  {
   "cell_type": "code",
   "execution_count": 6,
   "id": "e776c2ed",
   "metadata": {},
   "outputs": [],
   "source": [
    "def inference(model, data_loader, device):\n",
    "    model.eval()\n",
    "    preds_all = []\n",
    "    ground_truths = []\n",
    "    pbar = tqdm(enumerate(data_loader), total=len(data_loader))\n",
    "    for step, (inp, lbl) in pbar:\n",
    "        ground_truths.append(lbl)\n",
    "        inp = move_to(inp, device)\n",
    "        preds = model(inp)\n",
    "        preds_all += [torch.softmax(preds, dim=1).detach().cpu().numpy()]\n",
    "    preds_all = np.concatenate(preds_all, axis=0)\n",
    "    ground_truths = np.concatenate(ground_truths, axis=0)\n",
    "    return preds_all, ground_truths"
   ]
  },
  {
   "cell_type": "code",
   "execution_count": 7,
   "id": "c871cb3e",
   "metadata": {},
   "outputs": [
    {
     "name": "stderr",
     "output_type": "stream",
     "text": [
      "100%|██████████| 82/82 [00:42<00:00,  1.92it/s]\n"
     ]
    }
   ],
   "source": [
    "test_preds, ground_truths = inference(model, test_dataset_loader, device)"
   ]
  },
  {
   "cell_type": "code",
   "execution_count": 8,
   "id": "799ccce6",
   "metadata": {},
   "outputs": [
    {
     "name": "stdout",
     "output_type": "stream",
     "text": [
      "0.6491099714418473\n"
     ]
    }
   ],
   "source": [
    "preds = np.argmax(test_preds, axis=1)\n",
    "print(f1_score(ground_truths, preds, average='weighted'))"
   ]
  },
  {
   "cell_type": "code",
   "execution_count": 9,
   "id": "7a3fa367",
   "metadata": {},
   "outputs": [],
   "source": [
    "del model, config"
   ]
  },
  {
   "cell_type": "markdown",
   "id": "9015144c",
   "metadata": {},
   "source": [
    "## Confusion matrix"
   ]
  },
  {
   "cell_type": "code",
   "execution_count": 10,
   "id": "0b2b2d5a",
   "metadata": {},
   "outputs": [],
   "source": [
    "NUM_CLASSES = 7\n",
    "classes = ['neutral', 'surprise', 'fear', 'sadness', 'joy', 'disgust', 'anger']"
   ]
  },
  {
   "cell_type": "code",
   "execution_count": 11,
   "id": "4df67447",
   "metadata": {},
   "outputs": [
    {
     "name": "stdout",
     "output_type": "stream",
     "text": [
      "[[938  83  14  45  97  20  59]\n",
      " [ 20 198   2   2  30   5  24]\n",
      " [ 15  12  12   3   3   1   4]\n",
      " [ 55  18  14  77  14   7  23]\n",
      " [ 60  35   4   7 265   9  22]\n",
      " [ 17   8   1   4   1  26  11]\n",
      " [ 53  52   8   9  30  22 171]]\n"
     ]
    }
   ],
   "source": [
    "cfm = confusion_matrix(ground_truths, preds, labels=[i for i in range(NUM_CLASSES)])\n",
    "print(cfm)\n",
    "cfm = np.around(cfm.astype('float') / cfm.sum(axis=1)[:, np.newaxis], decimals=3)"
   ]
  },
  {
   "cell_type": "code",
   "execution_count": 12,
   "id": "3138798f",
   "metadata": {},
   "outputs": [],
   "source": [
    "cfm_pd = pd.DataFrame(cfm, index=classes, columns=classes)"
   ]
  },
  {
   "cell_type": "code",
   "execution_count": 13,
   "id": "08a11852",
   "metadata": {},
   "outputs": [
    {
     "data": {
      "image/png": "[encoded data removed]",
      "text/plain": [
       "<Figure size 576x576 with 2 Axes>"
      ]
     },
     "metadata": {
      "needs_background": "light"
     },
     "output_type": "display_data"
    }
   ],
   "source": [
    "figure = plt.figure(figsize=(8, 8))\n",
    "sns.heatmap(cfm_pd, annot=True, cmap=plt.cm.Reds)\n",
    "plt.tight_layout()\n",
    "plt.ylabel('True label')\n",
    "plt.xlabel('Predicted label')\n",
    "plt.show()"
   ]
  },
  {
   "cell_type": "code",
   "execution_count": null,
   "id": "ab5340eb",
   "metadata": {},
   "outputs": [],
   "source": []
  },
  {
   "cell_type": "code",
   "execution_count": null,
   "id": "13e500dc",
   "metadata": {},
   "outputs": [],
   "source": []
  }
 ],
 "metadata": {
  "kernelspec": {
   "display_name": "Python 3",
   "language": "python",
   "name": "python3"
  },
  "language_info": {
   "codemirror_mode": {
    "name": "ipython",
    "version": 3
   },
   "file_extension": ".py",
   "mimetype": "text/x-python",
   "name": "python",
   "nbconvert_exporter": "python",
   "pygments_lexer": "ipython3",
   "version": "3.8.5"
  }
 },
 "nbformat": 4,
 "nbformat_minor": 5
}
