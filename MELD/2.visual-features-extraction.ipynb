{
 "metadata": {
  "language_info": {
   "codemirror_mode": {
    "name": "ipython",
    "version": 3
   },
   "file_extension": ".py",
   "mimetype": "text/x-python",
   "name": "python",
   "nbconvert_exporter": "python",
   "pygments_lexer": "ipython3",
   "version": "3.7.9-final"
  },
  "orig_nbformat": 2,
  "kernelspec": {
   "name": "python37964bitdevpython378e162af75d134820b03d49898b79756f",
   "display_name": "Python 3.7.9 64-bit ('dev-python-3.7')",
   "language": "python"
  }
 },
 "nbformat": 4,
 "nbformat_minor": 2,
 "cells": [
  {
   "source": [
    "# Get cleaner annotations and save them as json"
   ],
   "cell_type": "markdown",
   "metadata": {}
  },
  {
   "cell_type": "code",
   "execution_count": 2,
   "metadata": {},
   "outputs": [
    {
     "output_type": "display_data",
     "data": {
      "text/plain": "HBox(children=(HTML(value=''), FloatProgress(value=0.0, max=3.0), HTML(value='')))",
      "application/vnd.jupyter.widget-view+json": {
       "version_major": 2,
       "version_minor": 0,
       "model_id": "061d1a42db484f2694fcff4f948b6c90"
      }
     },
     "metadata": {}
    },
    {
     "output_type": "display_data",
     "data": {
      "text/plain": "HBox(children=(HTML(value=''), FloatProgress(value=0.0, max=9989.0), HTML(value='')))",
      "application/vnd.jupyter.widget-view+json": {
       "version_major": 2,
       "version_minor": 0,
       "model_id": "c90e51b0a32f45b591c965a225077b93"
      }
     },
     "metadata": {}
    },
    {
     "output_type": "stream",
     "name": "stdout",
     "text": [
      "\n"
     ]
    },
    {
     "output_type": "display_data",
     "data": {
      "text/plain": "HBox(children=(HTML(value=''), FloatProgress(value=0.0, max=1109.0), HTML(value='')))",
      "application/vnd.jupyter.widget-view+json": {
       "version_major": 2,
       "version_minor": 0,
       "model_id": "9d93eaff55a34566bd9a2e3fab5576e4"
      }
     },
     "metadata": {}
    },
    {
     "output_type": "stream",
     "name": "stdout",
     "text": [
      "\n"
     ]
    },
    {
     "output_type": "display_data",
     "data": {
      "text/plain": "HBox(children=(HTML(value=''), FloatProgress(value=0.0, max=2610.0), HTML(value='')))",
      "application/vnd.jupyter.widget-view+json": {
       "version_major": 2,
       "version_minor": 0,
       "model_id": "c12e55021f1b47a990da1cb2c337974a"
      }
     },
     "metadata": {}
    },
    {
     "output_type": "stream",
     "name": "stdout",
     "text": [
      "\n\nthe number of video that didn't match is : 1\n"
     ]
    }
   ],
   "source": [
    "ACTORS = ['Chandler', 'Joey', 'Monica', 'Phoebe', 'Rachel', 'Ross']\n",
    "ONLY_ACTORS = False\n",
    "ONLY_FACE = False\n",
    "\n",
    "import os\n",
    "from glob import glob\n",
    "import csv\n",
    "import json\n",
    "from tqdm.notebook import tqdm\n",
    "\n",
    "SAVE_AT = \"/home/tk/datasets/MELD/visual-features/MELD-visual-features/\"\n",
    "annotation_path = {}\n",
    "annotation_path['train'] = \"/home/tk/repos/MELD/data/MELD/train_sent_emo.csv\" \n",
    "annotation_path['dev'] = \"/home/tk/repos/MELD/data/MELD/dev_sent_emo.csv\" \n",
    "annotation_path['test'] = \"/home/tk/repos/MELD/data/MELD/test_sent_emo.csv\" \n",
    "\n",
    "VIDS_DIR = {}\n",
    "VIDS_DIR['train'] = \"/home/tk/datasets/MELD/MELD.Raw/train/train_splits/\" \n",
    "VIDS_DIR['dev'] = \"/home/tk/datasets/MELD/MELD.Raw/dev/dev_splits_complete/\" \n",
    "VIDS_DIR['test'] = \"/home/tk/datasets/MELD/MELD.Raw/test/output_repeated_splits_test\"\n",
    "\n",
    "if not os.path.isfile(os.path.join(SAVE_AT, 'datasets.json')):\n",
    "    annotations = {}\n",
    "    for DATATYPE in ['train', 'dev', 'test']:\n",
    "        with open(annotation_path[DATATYPE]) as f:\n",
    "            reader = csv.reader(f)\n",
    "            annotations[DATATYPE] = list(reader)\n",
    "\n",
    "    vid2anno = {}\n",
    "    weird = 0\n",
    "    for DATATYPE in tqdm(['train', 'dev', 'test']):\n",
    "        vid2anno[DATATYPE] = {}\n",
    "        for row in tqdm(annotations[DATATYPE][1:]):\n",
    "            SrNo, Utterance, Speaker, Emotion, Sentiment, Dialogue_ID,\\\n",
    "                Utterance_ID, Season, Episode, StartTime, EndTime = row\n",
    "\n",
    "            to_save = ['SrNo', 'Utterance', 'Speaker', 'Emotion', 'Sentiment', 'Dialogue_ID',\n",
    "                        'Utterance_ID', 'Season', 'Episode', 'StartTime', 'EndTime']\n",
    "                        \n",
    "            if ONLY_ACTORS:\n",
    "                if Speaker not in ACTORS:\n",
    "                    continue\n",
    "                         \n",
    "\n",
    "            if f\"dia{Dialogue_ID}_utt{Utterance_ID}.mp4\" not in str(os.listdir(VIDS_DIR[DATATYPE])):\n",
    "                weird+=1\n",
    "                continue\n",
    "\n",
    "            vid2anno[DATATYPE][f\"dia{Dialogue_ID}_utt{Utterance_ID}\"] = \\\n",
    "                {'SrNo': SrNo, \n",
    "                'Utterance': Utterance, \n",
    "                'Speaker': Speaker, \n",
    "                'Emotion': Emotion, \n",
    "                'Sentiment': Sentiment, \n",
    "                'Dialogue_ID': Dialogue_ID,\n",
    "                'Utterance_ID': Utterance_ID, \n",
    "                'Season': Season, \n",
    "                'Episode': Episode, \n",
    "                'StartTime': StartTime, \n",
    "                'EndTime':EndTime}\n",
    "                    \n",
    "    print(f\"the number of video that didn't match is : {weird}\")\n",
    "\n",
    "\n",
    "    with open(os.path.join(SAVE_AT, 'datasets.json'), 'w', encoding='utf8') as stream:\n",
    "        json.dump(vid2anno, stream, ensure_ascii=False)\n",
    "\n",
    "else:\n",
    "    with open(os.path.join(SAVE_AT, 'datasets.json'), 'r', encoding='utf8') as stream:\n",
    "        vid2anno = json.load(stream)"
   ]
  },
  {
   "source": [
    "# Instantiate the three classes"
   ],
   "cell_type": "markdown",
   "metadata": {}
  },
  {
   "cell_type": "code",
   "execution_count": 3,
   "metadata": {},
   "outputs": [
    {
     "output_type": "stream",
     "name": "stdout",
     "text": [
      "[*] load ckpt from /home/tk/.virtualenvs/dev-python-3.7/lib/python3.7/site-packages/cltl_face_all/arcface/./pretrained_models/arc_res50/e_8_b_40000.ckpt\n"
     ]
    }
   ],
   "source": [
    "\n",
    "from cltl_face_all.face_alignment import FaceDetection\n",
    "from cltl_face_all.arcface import ArcFace\n",
    "\n",
    "fd = FaceDetection(device='cpu', face_detector='sfd')\n",
    "af = ArcFace()\n",
    "\n",
    "if not ONLY_FACE:\n",
    "    from cltl_face_all.agegender import AgeGender\n",
    "    ag = AgeGender(device='cpu')\n"
   ]
  },
  {
   "source": [
    "# Run over the images"
   ],
   "cell_type": "markdown",
   "metadata": {}
  },
  {
   "cell_type": "code",
   "execution_count": 4,
   "metadata": {
    "tags": []
   },
   "outputs": [
    {
     "output_type": "display_data",
     "data": {
      "text/plain": "HBox(children=(HTML(value=''), FloatProgress(value=0.0, max=3.0), HTML(value='')))",
      "application/vnd.jupyter.widget-view+json": {
       "version_major": 2,
       "version_minor": 0,
       "model_id": "8bad99475f6e48d8948402de77d3d9a3"
      }
     },
     "metadata": {}
    },
    {
     "output_type": "display_data",
     "data": {
      "text/plain": "HBox(children=(HTML(value=''), FloatProgress(value=0.0, max=9989.0), HTML(value='')))",
      "application/vnd.jupyter.widget-view+json": {
       "version_major": 2,
       "version_minor": 0,
       "model_id": "92562a43ec584b339d3b2725ab95d484"
      }
     },
     "metadata": {}
    },
    {
     "output_type": "stream",
     "name": "stderr",
     "text": [
      "Format mov,mp4,m4a,3gp,3g2,mj2 detected only with low score of 1, misdetection possible!\n",
      "moov atom not found\n",
      "[Errno 1094995529] Invalid data found when processing input: '/home/tk/datasets/MELD/MELD.Raw/train/train_splits/dia125_utt3.mp4'; last error log: [mov,mp4,m4a,3gp,3g2,mj2] moov atom not found\n",
      "\n"
     ]
    },
    {
     "output_type": "display_data",
     "data": {
      "text/plain": "HBox(children=(HTML(value=''), FloatProgress(value=0.0, max=1108.0), HTML(value='')))",
      "application/vnd.jupyter.widget-view+json": {
       "version_major": 2,
       "version_minor": 0,
       "model_id": "3ab64e6805f94c82a28f8400444d4e1f"
      }
     },
     "metadata": {}
    },
    {
     "output_type": "stream",
     "name": "stdout",
     "text": [
      "\n"
     ]
    },
    {
     "output_type": "display_data",
     "data": {
      "text/plain": "HBox(children=(HTML(value=''), FloatProgress(value=0.0, max=2610.0), HTML(value='')))",
      "application/vnd.jupyter.widget-view+json": {
       "version_major": 2,
       "version_minor": 0,
       "model_id": "47aa5c6abdca46749b364370033f1eb1"
      }
     },
     "metadata": {}
    },
    {
     "output_type": "stream",
     "name": "stdout",
     "text": [
      "\n\n"
     ]
    }
   ],
   "source": [
    "import av\n",
    "import numpy as np\n",
    "import os\n",
    "\n",
    "import signal\n",
    "import time\n",
    "from tqdm.notebook import tqdm\n",
    "\n",
    "class Timeout(Exception):\n",
    "    pass\n",
    "\n",
    "def handler(sig, frame):\n",
    "    raise Timeout\n",
    "\n",
    "signal.signal(signal.SIGALRM, handler) \n",
    "\n",
    "for DATATYPE in tqdm(['train', 'dev', 'test']):\n",
    "    os.makedirs(os.path.join(SAVE_AT, DATATYPE), exist_ok=True)\n",
    "\n",
    "    for diautt, anno in tqdm(vid2anno[DATATYPE].items()):\n",
    "        signal.alarm(10)\n",
    "        try:\n",
    "            to_dump = {}\n",
    "            vidpath = os.path.join(VIDS_DIR[DATATYPE], diautt) + '.mp4'\n",
    "            container = av.open(vidpath)\n",
    "            save_full_path = os.path.join(SAVE_AT, DATATYPE, diautt) + '.npy'\n",
    "        except Exception as e:\n",
    "            print(e)\n",
    "            continue\n",
    "\n",
    "        if os.path.isfile(save_full_path) and os.path.getsize(save_full_path) > 256:\n",
    "            continue\n",
    "\n",
    "        for idx, frame in enumerate(container.decode(video=0)):\n",
    "            signal.alarm(10)\n",
    "            try:\n",
    "                to_dump[idx] = []\n",
    "                numpy_RGB = np.array(frame.to_image())\n",
    "                batch = numpy_RGB[np.newaxis, ...]\n",
    "                bboxes = fd.detect_faces(batch)\n",
    "                # print(f\"number of faces detected in the frame {idx} is {len(bboxes[0])}\")\n",
    "\n",
    "                if len(bboxes[0]) == 0:\n",
    "                    continue\n",
    "\n",
    "                landmarks = fd.detect_landmarks(batch, bboxes)\n",
    "\n",
    "                faces = fd.crop_and_align(batch, bboxes, landmarks)\n",
    "                faces = np.concatenate(faces, axis=0)\n",
    "                embeddings = af.predict(faces)\n",
    "                \n",
    "                if ONLY_FACE:\n",
    "                    ages, genders = [None] * len(embeddings), [None] * len(embeddings)\n",
    "                else:\n",
    "                    ages, genders = ag.predict(faces)\n",
    "\n",
    "                # print(len(bboxes[0]), len(landmarks[0]), len(ages), len(genders), len(embeddings), len(faces))\n",
    "                for bb, lm, a, g, emb in zip(bboxes[0], landmarks[0], ages, genders, embeddings):\n",
    "                    x1, y1, x2, y2, prob = bb\n",
    "\n",
    "                    to_append = {'bbox': bb, \n",
    "                                'landmark': lm, \n",
    "                                'age': a,\n",
    "                                'gender': g,\n",
    "                                'embedding': emb}\n",
    "\n",
    "                    to_dump[idx].append(to_append)\n",
    "                # print(len(to_dump), idx+1)\n",
    "            except Exception as e:\n",
    "                print(e)\n",
    "                continue\n",
    "\n",
    "        np.save(save_full_path, to_dump)"
   ]
  }
 ]
}