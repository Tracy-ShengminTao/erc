{
 "metadata": {
  "language_info": {
   "codemirror_mode": {
    "name": "ipython",
    "version": 3
   },
   "file_extension": ".py",
   "mimetype": "text/x-python",
   "name": "python",
   "nbconvert_exporter": "python",
   "pygments_lexer": "ipython3",
   "version": "3.7.9-final"
  },
  "orig_nbformat": 2,
  "kernelspec": {
   "name": "python37964bitdevpython378e162af75d134820b03d49898b79756f",
   "display_name": "Python 3.7.9 64-bit ('dev-python-3.7')",
   "language": "python"
  }
 },
 "nbformat": 4,
 "nbformat_minor": 2,
 "cells": [
  {
   "cell_type": "code",
   "execution_count": 37,
   "metadata": {},
   "outputs": [],
   "source": [
    "import json\n",
    "\n",
    "with open(\"/home/tk/datasets/MELD/visual-features/entire-dataset/datasets.json\", 'r') as stream:\n",
    "    datasets = json.load(stream)"
   ]
  },
  {
   "cell_type": "code",
   "execution_count": 72,
   "metadata": {},
   "outputs": [
    {
     "output_type": "stream",
     "name": "stdout",
     "text": [
      "-------------------------------------\n\t train\n\nJoey 0.151\nRoss 0.146\nRachel 0.144\nPhoebe 0.132\nMonica 0.13\nChandler 0.128\n\n0.831514666132746\n-------------------------------------\n\n-------------------------------------\n\t dev\n\nRoss 0.196\nPhoebe 0.166\nRachel 0.148\nJoey 0.134\nMonica 0.124\nChandler 0.091\n\n0.8592057761732852\n-------------------------------------\n\n-------------------------------------\n\t test\n\nJoey 0.157\nChandler 0.145\nRoss 0.143\nRachel 0.136\nMonica 0.133\nPhoebe 0.111\n\n0.8260536398467433\n-------------------------------------\n\n"
     ]
    }
   ],
   "source": [
    "from collections import Counter\n",
    "\n",
    "ACTORS = ['Chandler', 'Joey', 'Monica', 'Phoebe', 'Rachel', 'Ross']\n",
    "\n",
    "speakers = {}\n",
    "for DATASET in ['train', 'dev', 'test']:\n",
    "    print('-------------------------------------')\n",
    "    print('\\t', DATASET)\n",
    "    print()\n",
    "    speakers[DATASET] = []\n",
    "    for DIA in datasets[DATASET]:\n",
    "        speakers[DATASET].append(datasets[DATASET][DIA]['Speaker'])\n",
    "    \n",
    "    speakers[DATASET] = dict(Counter(speakers[DATASET]))\n",
    "\n",
    "    accu = 0\n",
    "    for k, v in sorted(speakers[DATASET].items(), key=lambda item: -item[1]):\n",
    "        if k in ACTORS:\n",
    "            accu += v\n",
    "            print(k, round(v / sum((list(speakers[DATASET].values()))),3))\n",
    "    print()\n",
    "    print(accu/sum((list(speakers[DATASET].values()))))\n",
    "    print('-------------------------------------')\n",
    "    print()"
   ]
  },
  {
   "cell_type": "code",
   "execution_count": 56,
   "metadata": {},
   "outputs": [
    {
     "output_type": "execute_result",
     "data": {
      "text/plain": [
       "['Chandler', 'Joey', 'Monica', 'Phoebe', 'Rachel', 'Ross']"
      ]
     },
     "metadata": {},
     "execution_count": 56
    }
   ],
   "source": []
  }
 ]
}