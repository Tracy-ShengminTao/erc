{
 "metadata": {
  "language_info": {
   "codemirror_mode": {
    "name": "ipython",
    "version": 3
   },
   "file_extension": ".py",
   "mimetype": "text/x-python",
   "name": "python",
   "nbconvert_exporter": "python",
   "pygments_lexer": "ipython3",
   "version": "3.7.9-final"
  },
  "orig_nbformat": 2,
  "kernelspec": {
   "name": "python37964bitdevpython378e162af75d134820b03d49898b79756f",
   "display_name": "Python 3.7.9 64-bit ('dev-python-3.7')",
   "language": "python"
  }
 },
 "nbformat": 4,
 "nbformat_minor": 2,
 "cells": [
  {
   "source": [
    "## Set the paths"
   ],
   "cell_type": "markdown",
   "metadata": {}
  },
  {
   "cell_type": "code",
   "execution_count": 1,
   "metadata": {},
   "outputs": [],
   "source": [
    "import yaml\n",
    "from utils import get_face_utts\n",
    "\n",
    "with open('configs/paths.yaml', 'r') as stream:\n",
    "    PATHS = yaml.safe_load(stream)\n",
    "\n",
    "with open(PATHS['ANNOTATIONS']['all'], 'r') as stream:\n",
    "    datasets = yaml.safe_load(stream)\n",
    "\n",
    "utts = get_face_utts(datasets, PATHS)"
   ]
  },
  {
   "source": [
    "## Data generator"
   ],
   "cell_type": "markdown",
   "metadata": {}
  },
  {
   "cell_type": "code",
   "execution_count": 13,
   "metadata": {},
   "outputs": [
    {
     "output_type": "stream",
     "name": "stdout",
     "text": [
      "torch.Size([1, 45, 3, 224, 224]) tensor([4])\n"
     ]
    }
   ],
   "source": [
    "from erc.datasets.meld import MeldDataset\n",
    "import torch\n",
    "\n",
    "\n",
    "md_train = MeldDataset(list_vid_paths=[os.path.join(PATHS['FACE_VIDEOS']['train'], utt) + '.mp4' for utt in utts['train']],\n",
    "                       labels=[datasets['train'][utt]['Emotion'].lower() for utt in utts['train']])\n",
    "\n",
    "md_train_gen = torch.utils.data.DataLoader(md_train, batch_size=1, shuffle=True)\n",
    "\n",
    "\n",
    "for images_batch, labels_batch in md_train_gen:\n",
    "    print(images_batch.shape, labels_batch)\n",
    "    break"
   ]
  }
 ]
}