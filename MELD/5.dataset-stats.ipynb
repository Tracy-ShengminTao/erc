{
 "metadata": {
  "language_info": {
   "codemirror_mode": {
    "name": "ipython",
    "version": 3
   },
   "file_extension": ".py",
   "mimetype": "text/x-python",
   "name": "python",
   "nbconvert_exporter": "python",
   "pygments_lexer": "ipython3",
   "version": "3.7.9-final"
  },
  "orig_nbformat": 2,
  "kernelspec": {
   "name": "python37964bitdevpython378e162af75d134820b03d49898b79756f",
   "display_name": "Python 3.7.9 64-bit ('dev-python-3.7')",
   "language": "python"
  }
 },
 "nbformat": 4,
 "nbformat_minor": 2,
 "cells": [
  {
   "cell_type": "code",
   "execution_count": 1,
   "metadata": {},
   "outputs": [],
   "source": [
    "import yaml\n",
    "\n",
    "with open('configs/paths.yaml', 'r') as stream:\n",
    "    PATHS = yaml.safe_load(stream)\n",
    "\n",
    "MAIN_ACTORS = ['Chandler', 'Joey', 'Monica', 'Phoebe', 'Rachel', 'Ross']"
   ]
  },
  {
   "source": [
    "## Get the stats of the original annotations"
   ],
   "cell_type": "markdown",
   "metadata": {}
  },
  {
   "cell_type": "code",
   "execution_count": 2,
   "metadata": {},
   "outputs": [
    {
     "output_type": "display_data",
     "data": {
      "text/plain": "<IPython.core.display.HTML object>",
      "text/html": "<table>\n<tbody>\n<tr><td>DATASET</td><td>number of dialogues</td><td>number of utterances</td><td>number of unique speakers</td></tr>\n<tr><td>-------</td><td>-------------------</td><td>--------------------</td><td>-------------------------</td></tr>\n<tr><td>train  </td><td>1038               </td><td>9989                </td><td>260                      </td></tr>\n<tr><td>dev    </td><td>114                </td><td>1108                </td><td>47                       </td></tr>\n<tr><td>test   </td><td>280                </td><td>2610                </td><td>100                      </td></tr>\n<tr><td>-------</td><td>-------------------</td><td>--------------------</td><td>-------------------------</td></tr>\n</tbody>\n</table>"
     },
     "metadata": {}
    },
    {
     "output_type": "display_data",
     "data": {
      "text/plain": "<IPython.core.display.HTML object>",
      "text/html": "<table>\n<tbody>\n<tr><td>train   </td><td>num_utts</td><td>proportion</td></tr>\n<tr><td>-----   </td><td>--------</td><td>----------</td></tr>\n<tr><td>Chandler</td><td>1283    </td><td>0.128     </td></tr>\n<tr><td>Monica  </td><td>1299    </td><td>0.13      </td></tr>\n<tr><td>Rachel  </td><td>1435    </td><td>0.144     </td></tr>\n<tr><td>Joey    </td><td>1510    </td><td>0.151     </td></tr>\n<tr><td>Ross    </td><td>1458    </td><td>0.146     </td></tr>\n<tr><td>Phoebe  </td><td>1321    </td><td>0.132     </td></tr>\n<tr><td>SUM     </td><td>8306    </td><td>0.832     </td></tr>\n<tr><td>-----   </td><td>--------</td><td>----------</td></tr>\n</tbody>\n</table>"
     },
     "metadata": {}
    },
    {
     "output_type": "display_data",
     "data": {
      "text/plain": "<IPython.core.display.HTML object>",
      "text/html": "<table>\n<tbody>\n<tr><td>dev     </td><td>num_utts</td><td>proportion</td></tr>\n<tr><td>---     </td><td>--------</td><td>----------</td></tr>\n<tr><td>Phoebe  </td><td>184     </td><td>0.166     </td></tr>\n<tr><td>Monica  </td><td>137     </td><td>0.124     </td></tr>\n<tr><td>Rachel  </td><td>164     </td><td>0.148     </td></tr>\n<tr><td>Chandler</td><td>101     </td><td>0.091     </td></tr>\n<tr><td>Joey    </td><td>149     </td><td>0.134     </td></tr>\n<tr><td>Ross    </td><td>217     </td><td>0.196     </td></tr>\n<tr><td>SUM     </td><td>952     </td><td>0.859     </td></tr>\n<tr><td>---     </td><td>--------</td><td>----------</td></tr>\n</tbody>\n</table>"
     },
     "metadata": {}
    },
    {
     "output_type": "display_data",
     "data": {
      "text/plain": "<IPython.core.display.HTML object>",
      "text/html": "<table>\n<tbody>\n<tr><td>test    </td><td>num_utts</td><td>proportion</td></tr>\n<tr><td>----    </td><td>--------</td><td>----------</td></tr>\n<tr><td>Rachel  </td><td>356     </td><td>0.136     </td></tr>\n<tr><td>Phoebe  </td><td>291     </td><td>0.111     </td></tr>\n<tr><td>Monica  </td><td>346     </td><td>0.133     </td></tr>\n<tr><td>Ross    </td><td>373     </td><td>0.143     </td></tr>\n<tr><td>Joey    </td><td>411     </td><td>0.157     </td></tr>\n<tr><td>Chandler</td><td>379     </td><td>0.145     </td></tr>\n<tr><td>SUM     </td><td>2156    </td><td>0.826     </td></tr>\n<tr><td>----    </td><td>--------</td><td>----------</td></tr>\n</tbody>\n</table>"
     },
     "metadata": {}
    }
   ],
   "source": [
    "from IPython.display import HTML, display\n",
    "# !pip3 install tabulate\n",
    "import tabulate\n",
    "from collections import Counter\n",
    "\n",
    "with open(PATHS['ANNOTATIONS']['all'], 'r') as stream:\n",
    "    datasets = yaml.safe_load(stream)\n",
    "\n",
    "table = [['DATASET', 'number of dialogues', 'number of utterances', 'number of unique speakers']]\n",
    "table.append('-'*len(foo) for foo in table[0])\n",
    "\n",
    "for DATASET in ['train', 'dev', 'test']:\n",
    "    dias = set([foo.split('_')[0] for foo in list(datasets[DATASET].keys())])\n",
    "    speakers = set([val['Speaker'] for key, val in datasets[DATASET].items()])\n",
    "    table.append([DATASET, len(dias), len(datasets[DATASET]), len(speakers)])\n",
    "table.append('-'*len(foo) for foo in table[0])\n",
    "display(HTML(tabulate.tabulate(table, tablefmt='html')))\n",
    "\n",
    "\n",
    "for DATASET in ['train', 'dev', 'test']:\n",
    "\n",
    "    table = [[DATASET, 'num_utts', 'proportion']]\n",
    "    table.append('-'*len(foo) for foo in table[0])\n",
    "\n",
    "    dias = set([foo.split('_')[0] for foo in list(datasets[DATASET].keys())])\n",
    "    num_utts = len(datasets[DATASET])\n",
    "    speakers = [val['Speaker'] for key, val in datasets[DATASET].items()]\n",
    "    speakers = dict(Counter(speakers))\n",
    "\n",
    "    accu_utts = 0\n",
    "    accu_proportion = 0\n",
    "    for spk, num_occur in speakers.items():\n",
    "        if spk in MAIN_ACTORS:\n",
    "            accu_utts += num_occur\n",
    "            accu_proportion += num_occur / num_utts\n",
    "            table.append([spk, num_occur, round(num_occur / num_utts, 3)])\n",
    "            \n",
    "    accu_proportion = round(accu_proportion, 3)\n",
    "\n",
    "    table.append(['SUM', accu_utts, accu_proportion])\n",
    "    table.append('-'*len(foo) for foo in table[0])\n",
    "    display(HTML(tabulate.tabulate(table, tablefmt='html')))\n"
   ]
  },
  {
   "source": [
    "## Get the stats of the raw video data"
   ],
   "cell_type": "markdown",
   "metadata": {}
  },
  {
   "cell_type": "code",
   "execution_count": 3,
   "metadata": {},
   "outputs": [
    {
     "output_type": "display_data",
     "data": {
      "text/plain": "<IPython.core.display.HTML object>",
      "text/html": "<table>\n<tbody>\n<tr><td>DATASET</td><td>number of vids (mp4) </td></tr>\n<tr><td>-------</td><td>---------------------</td></tr>\n<tr><td>train  </td><td>9989                 </td></tr>\n<tr><td>dev    </td><td>1112                 </td></tr>\n<tr><td>test   </td><td>2747                 </td></tr>\n</tbody>\n</table>"
     },
     "metadata": {}
    }
   ],
   "source": [
    "import os\n",
    "from glob import glob\n",
    "\n",
    "table = [['DATASET', 'number of vids (mp4) ']]\n",
    "table.append('-'*len(foo) for foo in table[0])\n",
    "\n",
    "for DATASET in ['train', 'dev', 'test']:\n",
    "    vids = glob(os.path.join(PATHS['ORIGINAL_VIDEOS'][DATASET], '*.mp4'))\n",
    "    table.append([DATASET, len(vids)])\n",
    "display(HTML(tabulate.tabulate(table, tablefmt='html')))"
   ]
  },
  {
   "source": [
    "## Get the stats of the extracted visual features"
   ],
   "cell_type": "markdown",
   "metadata": {}
  },
  {
   "cell_type": "code",
   "execution_count": 4,
   "metadata": {},
   "outputs": [
    {
     "output_type": "display_data",
     "data": {
      "text/plain": "<IPython.core.display.HTML object>",
      "text/html": "<table>\n<tbody>\n<tr><td>DATASET</td><td>number of npys</td></tr>\n<tr><td>-------</td><td>--------------</td></tr>\n<tr><td>train  </td><td>9988          </td></tr>\n<tr><td>dev    </td><td>1108          </td></tr>\n<tr><td>test   </td><td>2610          </td></tr>\n</tbody>\n</table>"
     },
     "metadata": {}
    }
   ],
   "source": [
    "table = [['DATASET', 'number of npys']]\n",
    "table.append('-'*len(foo) for foo in table[0])\n",
    "\n",
    "for DATASET in ['train', 'dev', 'test']:\n",
    "    npys = glob(os.path.join(PATHS['VISUAL_FEATURES'][DATASET], '*.npy'))\n",
    "    \n",
    "    table.append([DATASET, len(npys)])\n",
    "display(HTML(tabulate.tabulate(table, tablefmt='html')))"
   ]
  },
  {
   "source": [
    "## Get the stats of the extracted face videos"
   ],
   "cell_type": "markdown",
   "metadata": {}
  },
  {
   "cell_type": "code",
   "execution_count": 5,
   "metadata": {},
   "outputs": [
    {
     "output_type": "display_data",
     "data": {
      "text/plain": "<IPython.core.display.HTML object>",
      "text/html": "<table>\n<tbody>\n<tr><td>DATASET</td><td>number of face-vids</td></tr>\n<tr><td>-------</td><td>-------------------</td></tr>\n<tr><td>train  </td><td>7523               </td></tr>\n<tr><td>dev    </td><td>860                </td></tr>\n<tr><td>test   </td><td>1983               </td></tr>\n</tbody>\n</table>"
     },
     "metadata": {}
    }
   ],
   "source": [
    "table = [['DATASET', 'number of face-vids']]\n",
    "table.append('-'*len(foo) for foo in table[0])\n",
    "\n",
    "for DATASET in ['train', 'dev', 'test']:\n",
    "    facevids = glob(os.path.join(PATHS['FACE_VIDEOS'][DATASET], '*.mp4'))\n",
    "\n",
    "    table.append([DATASET, len(facevids)])\n",
    "display(HTML(tabulate.tabulate(table, tablefmt='html')))"
   ]
  }
 ]
}