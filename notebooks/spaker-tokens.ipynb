{
 "cells": [
  {
   "cell_type": "code",
   "execution_count": 1,
   "id": "d92d1b0a-d827-495d-9962-8affd01ad67b",
   "metadata": {},
   "outputs": [
    {
     "name": "stdout",
     "output_type": "stream",
     "text": [
      "/home/tk/repos/erc\n"
     ]
    }
   ],
   "source": [
    "%cd ../"
   ]
  },
  {
   "cell_type": "code",
   "execution_count": 2,
   "id": "629ceb3e-9951-4370-bedb-2c0ff9977b76",
   "metadata": {},
   "outputs": [
    {
     "name": "stderr",
     "output_type": "stream",
     "text": [
      "/home/tk/repos/erc/utils/helper.py:19: YAMLLoadWarning: calling yaml.load() without Loader=... is deprecated, as the default Loader is unsafe. Please read https://msg.pyyaml.org/load for full details.\n",
      "  foo = yaml.load(stream)\n"
     ]
    },
    {
     "data": {
      "text/plain": [
       "('MELD',\n",
       " {'ADD_BOU_EOU': False,\n",
       "  'ADD_SPEAKER_TOKENS': True,\n",
       "  'BATCH_SIZE': 4,\n",
       "  'DATASET': 'MELD',\n",
       "  'HP_N_TRIALS': 5,\n",
       "  'HP_ONLY_UPTO': 103,\n",
       "  'NUM_TRAIN_EPOCHS': 5,\n",
       "  'REPLACE_NAMES_IN_UTTERANCES': False,\n",
       "  'SEEDS': [0, 1, 2, 3, 4],\n",
       "  'SPEAKER_SPLITS': ['train', 'val', 'test'],\n",
       "  'WARMUP_RATIO': 0.2,\n",
       "  'WEIGHT_DECAY': 0.01,\n",
       "  'model_checkpoint': 'roberta-large',\n",
       "  'num_future_utterances': 0,\n",
       "  'num_past_utterances': 1000,\n",
       "  'training_config': 'train-erc-text2.yaml'})"
      ]
     },
     "execution_count": 2,
     "metadata": {},
     "output_type": "execute_result"
    }
   ],
   "source": [
    "from utils import read_json, read_yaml, gets_DATASET_kwargs\n",
    "from utils import get_tokenizer_model_ds, get_diaid_uttid_utts\n",
    "\n",
    "model_checkpoint = 'results/MELD/roberta-large/2021-05-23-00-20-58/4/checkpoint-12490/'\n",
    "# model_checkpoint = 'results/IEMOCAP/roberta-large/2021-05-21-07-58-04/3/checkpoint-4780/'\n",
    "\n",
    "\n",
    "DATASET, kwargs = gets_DATASET_kwargs(model_checkpoint)\n",
    "DATASET, kwargs"
   ]
  },
  {
   "cell_type": "code",
   "execution_count": 3,
   "id": "dc09f622-7af3-49ed-a540-f5b29494d1cc",
   "metadata": {
    "tags": []
   },
   "outputs": [
    {
     "name": "stderr",
     "output_type": "stream",
     "text": [
      "2021-05-27 16:48:13.576 INFO utils - _load_utterance_ordered: every text file exists fine!\n",
      "2021-05-27 16:48:13.577 INFO utils - _string2tokens: converting utterances into tokens ...\n",
      "2021-05-27 16:48:13.578 INFO utils - _string2tokens: creating input utterance data ... \n",
      "100%|██████████| 1038/1038 [00:15<00:00, 65.75it/s]\n",
      "2021-05-27 16:48:30.008 INFO utils - _create_input: number of truncated utterances: 2\n"
     ]
    }
   ],
   "source": [
    "tokenizer, model, ds = get_tokenizer_model_ds(DATASET, kwargs, model_checkpoint, SPLIT='train')"
   ]
  },
  {
   "cell_type": "code",
   "execution_count": 4,
   "id": "cd8b885f-0206-40c8-a909-b4e65db70270",
   "metadata": {},
   "outputs": [
    {
     "name": "stdout",
     "output_type": "stream",
     "text": [
      "idx: 1146\n",
      "\n",
      "diaid: dia418 \n",
      "uttid: dia418_utt3\n",
      "\n",
      "[0, 50393, 30086, 328, 38, 17, 27, 119, 925, 4, 10057, 8022, 368, 857, 8, 38, 33, 10, 367, 6108, 1142, 38, 240, 7, 1394, 47, 4, 50421, 30327, 116, 38, 17, 27, 548, 57, 4098, 19, 925, 4, 6093, 4, 50393, 100, 216, 6, 53, 38, 17, 27, 119, 10, 31649, 661, 4, 2, 2, 50393, 2409, 95, 7, 28, 15, 5, 1522, 526, 6, 925, 4, 6093, 770, 10, 55, 5145, 13433, 9, 47, 2194, 98, 37, 1051, 162, 4, 2]\n",
      "\n",
      "<s><Joey>Hi! I’m Dr. Drake Remoray and I have a few routine questions I need to ask you.<Man>Really? I’ve been dealing with Dr. Wells.<Joey>I know, but I’m a neurologist.</s></s><Joey>And just to be on the safe side, Dr. Wells wanted a more comprehensive overview of you status so he sent me.</s>\n",
      "\n",
      "(neutral) <Joey>And just to be on the safe side, Dr. Wells wanted a more comprehensive overview of you status so he sent me.\n",
      "\n",
      "('dia418_utt0, (neutral) <Joey>Hi! I’m Dr. Drake Remoray and I have a few '\n",
      " 'routine questions I need to ask you.')\n",
      "'dia418_utt1, (surprise) <Man>Really? I’ve been dealing with Dr. Wells.'\n",
      "'dia418_utt2, (neutral) <Joey>I know, but I’m a neurologist.'\n",
      "('dia418_utt3, (neutral) <Joey>And just to be on the safe side, Dr. Wells '\n",
      " 'wanted a more comprehensive overview of you status so he sent me.')\n",
      "'dia418_utt4, (surprise) <Man>Dr. Wells is a woman.'\n",
      "('dia418_utt5, (neutral) <Joey>That was a test. Good response. All right, full '\n",
      " 'name.')\n",
      "'dia418_utt6, (neutral) <Man>Clifford Burnett.'\n",
      "'dia418_utt7, (neutral) <Joey>Date of birth?'\n",
      "'dia418_utt8, (neutral) <Cliff>November 16'\n",
      "'dia418_utt9, (neutral) <Joey>Age?'\n",
      "('dia418_utt10, (anger) <Cliff>Can’t you figure that out based on my date of '\n",
      " 'birth?')\n",
      "'dia418_utt11, (neutral) <Joey>I’m a doctor Cliff, not a mathematician.'\n",
      "'dia418_utt12, (neutral) <Cliff>I’m 33.'\n",
      "'dia418_utt13, (neutral) <Joey>Okay. And uh, are you married.'\n",
      "'dia418_utt14, (neutral) <Cliff>No.'\n",
      "('dia418_utt15, (surprise) <Joey>Oh really? So, 33 and still single, would you '\n",
      " 'say you have commitment issues?')\n",
      "'dia418_utt16, (surprise) <Cliff>Are all the questions this personal?'\n",
      "'dia418_utt17, (neutral) <Joey>Yes.'\n",
      "'dia418_utt18, (sadness) <Cliff>Well uh if you must know I’m a widower.'\n",
      "'dia418_utt19, (sadness) <Joey>Oh that’s terrible. I’m-I’m really sorry.'\n",
      "'dia418_utt20, (neutral) <Cliff>Yeah.'\n",
      "('dia418_utt21, (neutral) <Joey>Hmm. Do you sleep with women and never call '\n",
      " 'them again?')\n",
      "'dia418_utt22, (neutral) <Cliff>No.'\n"
     ]
    }
   ],
   "source": [
    "idx, input_ids, attention_mask, labelid, decoded, diaid, uttid, utt, utts = get_diaid_uttid_utts(ds, tokenizer)"
   ]
  }
 ],
 "metadata": {
  "kernelspec": {
   "display_name": "Python 3",
   "language": "python",
   "name": "python3"
  },
  "language_info": {
   "codemirror_mode": {
    "name": "ipython",
    "version": 3
   },
   "file_extension": ".py",
   "mimetype": "text/x-python",
   "name": "python",
   "nbconvert_exporter": "python",
   "pygments_lexer": "ipython3",
   "version": "3.7.10"
  }
 },
 "nbformat": 4,
 "nbformat_minor": 5
}
