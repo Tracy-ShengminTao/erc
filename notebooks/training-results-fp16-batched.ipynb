{
 "cells": [
  {
   "cell_type": "code",
   "execution_count": 2,
   "id": "f0a04b5c-80bb-413c-998f-2f442c96e456",
   "metadata": {},
   "outputs": [
    {
     "name": "stdout",
     "output_type": "stream",
     "text": [
      "/home/tae898/repos/erc\n"
     ]
    }
   ],
   "source": [
    "%cd .."
   ]
  },
  {
   "cell_type": "code",
   "execution_count": 3,
   "id": "2619a3d4",
   "metadata": {},
   "outputs": [],
   "source": [
    "from glob import glob\n",
    "import os\n",
    "import json\n",
    "import numpy as np\n",
    "from pprint import pprint\n",
    "import yaml\n",
    "from src import read_json, read_yaml, parse_path, print_what_you_want"
   ]
  },
  {
   "cell_type": "code",
   "execution_count": 4,
   "id": "a10c8838",
   "metadata": {},
   "outputs": [
    {
     "name": "stdout",
     "output_type": "stream",
     "text": [
      "ADD_BOU: True\n",
      "ADD_EOU: True\n",
      "ADD_SPEAKER_TOKENS: True\n",
      "NUM_TRAIN_EPOCHS: 5\n",
      "REPLACE_NAMES_IN_UTTERANCES: False\n",
      "SPEAKER_SPLITS: ['train', 'val', 'test']\n",
      "model_checkpoint: roberta-large\n",
      "num_future_utterances: 1000\n",
      "num_past_utterances: 1000\n",
      "path: results/MELD/roberta-large/2021-06-02-11-56-09/kwargs.yaml\n",
      "val_results_mean_std: {'mean': 0.6724572546276034, 'std': 0.0031377299187237894, 'num_samples': 5}\n",
      "test_results_mean_std: {'mean': 0.6596394257273535, 'std': 0.006374465023475231, 'num_samples': 5}\n",
      "\n",
      "ADD_BOU: False\n",
      "ADD_EOU: False\n",
      "ADD_SPEAKER_TOKENS: True\n",
      "NUM_TRAIN_EPOCHS: 5\n",
      "REPLACE_NAMES_IN_UTTERANCES: False\n",
      "SPEAKER_SPLITS: ['train', 'val', 'test']\n",
      "model_checkpoint: roberta-large\n",
      "num_future_utterances: 1000\n",
      "num_past_utterances: 1000\n",
      "path: results/MELD/roberta-large/2021-06-01-12-36-45/kwargs.yaml\n",
      "val_results_mean_std: {'mean': 0.6724088682011764, 'std': 0.009060874948742302, 'num_samples': 5}\n",
      "test_results_mean_std: {'mean': 0.6578266286303185, 'std': 0.006683818890420509, 'num_samples': 5}\n",
      "\n",
      "ADD_BOU: False\n",
      "ADD_EOU: False\n",
      "ADD_SPEAKER_TOKENS: True\n",
      "NUM_TRAIN_EPOCHS: 5\n",
      "REPLACE_NAMES_IN_UTTERANCES: False\n",
      "SPEAKER_SPLITS: ['train', 'val', 'test']\n",
      "model_checkpoint: roberta-large\n",
      "num_future_utterances: 0\n",
      "num_past_utterances: 1000\n",
      "path: results/MELD/roberta-large/2021-06-01-06-07-57/kwargs.yaml\n",
      "val_results_mean_std: {'mean': 0.6562843752910095, 'std': 0.0048876337584414275, 'num_samples': 5}\n",
      "test_results_mean_std: {'mean': 0.6496687608560628, 'std': 0.0047592259721740094, 'num_samples': 5}\n",
      "\n",
      "ADD_BOU: True\n",
      "ADD_EOU: True\n",
      "ADD_SPEAKER_TOKENS: True\n",
      "NUM_TRAIN_EPOCHS: 5\n",
      "REPLACE_NAMES_IN_UTTERANCES: False\n",
      "SPEAKER_SPLITS: ['train', 'val', 'test']\n",
      "model_checkpoint: roberta-large\n",
      "num_future_utterances: 0\n",
      "num_past_utterances: 1000\n",
      "path: results/MELD/roberta-large/2021-06-02-23-19-11/kwargs.yaml\n",
      "val_results_mean_std: {'mean': 0.6536702205272447, 'std': 0.006294536641775711, 'num_samples': 5}\n",
      "test_results_mean_std: {'mean': 0.6449831039755038, 'std': 0.004582570632582696, 'num_samples': 5}\n",
      "\n",
      "ADD_BOU: True\n",
      "ADD_EOU: True\n",
      "ADD_SPEAKER_TOKENS: False\n",
      "NUM_TRAIN_EPOCHS: 5\n",
      "REPLACE_NAMES_IN_UTTERANCES: False\n",
      "SPEAKER_SPLITS: ['train', 'val', 'test']\n",
      "model_checkpoint: roberta-large\n",
      "num_future_utterances: 0\n",
      "num_past_utterances: 1000\n",
      "path: results/MELD/roberta-large/2021-06-01-09-21-19/kwargs.yaml\n",
      "val_results_mean_std: {'mean': 0.6518534387314564, 'std': 0.006775844426909927, 'num_samples': 5}\n",
      "test_results_mean_std: {'mean': 0.6428660949787497, 'std': 0.008723565921517358, 'num_samples': 5}\n",
      "\n",
      "ADD_BOU: True\n",
      "ADD_EOU: True\n",
      "ADD_SPEAKER_TOKENS: True\n",
      "NUM_TRAIN_EPOCHS: 5\n",
      "REPLACE_NAMES_IN_UTTERANCES: False\n",
      "SPEAKER_SPLITS: ['train', 'val', 'test']\n",
      "model_checkpoint: roberta-large\n",
      "num_future_utterances: 0\n",
      "num_past_utterances: 1000\n",
      "path: results/MELD/roberta-large/2021-06-02-16-05-53/kwargs.yaml\n",
      "val_results_mean_std: {'mean': 0.5880662376365651, 'std': 0.06392824122225388, 'num_samples': 5}\n",
      "test_results_mean_std: {'mean': 0.6024478734410832, 'std': 0.05453097847355992, 'num_samples': 5}\n",
      "\n"
     ]
    }
   ],
   "source": [
    "DATASET = 'MELD'\n",
    "seed_results = glob(f'results/{DATASET}/*/*/kwargs.yaml')\n",
    "seed_results = [parse_path(foo) for foo in seed_results]\n",
    "seed_results = [foo for foo in seed_results if foo is not None]\n",
    "\n",
    "print_what_you_want(seed_results, metric='f1_weighted')"
   ]
  },
  {
   "cell_type": "code",
   "execution_count": 4,
   "id": "5cffb2b4-571e-4e06-b8dc-2e6739636e83",
   "metadata": {},
   "outputs": [
    {
     "name": "stdout",
     "output_type": "stream",
     "text": [
      "ADD_BOU: False\n",
      "ADD_EOU: False\n",
      "ADD_SPEAKER_TOKENS: True\n",
      "NUM_TRAIN_EPOCHS: 5\n",
      "REPLACE_NAMES_IN_UTTERANCES: False\n",
      "SPEAKER_SPLITS: ['train', 'val', 'test']\n",
      "model_checkpoint: roberta-large\n",
      "num_future_utterances: 0\n",
      "num_past_utterances: 1000\n",
      "path: results/IEMOCAP/roberta-large/2021-05-31-20-58-35/kwargs.yaml\n",
      "val_results_mean_std: {'mean': 0.6434923303451727, 'std': 0.013105741362095797, 'num_samples': 5}\n",
      "test_results_mean_std: {'mean': 0.6707066471947625, 'std': 0.008771320774317344, 'num_samples': 5}\n",
      "\n",
      "ADD_BOU: False\n",
      "ADD_EOU: False\n",
      "ADD_SPEAKER_TOKENS: True\n",
      "NUM_TRAIN_EPOCHS: 5\n",
      "REPLACE_NAMES_IN_UTTERANCES: False\n",
      "SPEAKER_SPLITS: ['train', 'val', 'test']\n",
      "model_checkpoint: roberta-large\n",
      "num_future_utterances: 1000\n",
      "num_past_utterances: 1000\n",
      "path: results/IEMOCAP/roberta-large/2021-06-01-03-03-58/kwargs.yaml\n",
      "val_results_mean_std: {'mean': 0.6366509934734441, 'std': 0.008542158586976677, 'num_samples': 5}\n",
      "test_results_mean_std: {'mean': 0.6688823566871317, 'std': 0.006678758101777102, 'num_samples': 5}\n",
      "\n",
      "ADD_BOU: True\n",
      "ADD_EOU: True\n",
      "ADD_SPEAKER_TOKENS: True\n",
      "NUM_TRAIN_EPOCHS: 5\n",
      "REPLACE_NAMES_IN_UTTERANCES: False\n",
      "SPEAKER_SPLITS: ['train', 'val', 'test']\n",
      "model_checkpoint: roberta-large\n",
      "num_future_utterances: 0\n",
      "num_past_utterances: 1000\n",
      "path: results/IEMOCAP/roberta-large/2021-06-03-10-55-22/kwargs.yaml\n",
      "val_results_mean_std: {'mean': 0.6399719628000458, 'std': 0.0035058475115925854, 'num_samples': 5}\n",
      "test_results_mean_std: {'mean': 0.6667129208182064, 'std': 0.007050170131147337, 'num_samples': 5}\n",
      "\n",
      "ADD_BOU: True\n",
      "ADD_EOU: True\n",
      "ADD_SPEAKER_TOKENS: True\n",
      "NUM_TRAIN_EPOCHS: 5\n",
      "REPLACE_NAMES_IN_UTTERANCES: False\n",
      "SPEAKER_SPLITS: ['train', 'val', 'test']\n",
      "model_checkpoint: roberta-large\n",
      "num_future_utterances: 1000\n",
      "num_past_utterances: 1000\n",
      "path: results/IEMOCAP/roberta-large/2021-06-02-20-14-31/kwargs.yaml\n",
      "val_results_mean_std: {'mean': 0.6317212286186202, 'std': 0.010296740874096022, 'num_samples': 5}\n",
      "test_results_mean_std: {'mean': 0.6637575119608033, 'std': 0.005854311769631786, 'num_samples': 5}\n",
      "\n",
      "ADD_BOU: True\n",
      "ADD_EOU: True\n",
      "ADD_SPEAKER_TOKENS: False\n",
      "NUM_TRAIN_EPOCHS: 5\n",
      "REPLACE_NAMES_IN_UTTERANCES: False\n",
      "SPEAKER_SPLITS: ['train', 'val', 'test']\n",
      "model_checkpoint: roberta-large\n",
      "num_future_utterances: 0\n",
      "num_past_utterances: 1000\n",
      "path: results/IEMOCAP/roberta-large/2021-06-01-00-00-42/kwargs.yaml\n",
      "val_results_mean_std: {'mean': 0.6403308744355306, 'std': 0.007159025710150715, 'num_samples': 5}\n",
      "test_results_mean_std: {'mean': 0.662961336729806, 'std': 0.01836833777776763, 'num_samples': 5}\n",
      "\n"
     ]
    }
   ],
   "source": [
    "DATASET = 'IEMOCAP'\n",
    "seed_results = glob(f'results/{DATASET}/*/*/kwargs.yaml')\n",
    "seed_results = [parse_path(foo) for foo in seed_results]\n",
    "seed_results = [foo for foo in seed_results if foo is not None]\n",
    "\n",
    "print_what_you_want(seed_results, metric='f1_weighted')"
   ]
  },
  {
   "cell_type": "code",
   "execution_count": null,
   "id": "2a4ed74a-5b05-49a1-8a1c-b9d5ed462bf9",
   "metadata": {},
   "outputs": [],
   "source": []
  }
 ],
 "metadata": {
  "kernelspec": {
   "display_name": "Python 3",
   "language": "python",
   "name": "python3"
  },
  "language_info": {
   "codemirror_mode": {
    "name": "ipython",
    "version": 3
   },
   "file_extension": ".py",
   "mimetype": "text/x-python",
   "name": "python",
   "nbconvert_exporter": "python",
   "pygments_lexer": "ipython3",
   "version": "3.7.10"
  },
  "metadata": {
   "interpreter": {
    "hash": "31f2aee4e71d21fbe5cf8b01ff0e069b9275f58929596ceb00d14d90e3e16cd6"
   }
  }
 },
 "nbformat": 4,
 "nbformat_minor": 5
}
