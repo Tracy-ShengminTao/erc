{
 "cells": [
  {
   "cell_type": "code",
   "execution_count": 1,
   "id": "8f937365-15c3-41b4-89c5-62ad62771999",
   "metadata": {},
   "outputs": [
    {
     "name": "stdout",
     "output_type": "stream",
     "text": [
      "/home/tk/repos/erc\n"
     ]
    }
   ],
   "source": [
    "%cd ../"
   ]
  },
  {
   "cell_type": "code",
   "execution_count": 2,
   "id": "f0941f3c-16c9-41a6-9f78-cba4bb356913",
   "metadata": {},
   "outputs": [
    {
     "name": "stderr",
     "output_type": "stream",
     "text": [
      "/home/tk/repos/erc/utils/helper.py:19: YAMLLoadWarning: calling yaml.load() without Loader=... is deprecated, as the default Loader is unsafe. Please read https://msg.pyyaml.org/load for full details.\n",
      "  foo = yaml.load(stream)\n"
     ]
    },
    {
     "data": {
      "text/plain": [
       "('MELD',\n",
       " {'ADD_BOU_EOU': False,\n",
       "  'ADD_SPEAKER_TOKENS': True,\n",
       "  'BATCH_SIZE': 4,\n",
       "  'DATASET': 'MELD',\n",
       "  'HP_N_TRIALS': 5,\n",
       "  'HP_ONLY_UPTO': 103,\n",
       "  'NUM_TRAIN_EPOCHS': 5,\n",
       "  'REPLACE_NAMES_IN_UTTERANCES': False,\n",
       "  'SEEDS': [0, 1, 2, 3, 4],\n",
       "  'SPEAKER_SPLITS': ['train', 'val', 'test'],\n",
       "  'WARMUP_RATIO': 0.2,\n",
       "  'WEIGHT_DECAY': 0.01,\n",
       "  'model_checkpoint': 'roberta-large',\n",
       "  'num_future_utterances': 0,\n",
       "  'num_past_utterances': 1000,\n",
       "  'training_config': 'train-erc-text2.yaml'})"
      ]
     },
     "execution_count": 2,
     "metadata": {},
     "output_type": "execute_result"
    }
   ],
   "source": [
    "from utils import read_json, read_yaml, gets_DATASET_kwargs\n",
    "from utils import get_tokenizer_model_ds, get_diaid_uttid_utts, return_coeffs\n",
    "\n",
    "model_checkpoint = 'results/MELD/roberta-large/2021-05-23-00-20-58/4/checkpoint-12490/'\n",
    "# model_checkpoint = 'results/IEMOCAP/roberta-large/2021-05-21-07-58-04/3/checkpoint-4780/'\n",
    "\n",
    "DATASET, kwargs = gets_DATASET_kwargs(model_checkpoint)\n",
    "DATASET, kwargs"
   ]
  },
  {
   "cell_type": "code",
   "execution_count": 3,
   "id": "900e9d77-d234-4daf-8489-37bbede007a7",
   "metadata": {},
   "outputs": [
    {
     "name": "stderr",
     "output_type": "stream",
     "text": [
      "2021-05-27 16:49:54.879 INFO utils - _load_utterance_ordered: every text file exists fine!\n",
      "2021-05-27 16:49:54.879 INFO utils - _string2tokens: converting utterances into tokens ...\n",
      "2021-05-27 16:49:54.881 INFO utils - _string2tokens: creating input utterance data ... \n",
      "100%|██████████| 1038/1038 [00:15<00:00, 66.13it/s]\n",
      "2021-05-27 16:50:11.256 INFO utils - _create_input: number of truncated utterances: 2\n"
     ]
    }
   ],
   "source": [
    "tokenizer, model, ds = get_tokenizer_model_ds(DATASET, kwargs, model_checkpoint, SPLIT='train')"
   ]
  },
  {
   "cell_type": "code",
   "execution_count": 4,
   "id": "8ee14fb6-995f-4b88-8020-f1d78b7e18fc",
   "metadata": {},
   "outputs": [
    {
     "name": "stdout",
     "output_type": "stream",
     "text": [
      "idx: 1146\n",
      "\n",
      "diaid: dia418 \n",
      "uttid: dia418_utt3\n",
      "\n",
      "[0, 50393, 30086, 328, 38, 17, 27, 119, 925, 4, 10057, 8022, 368, 857, 8, 38, 33, 10, 367, 6108, 1142, 38, 240, 7, 1394, 47, 4, 50421, 30327, 116, 38, 17, 27, 548, 57, 4098, 19, 925, 4, 6093, 4, 50393, 100, 216, 6, 53, 38, 17, 27, 119, 10, 31649, 661, 4, 2, 2, 50393, 2409, 95, 7, 28, 15, 5, 1522, 526, 6, 925, 4, 6093, 770, 10, 55, 5145, 13433, 9, 47, 2194, 98, 37, 1051, 162, 4, 2]\n",
      "\n",
      "<s><Joey>Hi! I’m Dr. Drake Remoray and I have a few routine questions I need to ask you.<Man>Really? I’ve been dealing with Dr. Wells.<Joey>I know, but I’m a neurologist.</s></s><Joey>And just to be on the safe side, Dr. Wells wanted a more comprehensive overview of you status so he sent me.</s>\n",
      "\n",
      "(neutral) <Joey>And just to be on the safe side, Dr. Wells wanted a more comprehensive overview of you status so he sent me.\n",
      "\n",
      "('dia418_utt0, (neutral) <Joey>Hi! I’m Dr. Drake Remoray and I have a few '\n",
      " 'routine questions I need to ask you.')\n",
      "'dia418_utt1, (surprise) <Man>Really? I’ve been dealing with Dr. Wells.'\n",
      "'dia418_utt2, (neutral) <Joey>I know, but I’m a neurologist.'\n",
      "('dia418_utt3, (neutral) <Joey>And just to be on the safe side, Dr. Wells '\n",
      " 'wanted a more comprehensive overview of you status so he sent me.')\n",
      "'dia418_utt4, (surprise) <Man>Dr. Wells is a woman.'\n",
      "('dia418_utt5, (neutral) <Joey>That was a test. Good response. All right, full '\n",
      " 'name.')\n",
      "'dia418_utt6, (neutral) <Man>Clifford Burnett.'\n",
      "'dia418_utt7, (neutral) <Joey>Date of birth?'\n",
      "'dia418_utt8, (neutral) <Cliff>November 16'\n",
      "'dia418_utt9, (neutral) <Joey>Age?'\n",
      "('dia418_utt10, (anger) <Cliff>Can’t you figure that out based on my date of '\n",
      " 'birth?')\n",
      "'dia418_utt11, (neutral) <Joey>I’m a doctor Cliff, not a mathematician.'\n",
      "'dia418_utt12, (neutral) <Cliff>I’m 33.'\n",
      "'dia418_utt13, (neutral) <Joey>Okay. And uh, are you married.'\n",
      "'dia418_utt14, (neutral) <Cliff>No.'\n",
      "('dia418_utt15, (surprise) <Joey>Oh really? So, 33 and still single, would you '\n",
      " 'say you have commitment issues?')\n",
      "'dia418_utt16, (surprise) <Cliff>Are all the questions this personal?'\n",
      "'dia418_utt17, (neutral) <Joey>Yes.'\n",
      "'dia418_utt18, (sadness) <Cliff>Well uh if you must know I’m a widower.'\n",
      "'dia418_utt19, (sadness) <Joey>Oh that’s terrible. I’m-I’m really sorry.'\n",
      "'dia418_utt20, (neutral) <Cliff>Yeah.'\n",
      "('dia418_utt21, (neutral) <Joey>Hmm. Do you sleep with women and never call '\n",
      " 'them again?')\n",
      "'dia418_utt22, (neutral) <Cliff>No.'\n",
      "('<s><Joey>Hi! I’m Dr. Drake Remoray and I have a few routine questions I need '\n",
      " 'to ask you.<Man>Really? I’ve been dealing with Dr. Wells.<Joey>I know, but '\n",
      " 'I’m a neurologist.</s></s><Joey>And just to be on the safe side, Dr. Wells '\n",
      " 'wanted a more comprehensive overview of you status so he sent me.</s>')\n",
      "\n",
      "'data_idx: 1146'\n",
      "'pred: neutral'\n",
      "'truth: neutral'\n",
      "'number of tokens in the input: 83'\n",
      "\n"
     ]
    }
   ],
   "source": [
    "import pprint\n",
    "import torch\n",
    "from tqdm.notebook import tqdm\n",
    "import matplotlib.pyplot as plt\n",
    "\n",
    "\n",
    "idx, input_ids, attention_mask, labelid, decoded, diaid, uttid, utt, utts = get_diaid_uttid_utts(ds, tokenizer)\n",
    "\n",
    "pprint.pprint(f\"{decoded}\")\n",
    "print()\n",
    "\n",
    "outputs = model(**{'input_ids': input_ids, 'attention_mask': attention_mask}, labels=labelid, output_attentions=True, output_hidden_states=True)\n",
    "attentions = outputs.attentions\n",
    "pred = int(outputs.logits.argmax().numpy())\n",
    "truth = int(labelid[0][0].numpy())\n",
    "\n",
    "pprint.pprint(f\"data_idx: {idx}\")\n",
    "pprint.pprint(f\"pred: {ds.id2emotion[pred]}\")\n",
    "pprint.pprint(f\"truth: {ds.id2emotion[truth]}\")\n",
    "pprint.pprint(f\"number of tokens in the input: {input_ids.shape[1]}\")\n",
    "print()"
   ]
  },
  {
   "cell_type": "code",
   "execution_count": 5,
   "id": "7c6a8435-6b23-4017-9e92-fe59e7d8323d",
   "metadata": {},
   "outputs": [
    {
     "data": {
      "text/plain": [
       "'<s><Joey>Hi! I’m Dr. Drake Remoray and I have a few routine questions I need to ask you.<Man>Really? I’ve been dealing with Dr. Wells.<Joey>I know, but I’m a neurologist.</s></s><Joey>And just to be on the safe side, Dr. Wells wanted a more comprehensive overview of you status so he sent me.</s>'"
      ]
     },
     "execution_count": 5,
     "metadata": {},
     "output_type": "execute_result"
    }
   ],
   "source": [
    "decoded"
   ]
  },
  {
   "cell_type": "code",
   "execution_count": 6,
   "id": "4a45c106-8918-451f-a047-4a31b6f8fe0c",
   "metadata": {},
   "outputs": [
    {
     "data": {
      "image/png": "[encoded data removed]",
      "text/plain": [
       "<Figure size 432x288 with 1 Axes>"
      ]
     },
     "metadata": {
      "needs_background": "light"
     },
     "output_type": "display_data"
    },
    {
     "name": "stdout",
     "output_type": "stream",
     "text": [
      "[(0, '<s>', 0.09249679), (1, '<Joey>', 0.010879917), (2, 'Hi', 0.0006830105), (3, '!', 0.0018044492), (4, 'I', 8.730368e-05), (5, 'âĢ', 0.019295882), (6, 'Ļ', 0.0007383877), (7, 'm', 0.00011407709), (8, 'Dr', 0.0048575667), (9, '.', 0.02254547), (10, 'Drake', 0.0017464121), (11, 'Rem', 0.0013301295), (12, 'or', 0.0005684545), (13, 'ay', 0.00062028365), (14, 'and', 0.00011733377), (15, 'I', 0.0029691441), (16, 'have', 0.00016837135), (17, 'a', 0.0636958), (18, 'few', 0.00052024215), (19, 'routine', 0.0001337978), (20, 'questions', 0.00052747404), (21, 'I', 9.832939e-05), (22, 'need', 0.00016893185), (23, 'to', 0.003568904), (24, 'ask', 5.7894962e-05), (25, 'you', 0.00033108698), (26, '.', 0.022545487), (27, '<Man>', 0.0021035154), (28, 'Really', 0.0003043648), (29, '?', 0.001288914), (30, 'I', 5.0445306e-05), (31, 'âĢ', 0.018586779), (32, 'Ļ', 0.002555638), (33, 've', 4.8903017e-05), (34, 'been', 4.808689e-05), (35, 'dealing', 2.9884099e-05), (36, 'with', 4.0920626e-05), (37, 'Dr', 0.00059070456), (38, '.', 0.022545522), (39, 'Wells', 0.0012813727), (40, '.', 0.02254545), (41, '<Joey>', 0.00030163853), (42, 'I', 0.007658308), (43, 'know', 0.00011856246), (44, ',', 0.07736776), (45, 'but', 5.9052578e-05), (46, 'I', 9.865226e-05), (47, 'âĢ', 0.009888452), (48, 'Ļ', 0.0010500307), (49, 'm', 8.103784e-05), (50, 'a', 0.0064404155), (51, 'neurolog', 0.0033879192), (52, 'ist', 0.007192067), (53, '.', 0.02254548), (54, '</s>', 0.027080199), (55, '</s>', 0.079173826), (56, '<Joey>', 0.052250504), (57, 'And', 0.013722136), (58, 'just', 0.0011859753), (59, 'to', 0.0017376462), (60, 'be', 0.0006816783), (61, 'on', 0.0018864746), (62, 'the', 0.004139669), (63, 'safe', 0.0012171516), (64, 'side', 0.00038090124), (65, ',', 0.0037075966), (66, 'Dr', 0.0037682778), (67, '.', 0.022545483), (68, 'Wells', 0.01130858), (69, 'wanted', 0.0014627442), (70, 'a', 0.003271512), (71, 'more', 0.0016844766), (72, 'comprehensive', 0.0016774702), (73, 'overview', 0.0025439023), (74, 'of', 0.0020133744), (75, 'you', 0.0061662686), (76, 'status', 0.0026277888), (77, 'so', 0.002061919), (78, 'he', 0.0060382313), (79, 'sent', 0.002132062), (80, 'me', 0.013694289), (81, '.', 0.022545453), (82, '</s>', 0.24641359)]\n",
      "\n",
      "[(82, '</s>', 0.24641359), (0, '<s>', 0.09249679), (55, '</s>', 0.079173826), (44, ',', 0.07736776), (17, 'a', 0.0636958), (56, '<Joey>', 0.052250504), (54, '</s>', 0.027080199), (38, '.', 0.022545522), (26, '.', 0.022545487), (67, '.', 0.022545483)]\n"
     ]
    }
   ],
   "source": [
    "QUERY_TOKEN, coeffs, tokens, idx_token_coeffs = return_coeffs(tokenizer, input_ids, attentions, LAYER=-1, QUERY_TOKEN_IDX=0)\n",
    "\n",
    "plt.figure()\n",
    "plt.plot(coeffs);\n",
    "plt.title(f'query: {QUERY_TOKEN}')\n",
    "plt.show()\n",
    "\n",
    "print(idx_token_coeffs)\n",
    "print()\n",
    "\n",
    "top_10 = sorted(idx_token_coeffs, key=lambda x:-x[2])[:10]\n",
    "print(top_10)"
   ]
  },
  {
   "cell_type": "code",
   "execution_count": 7,
   "id": "fcad9e5b-32fe-4e51-b8a1-73081ef6c09d",
   "metadata": {},
   "outputs": [
    {
     "data": {
      "image/png": "[encoded data removed]",
      "text/plain": [
       "<Figure size 432x288 with 1 Axes>"
      ]
     },
     "metadata": {
      "needs_background": "light"
     },
     "output_type": "display_data"
    },
    {
     "name": "stdout",
     "output_type": "stream",
     "text": [
      "[(0, '<s>', 0.022653831), (1, '<Joey>', 0.028610503), (2, 'Hi', 0.005821994), (3, '!', 0.0038452626), (4, 'I', 0.0062264167), (5, 'âĢ', 0.0048522092), (6, 'Ļ', 0.008075174), (7, 'm', 0.00630231), (8, 'Dr', 0.011089333), (9, '.', 0.010117874), (10, 'Drake', 0.010847836), (11, 'Rem', 0.01316568), (12, 'or', 0.008661462), (13, 'ay', 0.005998225), (14, 'and', 0.008558411), (15, 'I', 0.0066854605), (16, 'have', 0.008398946), (17, 'a', 0.008397085), (18, 'few', 0.010731436), (19, 'routine', 0.010633842), (20, 'questions', 0.005987451), (21, 'I', 0.006650354), (22, 'need', 0.006952608), (23, 'to', 0.007451642), (24, 'ask', 0.0070685106), (25, 'you', 0.008404595), (26, '.', 0.0088399), (27, '<Man>', 0.042582978), (28, 'Really', 0.00861693), (29, '?', 0.005236387), (30, 'I', 0.0063756756), (31, 'âĢ', 0.0060144067), (32, 'Ļ', 0.0075108022), (33, 've', 0.0062186606), (34, 'been', 0.011318507), (35, 'dealing', 0.008370879), (36, 'with', 0.0105367135), (37, 'Dr', 0.012768372), (38, '.', 0.010270173), (39, 'Wells', 0.0048582996), (40, '.', 0.009712319), (41, '<Joey>', 0.048421245), (42, 'I', 0.006367136), (43, 'know', 0.0074629555), (44, ',', 0.032310124), (45, 'but', 0.0071136053), (46, 'I', 0.0067772632), (47, 'âĢ', 0.005281117), (48, 'Ļ', 0.008802939), (49, 'm', 0.006282805), (50, 'a', 0.009280194), (51, 'neurolog', 0.0053337724), (52, 'ist', 0.011789378), (53, '.', 0.010275129), (54, '</s>', 0.03284058), (55, '</s>', 0.04934121), (56, '<Joey>', 0.045330983), (57, 'And', 0.009032068), (58, 'just', 0.0057699597), (59, 'to', 0.006886752), (60, 'be', 0.011965938), (61, 'on', 0.0063348645), (62, 'the', 0.008167991), (63, 'safe', 0.0041491305), (64, 'side', 0.0071127196), (65, ',', 0.053463295), (66, 'Dr', 0.011893788), (67, '.', 0.011440465), (68, 'Wells', 0.006384559), (69, 'wanted', 0.005069352), (70, 'a', 0.00933419), (71, 'more', 0.013251594), (72, 'comprehensive', 0.0039434205), (73, 'overview', 0.007297118), (74, 'of', 0.006242699), (75, 'you', 0.008650337), (76, 'status', 0.0062523014), (77, 'so', 0.010379514), (78, 'he', 0.0076795425), (79, 'sent', 0.009042435), (80, 'me', 0.007236604), (81, '.', 0.010936752), (82, '</s>', 0.05765274)]\n",
      "\n",
      "[(82, '</s>', 0.05765274), (65, ',', 0.053463295), (55, '</s>', 0.04934121), (41, '<Joey>', 0.048421245), (56, '<Joey>', 0.045330983), (27, '<Man>', 0.042582978), (54, '</s>', 0.03284058), (44, ',', 0.032310124), (1, '<Joey>', 0.028610503), (0, '<s>', 0.022653831)]\n"
     ]
    }
   ],
   "source": [
    "QUERY_TOKEN, coeffs, tokens, idx_token_coeffs = return_coeffs(tokenizer, input_ids, attentions, LAYER=0, QUERY_TOKEN_IDX=0)\n",
    "\n",
    "plt.figure()\n",
    "plt.plot(coeffs);\n",
    "plt.title(f'query: {QUERY_TOKEN}')\n",
    "plt.show()\n",
    "\n",
    "print(idx_token_coeffs)\n",
    "print()\n",
    "\n",
    "top_10 = sorted(idx_token_coeffs, key=lambda x:-x[2])[:10]\n",
    "print(top_10)"
   ]
  },
  {
   "cell_type": "code",
   "execution_count": null,
   "id": "71a69240-d50d-4e8c-89f0-041b5c339b71",
   "metadata": {},
   "outputs": [],
   "source": []
  }
 ],
 "metadata": {
  "kernelspec": {
   "display_name": "Python 3",
   "language": "python",
   "name": "python3"
  },
  "language_info": {
   "codemirror_mode": {
    "name": "ipython",
    "version": 3
   },
   "file_extension": ".py",
   "mimetype": "text/x-python",
   "name": "python",
   "nbconvert_exporter": "python",
   "pygments_lexer": "ipython3",
   "version": "3.7.10"
  },
  "metadata": {
   "interpreter": {
    "hash": "6265bdce2fdf136293e074f0c61eed732c7f1260c97bd113d8a460bf97016fe6"
   }
  }
 },
 "nbformat": 4,
 "nbformat_minor": 5
}
