{
 "cells": [
  {
   "cell_type": "code",
   "execution_count": 1,
   "id": "8f937365-15c3-41b4-89c5-62ad62771999",
   "metadata": {},
   "outputs": [
    {
     "name": "stdout",
     "output_type": "stream",
     "text": [
      "/home/tae898/repos/erc\n"
     ]
    }
   ],
   "source": [
    "%cd /home/tae898/repos/erc/"
   ]
  },
  {
   "cell_type": "code",
   "execution_count": 2,
   "id": "f0941f3c-16c9-41a6-9f78-cba4bb356913",
   "metadata": {},
   "outputs": [
    {
     "name": "stderr",
     "output_type": "stream",
     "text": [
      "/home/tae898/.virtualenvs/dev-python3.7/lib/python3.7/site-packages/ipykernel_launcher.py:16: YAMLLoadWarning: calling yaml.load() without Loader=... is deprecated, as the default Loader is unsafe. Please read https://msg.pyyaml.org/load for full details.\n",
      "  app.launch_new_instance()\n"
     ]
    },
    {
     "data": {
      "text/plain": [
       "{'ADD_BOU_EOU': False,\n",
       " 'ADD_SPEAKER_TOKENS': True,\n",
       " 'BATCH_SIZE': 4,\n",
       " 'DATASET': 'MELD',\n",
       " 'HP_N_TRIALS': 5,\n",
       " 'HP_ONLY_UPTO': 103,\n",
       " 'NUM_TRAIN_EPOCHS': 5,\n",
       " 'REPLACE_NAMES_IN_UTTERANCES': False,\n",
       " 'SEEDS': [0, 1, 2, 3, 4],\n",
       " 'SPEAKER_SPLITS': ['train', 'val', 'test'],\n",
       " 'WARMUP_RATIO': 0.2,\n",
       " 'WEIGHT_DECAY': 0.01,\n",
       " 'model_checkpoint': 'roberta-large',\n",
       " 'num_future_utterances': 0,\n",
       " 'num_past_utterances': 1000,\n",
       " 'training_config': 'train-erc-text2.yaml'}"
      ]
     },
     "execution_count": 2,
     "metadata": {},
     "output_type": "execute_result"
    }
   ],
   "source": [
    "ROOT_DIR = './multimodal-datasets/'\n",
    "model_checkpoint = 'results/MELD/roberta-large/2021-05-23-00-20-58/4/checkpoint-12490/'\n",
    "# model_checkpoint = 'results/IEMOCAP/roberta-large/2021-05-21-07-58-04/3/checkpoint-4780/'\n",
    "DATASET = model_checkpoint.split('/')[1]\n",
    "\n",
    "\n",
    "import yaml\n",
    "\n",
    "def read_json(path):\n",
    "    with open(path, 'r') as stream:\n",
    "        foo = json.load(stream)\n",
    "    return foo\n",
    "\n",
    "def read_yaml(path):\n",
    "    with open(path, 'r') as stream:\n",
    "        foo = yaml.load(stream)\n",
    "    return foo\n",
    "\n",
    "\n",
    "kwargs_path = f\"{'/'.join(model_checkpoint.split('/')[:-3])}/kwargs.yaml\"    \n",
    "kwargs = read_yaml(kwargs_path)\n",
    "kwargs"
   ]
  },
  {
   "cell_type": "code",
   "execution_count": 4,
   "id": "900e9d77-d234-4daf-8489-37bbede007a7",
   "metadata": {},
   "outputs": [
    {
     "name": "stdout",
     "output_type": "stream",
     "text": [
      "4\n"
     ]
    },
    {
     "name": "stderr",
     "output_type": "stream",
     "text": [
      "2021-05-23 15:23:31.655 INFO utils - _load_utterance_ordered: every text file exists fine!\n",
      "2021-05-23 15:23:31.656 INFO utils - _string2tokens: converting utterances into tokens ...\n",
      "2021-05-23 15:23:31.660 INFO utils - _string2tokens: creating input utterance data ... \n",
      "100%|██████████| 1038/1038 [00:23<00:00, 44.09it/s]\n",
      "2021-05-23 15:23:56.149 INFO utils - _create_input: number of truncated utterances: 2\n",
      "2021-05-23 15:23:56.200 INFO utils - _load_utterance_ordered: every text file exists fine!\n",
      "2021-05-23 15:23:56.201 INFO utils - _string2tokens: converting utterances into tokens ...\n",
      "2021-05-23 15:23:56.203 INFO utils - _string2tokens: creating input utterance data ... \n",
      "100%|██████████| 114/114 [00:01<00:00, 95.71it/s]\n",
      "2021-05-23 15:23:58.357 INFO utils - _create_input: number of truncated utterances: 0\n",
      "2021-05-23 15:23:58.452 INFO utils - _load_utterance_ordered: every text file exists fine!\n",
      "2021-05-23 15:23:58.453 INFO utils - _string2tokens: converting utterances into tokens ...\n",
      "2021-05-23 15:23:58.455 INFO utils - _string2tokens: creating input utterance data ... \n",
      "100%|██████████| 280/280 [00:04<00:00, 59.79it/s] \n",
      "2021-05-23 15:24:04.144 INFO utils - _create_input: number of truncated utterances: 7\n"
     ]
    }
   ],
   "source": [
    "from transformers import RobertaTokenizerFast, RobertaForSequenceClassification\n",
    "from utils import get_num_classes, ErcTextDataset\n",
    "import numpy as np\n",
    "import matplotlib.pyplot as plt\n",
    "\n",
    "NUM_CLASSES = get_num_classes(DATASET)\n",
    "tokenizer = RobertaTokenizerFast.from_pretrained(\n",
    "    model_checkpoint)\n",
    "\n",
    "model = RobertaForSequenceClassification.from_pretrained(\n",
    "    model_checkpoint, num_labels=NUM_CLASSES)\n",
    "\n",
    "model.eval()\n",
    "model.cpu()\n",
    "\n",
    "SEED = int(model_checkpoint.split('/')[-3])\n",
    "print(SEED)\n",
    "\n",
    "ds_train = ErcTextDataset(DATASET=DATASET, SPLIT='train',\n",
    "                          num_past_utterances=kwargs['num_past_utterances'], num_future_utterances=kwargs['num_future_utterances'],\n",
    "                          model_checkpoint=f\"{'/'.join(model_checkpoint.split('/')[:-3])}/tokenizer\",\n",
    "                          ADD_BOU_EOU=kwargs['ADD_BOU_EOU'], ADD_SPEAKER_TOKENS=kwargs['ADD_SPEAKER_TOKENS'],\n",
    "                          REPLACE_NAMES_IN_UTTERANCES=kwargs['REPLACE_NAMES_IN_UTTERANCES'],\n",
    "                          ROOT_DIR=ROOT_DIR, SEED=SEED)\n",
    "\n",
    "ds_val = ErcTextDataset(DATASET=DATASET, SPLIT='val',\n",
    "                          num_past_utterances=kwargs['num_past_utterances'], num_future_utterances=kwargs['num_future_utterances'],\n",
    "                          model_checkpoint=f\"{'/'.join(model_checkpoint.split('/')[:-3])}/tokenizer\",\n",
    "                          ADD_BOU_EOU=kwargs['ADD_BOU_EOU'], ADD_SPEAKER_TOKENS=kwargs['ADD_SPEAKER_TOKENS'],\n",
    "                          REPLACE_NAMES_IN_UTTERANCES=kwargs['REPLACE_NAMES_IN_UTTERANCES'],\n",
    "                          ROOT_DIR=ROOT_DIR, SEED=SEED)\n",
    "\n",
    "ds_test = ErcTextDataset(DATASET=DATASET, SPLIT='test',\n",
    "                          num_past_utterances=kwargs['num_past_utterances'], num_future_utterances=kwargs['num_future_utterances'],\n",
    "                          model_checkpoint=f\"{'/'.join(model_checkpoint.split('/')[:-3])}/tokenizer\",\n",
    "                          ADD_BOU_EOU=kwargs['ADD_BOU_EOU'], ADD_SPEAKER_TOKENS=kwargs['ADD_SPEAKER_TOKENS'],\n",
    "                          REPLACE_NAMES_IN_UTTERANCES=kwargs['REPLACE_NAMES_IN_UTTERANCES'],\n",
    "                          ROOT_DIR=ROOT_DIR, SEED=SEED)"
   ]
  },
  {
   "cell_type": "code",
   "execution_count": 5,
   "id": "ffb848c2-5839-4147-ad8e-2e665fc7d25f",
   "metadata": {},
   "outputs": [],
   "source": [
    "def get_random_sample(ds_test, tokenizer, idx=None, max_tokens=512):\n",
    "    while True:\n",
    "        if idx is None:\n",
    "            idx_ = np.random.randint(0, len(ds_test))\n",
    "        else:\n",
    "            idx_ = idx\n",
    "        random_sample = ds_test[idx_]\n",
    "        input_ids, attention_mask, labelid = random_sample['input_ids'], random_sample['attention_mask'], random_sample['label']\n",
    "        break\n",
    "#         if len(input_ids) < max_tokens and labelid != 0:\n",
    "#             break\n",
    "\n",
    "    decoded = tokenizer.decode(input_ids)\n",
    "\n",
    "    input_ids = torch.tensor(input_ids).view(-1, len(input_ids))\n",
    "    attention_mask = torch.tensor(attention_mask).view(-1, len(attention_mask))\n",
    "    labelid = torch.tensor(labelid).view(-1, 1)\n",
    "    \n",
    "\n",
    "    return idx_, input_ids, attention_mask, labelid, decoded\n",
    "\n",
    "def return_coeffs(tokenizer, input_ids, attentions, BATCH_IDX=0, LAYER=-1, QUERY_TOKEN_IDX=0, annoying_char='Ġ'):\n",
    "    tokens = tokenizer.convert_ids_to_tokens(input_ids[BATCH_IDX].tolist())\n",
    "    QUERY_TOKEN = tokens[QUERY_TOKEN_IDX].split(annoying_char)[-1]\n",
    "\n",
    "    coeffs = attentions[LAYER][BATCH_IDX].cpu().detach().numpy().sum(axis=0)[QUERY_TOKEN_IDX]\n",
    "    coeffs /= coeffs.sum()\n",
    "    \n",
    "    idx_token_coeffs = [(idx, token.split(annoying_char)[-1], coeffs[idx]) for idx, token in enumerate(tokens)]\n",
    "    \n",
    "    assert len(coeffs) == len(tokens) == len(idx_token_coeffs)\n",
    "    \n",
    "    \n",
    "    return QUERY_TOKEN, coeffs, tokens, idx_token_coeffs\n"
   ]
  },
  {
   "cell_type": "code",
   "execution_count": 16,
   "id": "8ee14fb6-995f-4b88-8020-f1d78b7e18fc",
   "metadata": {},
   "outputs": [
    {
     "name": "stdout",
     "output_type": "stream",
     "text": [
      "('<s><Monica>What, Phoebe, did you whip the potatoes? Ross needs '\n",
      " \"lumps!<Phoebe>Oh, I'm sorry, oh, I just, I thought we could have them \"\n",
      " 'whipped and then add some peas and onions.<Monica>Why would we do '\n",
      " \"that?<Phoebe>Well, 'cause then they'd be like my mom used to make them, you \"\n",
      " 'know, before she died.<Monica>Ok, three kinds of potatoes coming '\n",
      " 'up.<Rachel>Ok, good-bye you guys. Thanks for everything.  Oh, sorry! Oh, '\n",
      " 'sorry!<Chandler>The most unbelievable thing has happened. Underdog has just '\n",
      " 'gotten away.<Joey>The balloon?<Chandler>No, no, the actual cartoon '\n",
      " \"character. Of course the balloon. It's all over the news. Right before he \"\n",
      " \"reached<Rachel>I can't, I gotta go.</s></s><Chandler>Come on. An 80-foot \"\n",
      " 'inflatable dog let loose over the city. How often does that happen?</s>')\n",
      "\n",
      "'data_idx: 6962'\n",
      "'pred: surprise'\n",
      "'truth: surprise'\n",
      "'number of tokens in the input: 189'\n",
      "\n"
     ]
    }
   ],
   "source": [
    "import pprint\n",
    "import torch\n",
    "from tqdm.notebook import tqdm\n",
    "import matplotlib.pyplot as plt\n",
    "\n",
    "ds = ds_train\n",
    "\n",
    "idx, input_ids, attention_mask, labelid, decoded = get_random_sample(ds, tokenizer, max_tokens=512)\n",
    "pprint.pprint(f\"{decoded}\")\n",
    "print()\n",
    "\n",
    "outputs = model(**{'input_ids': input_ids, 'attention_mask': attention_mask}, labels=labelid, output_attentions=True, output_hidden_states=True)\n",
    "attentions = outputs.attentions\n",
    "pred = int(outputs.logits.argmax().numpy())\n",
    "truth = int(labelid[0][0].numpy())\n",
    "\n",
    "pprint.pprint(f\"data_idx: {idx}\")\n",
    "pprint.pprint(f\"pred: {ds.id2emotion[pred]}\")\n",
    "pprint.pprint(f\"truth: {ds.id2emotion[truth]}\")\n",
    "pprint.pprint(f\"number of tokens in the input: {input_ids.shape[1]}\")\n",
    "print()"
   ]
  },
  {
   "cell_type": "code",
   "execution_count": 17,
   "id": "7c6a8435-6b23-4017-9e92-fe59e7d8323d",
   "metadata": {},
   "outputs": [
    {
     "data": {
      "text/plain": [
       "\"<s><Monica>What, Phoebe, did you whip the potatoes? Ross needs lumps!<Phoebe>Oh, I'm sorry, oh, I just, I thought we could have them whipped and then add some peas and onions.<Monica>Why would we do that?<Phoebe>Well, 'cause then they'd be like my mom used to make them, you know, before she died.<Monica>Ok, three kinds of potatoes coming up.<Rachel>Ok, good-bye you guys. Thanks for everything.  Oh, sorry! Oh, sorry!<Chandler>The most unbelievable thing has happened. Underdog has just gotten away.<Joey>The balloon?<Chandler>No, no, the actual cartoon character. Of course the balloon. It's all over the news. Right before he reached<Rachel>I can't, I gotta go.</s></s><Chandler>Come on. An 80-foot inflatable dog let loose over the city. How often does that happen?</s>\""
      ]
     },
     "execution_count": 17,
     "metadata": {},
     "output_type": "execute_result"
    }
   ],
   "source": [
    "decoded"
   ]
  },
  {
   "cell_type": "code",
   "execution_count": 18,
   "id": "4a45c106-8918-451f-a047-4a31b6f8fe0c",
   "metadata": {},
   "outputs": [
    {
     "data": {
      "image/png": "[encoded data removed]",
      "text/plain": [
       "<Figure size 432x288 with 1 Axes>"
      ]
     },
     "metadata": {
      "needs_background": "light"
     },
     "output_type": "display_data"
    },
    {
     "name": "stdout",
     "output_type": "stream",
     "text": [
      "[(0, '<s>', 0.044984117), (1, '<Monica>', 9.72464e-05), (2, 'What', 2.3259987e-05), (3, ',', 2.1015618e-05), (4, 'Ph', 4.7319845e-06), (5, 'oe', 2.6137507e-06), (6, 'be', 2.2559886e-06), (7, ',', 6.6680664e-06), (8, 'did', 5.783015e-06), (9, 'you', 6.279099e-06), (10, 'whip', 3.3648075e-06), (11, 'the', 1.811986e-06), (12, 'potatoes', 6.313675e-06), (13, '?', 6.0539587e-05), (14, 'Ross', 1.9133206e-05), (15, 'needs', 1.4181934e-05), (16, 'l', 4.3606988e-06), (17, 'umps', 1.7595567e-06), (18, '!', 8.800384e-05), (19, '<Phoebe>', 4.5664567e-08), (20, 'Oh', 1.5964352e-07), (21, ',', 0.043216366), (22, 'I', 7.2749167e-06), (23, \"'m\", 1.9376641e-07), (24, 'sorry', 1.5710873e-07), (25, ',', 3.280363e-06), (26, 'oh', 2.457363e-07), (27, ',', 0.04217251), (28, 'I', 2.3541906e-08), (29, 'just', 3.20099e-08), (30, ',', 7.4687847e-07), (31, 'I', 6.8004745e-08), (32, 'thought', 7.831803e-08), (33, 'we', 9.379335e-08), (34, 'could', 1.1770959e-07), (35, 'have', 2.2246789e-07), (36, 'them', 3.0504268e-07), (37, 'whipped', 2.6383776e-07), (38, 'and', 1.0480854e-07), (39, 'then', 8.280817e-08), (40, 'add', 2.2413823e-07), (41, 'some', 3.925431e-07), (42, 'peas', 6.608215e-07), (43, 'and', 1.2115085e-07), (44, 'onions', 8.554395e-07), (45, '.', 0.0055416888), (46, '<Monica>', 6.7506585e-07), (47, 'Why', 4.83985e-07), (48, 'would', 1.4996021e-07), (49, 'we', 7.0499496e-08), (50, 'do', 3.933275e-08), (51, 'that', 1.2837889e-07), (52, '?', 2.5548468e-07), (53, '<Phoebe>', 8.75358e-08), (54, 'Well', 1.4101427e-07), (55, ',', 0.044048674), (56, \"'\", 9.698946e-07), (57, 'cause', 1.18722696e-07), (58, 'then', 1.1715244e-07), (59, 'they', 3.024163e-07), (60, \"'d\", 5.285297e-07), (61, 'be', 9.757731e-08), (62, 'like', 5.856061e-07), (63, 'my', 4.008087e-07), (64, 'mom', 1.5510038e-07), (65, 'used', 3.546365e-07), (66, 'to', 1.2201599e-07), (67, 'make', 1.2524663e-07), (68, 'them', 1.7968812e-07), (69, ',', 3.449829e-06), (70, 'you', 9.894354e-07), (71, 'know', 3.9552828e-07), (72, ',', 0.042473912), (73, 'before', 3.0951992e-07), (74, 'she', 1.3804237e-07), (75, 'died', 4.0731587e-07), (76, '.', 0.005541682), (77, '<Monica>', 1.3131979e-06), (78, 'Ok', 1.032248e-05), (79, ',', 5.392113e-06), (80, 'three', 4.308805e-06), (81, 'kinds', 7.664044e-06), (82, 'of', 1.0252827e-06), (83, 'potatoes', 1.496918e-06), (84, 'coming', 9.927977e-06), (85, 'up', 1.3849708e-06), (86, '.', 0.0055416534), (87, '<Rachel>', 1.4748104e-05), (88, 'Ok', 4.6462083e-05), (89, ',', 0.042730622), (90, 'good', 1.0743584e-05), (91, '-', 0.00013435367), (92, 'bye', 6.7470864e-06), (93, 'you', 8.120672e-06), (94, 'guys', 7.3446236e-06), (95, '.', 7.476587e-05), (96, 'Thanks', 1.3255074e-05), (97, 'for', 2.0762957e-06), (98, 'everything', 1.0178365e-05), (99, '.', 1.9584379e-05), (100, '', 0.00047849552), (101, 'Oh', 6.5049884e-05), (102, ',', 4.486187e-05), (103, 'sorry', 6.714208e-06), (104, '!', 4.235494e-05), (105, 'Oh', 3.5741727e-05), (106, ',', 0.00017713185), (107, 'sorry', 1.645961e-05), (108, '!', 0.00016350957), (109, '<Chandler>', 0.00051108527), (110, 'The', 0.047165323), (111, 'most', 0.0002046101), (112, 'unbelievable', 0.0029888665), (113, 'thing', 0.00043291927), (114, 'has', 4.0794504e-05), (115, 'happened', 0.00031652098), (116, '.', 0.00020607348), (117, 'Under', 0.00024029314), (118, 'dog', 0.00013423296), (119, 'has', 1.5677002e-05), (120, 'just', 9.2281925e-06), (121, 'gotten', 0.00018786569), (122, 'away', 0.00052409334), (123, '.', 0.005541668), (124, '<Joey>', 3.982788e-05), (125, 'The', 1.3841932e-05), (126, 'balloon', 8.538205e-06), (127, '?', 1.0493302e-05), (128, '<Chandler>', 8.876831e-05), (129, 'No', 6.7683154e-06), (130, ',', 1.8888803e-05), (131, 'no', 6.057498e-06), (132, ',', 2.1514618e-06), (133, 'the', 1.0082097e-05), (134, 'actual', 1.5543395e-05), (135, 'cartoon', 8.959087e-06), (136, 'character', 4.3777577e-06), (137, '.', 0.005541617), (138, 'Of', 6.1787096e-06), (139, 'course', 4.0930913e-06), (140, 'the', 6.8137138e-06), (141, 'balloon', 4.5662714e-06), (142, '.', 0.0055416753), (143, 'It', 2.9811588e-05), (144, \"'s\", 5.661656e-06), (145, 'all', 2.2037786e-06), (146, 'over', 2.6558675e-06), (147, 'the', 5.218521e-05), (148, 'news', 1.2170065e-05), (149, '.', 7.732954e-05), (150, 'Right', 7.0093665e-05), (151, 'before', 3.438787e-05), (152, 'he', 7.7182194e-05), (153, 'reached', 0.00024565746), (154, '<Rachel>', 0.00063397054), (155, 'I', 0.00010541388), (156, 'can', 5.8890088e-05), (157, \"'t\", 6.822465e-05), (158, ',', 9.457034e-05), (159, 'I', 6.864659e-05), (160, 'gotta', 0.0001437765), (161, 'go', 9.732892e-05), (162, '.', 0.0055416776), (163, '</s>', 0.03703904), (164, '</s>', 0.09351207), (165, '<Chandler>', 0.060561385), (166, 'Come', 0.032476023), (167, 'on', 0.029267687), (168, '.', 0.05883164), (169, 'An', 0.019438038), (170, '80', 0.00161819), (171, '-', 0.014935606), (172, 'foot', 0.0006554131), (173, 'inf', 0.00095355243), (174, 'latable', 0.00043748098), (175, 'dog', 0.0014362141), (176, 'let', 0.002360979), (177, 'loose', 0.0021298057), (178, 'over', 0.0014394454), (179, 'the', 0.05124585), (180, 'city', 0.0057130237), (181, '.', 0.046828423), (182, 'How', 0.021797162), (183, 'often', 0.010694931), (184, 'does', 0.005519943), (185, 'that', 0.013955075), (186, 'happen', 0.00843357), (187, '?', 0.06834304), (188, '</s>', 0.05502644)]\n",
      "\n",
      "[(164, '</s>', 0.09351207), (187, '?', 0.06834304), (165, '<Chandler>', 0.060561385), (168, '.', 0.05883164), (188, '</s>', 0.05502644), (179, 'the', 0.05124585), (110, 'The', 0.047165323), (181, '.', 0.046828423), (0, '<s>', 0.044984117), (55, ',', 0.044048674)]\n"
     ]
    }
   ],
   "source": [
    "QUERY_TOKEN, coeffs, tokens, idx_token_coeffs = return_coeffs(tokenizer, input_ids, attentions, LAYER=-1, QUERY_TOKEN_IDX=0)\n",
    "\n",
    "plt.figure()\n",
    "plt.plot(coeffs);\n",
    "plt.title(f'query: {QUERY_TOKEN}')\n",
    "plt.show()\n",
    "\n",
    "print(idx_token_coeffs)\n",
    "print()\n",
    "\n",
    "top_10 = sorted(idx_token_coeffs, key=lambda x:-x[2])[:10]\n",
    "print(top_10)"
   ]
  },
  {
   "cell_type": "code",
   "execution_count": 19,
   "id": "fcad9e5b-32fe-4e51-b8a1-73081ef6c09d",
   "metadata": {},
   "outputs": [
    {
     "data": {
      "image/png": "[encoded data removed]",
      "text/plain": [
       "<Figure size 432x288 with 1 Axes>"
      ]
     },
     "metadata": {
      "needs_background": "light"
     },
     "output_type": "display_data"
    },
    {
     "name": "stdout",
     "output_type": "stream",
     "text": [
      "[(0, '<s>', 0.0014912181), (1, '<Monica>', 0.0013798213), (2, 'What', 0.0031515975), (3, ',', 0.003406204), (4, 'Ph', 0.0026011767), (5, 'oe', 0.0026050417), (6, 'be', 0.0033469226), (7, ',', 0.0031571798), (8, 'did', 0.0049630026), (9, 'you', 0.003922203), (10, 'whip', 0.0025886442), (11, 'the', 0.0030237166), (12, 'potatoes', 0.0028034095), (13, '?', 0.0025607198), (14, 'Ross', 0.004151361), (15, 'needs', 0.0021733604), (16, 'l', 0.0020769273), (17, 'umps', 0.0029078582), (18, '!', 0.0034989407), (19, '<Phoebe>', 0.0045047663), (20, 'Oh', 0.0026237713), (21, ',', 0.0036859426), (22, 'I', 0.002267232), (23, \"'m\", 0.0039752517), (24, 'sorry', 0.003901202), (25, ',', 0.002639627), (26, 'oh', 0.0026689717), (27, ',', 0.0029547855), (28, 'I', 0.0027811467), (29, 'just', 0.0023303393), (30, ',', 0.0032245747), (31, 'I', 0.0027580536), (32, 'thought', 0.0041479967), (33, 'we', 0.0048074317), (34, 'could', 0.0033659802), (35, 'have', 0.0036700033), (36, 'them', 0.0067697726), (37, 'whipped', 0.002983261), (38, 'and', 0.005591519), (39, 'then', 0.001922507), (40, 'add', 0.008127999), (41, 'some', 0.002568446), (42, 'peas', 0.0026014617), (43, 'and', 0.0065813973), (44, 'onions', 0.004145588), (45, '.', 0.005346604), (46, '<Monica>', 0.0102049615), (47, 'Why', 0.0024704966), (48, 'would', 0.0047227717), (49, 'we', 0.004467398), (50, 'do', 0.004137204), (51, 'that', 0.041139554), (52, '?', 0.002592803), (53, '<Phoebe>', 0.0031716735), (54, 'Well', 0.003672384), (55, ',', 0.0031583535), (56, \"'\", 0.0025280293), (57, 'cause', 0.002894344), (58, 'then', 0.00311728), (59, 'they', 0.006504313), (60, \"'d\", 0.0044331606), (61, 'be', 0.0057544075), (62, 'like', 0.0037358466), (63, 'my', 0.00457088), (64, 'mom', 0.0035406179), (65, 'used', 0.0058286046), (66, 'to', 0.0061411513), (67, 'make', 0.004101648), (68, 'them', 0.007491986), (69, ',', 0.005155514), (70, 'you', 0.0048499475), (71, 'know', 0.00481167), (72, ',', 0.003769405), (73, 'before', 0.0043503707), (74, 'she', 0.0047346237), (75, 'died', 0.0041358722), (76, '.', 0.004873718), (77, '<Monica>', 0.004937684), (78, 'Ok', 0.0029864016), (79, ',', 0.005879762), (80, 'three', 0.009049699), (81, 'kinds', 0.0037563061), (82, 'of', 0.004645715), (83, 'potatoes', 0.0033906163), (84, 'coming', 0.0055316645), (85, 'up', 0.0044131815), (86, '.', 0.0040219063), (87, '<Rachel>', 0.013672823), (88, 'Ok', 0.0030233888), (89, ',', 0.0060332105), (90, 'good', 0.009779235), (91, '-', 0.0046307864), (92, 'bye', 0.0024318795), (93, 'you', 0.006240931), (94, 'guys', 0.0023295698), (95, '.', 0.0052194814), (96, 'Thanks', 0.0028381117), (97, 'for', 0.0045762914), (98, 'everything', 0.0042615016), (99, '.', 0.0046385215), (100, '', 0.008640468), (101, 'Oh', 0.0028851854), (102, ',', 0.005036476), (103, 'sorry', 0.0060639447), (104, '!', 0.0034969822), (105, 'Oh', 0.003411303), (106, ',', 0.005444839), (107, 'sorry', 0.006175683), (108, '!', 0.0036548402), (109, '<Chandler>', 0.0046883593), (110, 'The', 0.0028825328), (111, 'most', 0.00442095), (112, 'unbelievable', 0.0023594694), (113, 'thing', 0.0066385386), (114, 'has', 0.004601276), (115, 'happened', 0.006918339), (116, '.', 0.004433145), (117, 'Under', 0.0025907808), (118, 'dog', 0.0053174463), (119, 'has', 0.0053815846), (120, 'just', 0.004287988), (121, 'gotten', 0.0020265575), (122, 'away', 0.003645245), (123, '.', 0.0048014666), (124, '<Joey>', 0.0032637934), (125, 'The', 0.0031108642), (126, 'balloon', 0.004522552), (127, '?', 0.0040125945), (128, '<Chandler>', 0.016326383), (129, 'No', 0.0035152468), (130, ',', 0.007089008), (131, 'no', 0.00336927), (132, ',', 0.0070481827), (133, 'the', 0.0047847717), (134, 'actual', 0.003099304), (135, 'cartoon', 0.009469077), (136, 'character', 0.0043287002), (137, '.', 0.0047446997), (138, 'Of', 0.0016980072), (139, 'course', 0.005742798), (140, 'the', 0.005486936), (141, 'balloon', 0.00535549), (142, '.', 0.005159337), (143, 'It', 0.0048518046), (144, \"'s\", 0.0061148643), (145, 'all', 0.005205304), (146, 'over', 0.004236244), (147, 'the', 0.0053774463), (148, 'news', 0.006144451), (149, '.', 0.005864638), (150, 'Right', 0.0027416574), (151, 'before', 0.0039829393), (152, 'he', 0.009291913), (153, 'reached', 0.0033445058), (154, '<Rachel>', 0.03932814), (155, 'I', 0.00524308), (156, 'can', 0.0060320897), (157, \"'t\", 0.005684984), (158, ',', 0.009282133), (159, 'I', 0.0046848967), (160, 'gotta', 0.0030873003), (161, 'go', 0.003970684), (162, '.', 0.0062061236), (163, '</s>', 0.008274653), (164, '</s>', 0.008350612), (165, '<Chandler>', 0.04531512), (166, 'Come', 0.0039289515), (167, 'on', 0.0058764634), (168, '.', 0.0069936784), (169, 'An', 0.0022731558), (170, '80', 0.007232244), (171, '-', 0.006637634), (172, 'foot', 0.006216125), (173, 'inf', 0.004129662), (174, 'latable', 0.0034644813), (175, 'dog', 0.0050556725), (176, 'let', 0.0052516353), (177, 'loose', 0.0039739683), (178, 'over', 0.004391864), (179, 'the', 0.006569576), (180, 'city', 0.0067852284), (181, '.', 0.005416285), (182, 'How', 0.0038746104), (183, 'often', 0.003071089), (184, 'does', 0.0041341474), (185, 'that', 0.021621872), (186, 'happen', 0.004080403), (187, '?', 0.004067249), (188, '</s>', 0.006303414)]\n",
      "\n",
      "[(165, '<Chandler>', 0.04531512), (51, 'that', 0.041139554), (154, '<Rachel>', 0.03932814), (185, 'that', 0.021621872), (128, '<Chandler>', 0.016326383), (87, '<Rachel>', 0.013672823), (46, '<Monica>', 0.0102049615), (90, 'good', 0.009779235), (135, 'cartoon', 0.009469077), (152, 'he', 0.009291913)]\n"
     ]
    }
   ],
   "source": [
    "QUERY_TOKEN, coeffs, tokens, idx_token_coeffs = return_coeffs(tokenizer, input_ids, attentions, LAYER=0, QUERY_TOKEN_IDX=165)\n",
    "\n",
    "plt.figure()\n",
    "plt.plot(coeffs);\n",
    "plt.title(f'query: {QUERY_TOKEN}')\n",
    "plt.show()\n",
    "\n",
    "print(idx_token_coeffs)\n",
    "print()\n",
    "\n",
    "top_10 = sorted(idx_token_coeffs, key=lambda x:-x[2])[:10]\n",
    "print(top_10)"
   ]
  },
  {
   "cell_type": "code",
   "execution_count": null,
   "id": "71a69240-d50d-4e8c-89f0-041b5c339b71",
   "metadata": {},
   "outputs": [],
   "source": []
  }
 ],
 "metadata": {
  "kernelspec": {
   "display_name": "Python 3",
   "language": "python",
   "name": "python3"
  },
  "language_info": {
   "codemirror_mode": {
    "name": "ipython",
    "version": 3
   },
   "file_extension": ".py",
   "mimetype": "text/x-python",
   "name": "python",
   "nbconvert_exporter": "python",
   "pygments_lexer": "ipython3",
   "version": "3.7.10"
  }
 },
 "nbformat": 4,
 "nbformat_minor": 5
}
