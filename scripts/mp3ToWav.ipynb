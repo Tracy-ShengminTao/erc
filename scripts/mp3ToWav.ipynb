{
 "cells": [
  {
   "cell_type": "code",
   "execution_count": 17,
   "id": "european-compact",
   "metadata": {},
   "outputs": [
    {
     "data": {
      "text/plain": [
       "12"
      ]
     },
     "execution_count": 17,
     "metadata": {},
     "output_type": "execute_result"
    }
   ],
   "source": [
    "import os\n",
    "from pydub import AudioSegment\n",
    "from tqdm import tqdm\n",
    "from IPython.display import clear_output\n",
    "from joblib import Parallel, delayed\n",
    "import multiprocessing\n",
    "\n",
    "num_cores = multiprocessing.cpu_count()\n",
    "num_cores"
   ]
  },
  {
   "cell_type": "code",
   "execution_count": 18,
   "id": "opening-today",
   "metadata": {},
   "outputs": [],
   "source": [
    "dataset = 'MELD'\n",
    "audio_dir = '/home/kvu/erc/data/' + dataset + '/raw-audios'\n",
    "json_path = '/home/kvu/erc/data/' + dataset + '/labels.json'\n",
    "\n",
    "train_dir = audio_dir + '/train'\n",
    "val_dir = audio_dir + '/val'\n",
    "test_dir = audio_dir + '/test'\n",
    "\n",
    "target_wav_dir = '/home/kvu/erc/data/MELD/raw-audios-wav'"
   ]
  },
  {
   "cell_type": "code",
   "execution_count": 19,
   "id": "included-essay",
   "metadata": {},
   "outputs": [],
   "source": [
    "def convert(phase, data_dir):\n",
    "    target_dir = os.path.join(target_wav_dir, phase)\n",
    "    \n",
    "    def convertToWav(audio):\n",
    "        clear_output(wait=True)\n",
    "        audio_path = os.path.join(data_dir, audio)\n",
    "        audio_id = audio[:-4]\n",
    "        \n",
    "        sound = AudioSegment.from_file(audio_path, format='mp3')\n",
    "        sound = sound.set_frame_rate(22050)\n",
    "        target_path = os.path.join(target_dir, audio_id + '.wav')\n",
    "        sound.export(target_path, format='wav')\n",
    "        \n",
    "    Parallel(n_jobs=num_cores)(delayed(convertToWav)(audio) for audio in os.listdir(data_dir))"
   ]
  },
  {
   "cell_type": "code",
   "execution_count": 20,
   "id": "patent-juice",
   "metadata": {},
   "outputs": [
    {
     "name": "stderr",
     "output_type": "stream",
     "text": [
      "  1%|▏         | 137/9988 [01:24<1:41:49,  1.61it/s]\n",
      "  0%|          | 23/9988 [00:51<6:12:02,  2.24s/it]\n",
      "  7%|▋         | 671/9988 [01:59<27:37,  5.62it/s]\n",
      "  4%|▍         | 407/9988 [02:37<1:01:49,  2.58it/s]\n"
     ]
    }
   ],
   "source": [
    "convert('train', train_dir)"
   ]
  },
  {
   "cell_type": "code",
   "execution_count": 21,
   "id": "metallic-samba",
   "metadata": {},
   "outputs": [],
   "source": [
    "convert('val', val_dir)"
   ]
  },
  {
   "cell_type": "code",
   "execution_count": 22,
   "id": "discrete-framing",
   "metadata": {},
   "outputs": [],
   "source": [
    "convert('test', test_dir)"
   ]
  },
  {
   "cell_type": "code",
   "execution_count": null,
   "id": "humanitarian-penalty",
   "metadata": {},
   "outputs": [],
   "source": []
  }
 ],
 "metadata": {
  "kernelspec": {
   "display_name": "Python 3",
   "language": "python",
   "name": "python3"
  },
  "language_info": {
   "codemirror_mode": {
    "name": "ipython",
    "version": 3
   },
   "file_extension": ".py",
   "mimetype": "text/x-python",
   "name": "python",
   "nbconvert_exporter": "python",
   "pygments_lexer": "ipython3",
   "version": "3.6.12"
  }
 },
 "nbformat": 4,
 "nbformat_minor": 5
}
