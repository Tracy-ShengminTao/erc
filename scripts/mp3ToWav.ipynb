{
 "cells": [
  {
   "cell_type": "code",
   "execution_count": 11,
   "id": "minor-infrastructure",
   "metadata": {},
   "outputs": [],
   "source": [
    "import os\n",
    "from pydub import AudioSegment\n",
    "from tqdm import tqdm"
   ]
  },
  {
   "cell_type": "code",
   "execution_count": 12,
   "id": "western-rwanda",
   "metadata": {},
   "outputs": [],
   "source": [
    "dataset = 'MELD'\n",
    "audio_dir = '/home/kvu/erc/data/' + dataset + '/raw-audios'\n",
    "json_path = '/home/kvu/erc/data/' + dataset + '/labels.json'\n",
    "\n",
    "train_dir = audio_dir + '/train'\n",
    "val_dir = audio_dir + '/val'\n",
    "test_dir = audio_dir + '/test'\n",
    "\n",
    "target_wav_dir = '/home/kvu/erc/data/MELD/raw-audios-wav'"
   ]
  },
  {
   "cell_type": "code",
   "execution_count": 15,
   "id": "suited-horizon",
   "metadata": {},
   "outputs": [],
   "source": [
    "def convert(phase, data_dir):\n",
    "    target_dir = os.path.join(target_wav_dir, phase)\n",
    "    for audio in tqdm(os.listdir(data_dir)):\n",
    "        audio_path = os.path.join(data_dir, audio)\n",
    "        audio_id = audio[:-4]\n",
    "        \n",
    "        sound = AudioSegment.from_mp3(audio_path)\n",
    "        target_path = os.path.join(target_dir, audio_id + '.wav')\n",
    "        sound.export(target_path, format='wav')"
   ]
  },
  {
   "cell_type": "code",
   "execution_count": 16,
   "id": "aging-adult",
   "metadata": {},
   "outputs": [
    {
     "name": "stderr",
     "output_type": "stream",
     "text": [
      "100%|██████████| 9988/9988 [22:45<00:00,  7.31it/s] \n"
     ]
    }
   ],
   "source": [
    "convert('train', train_dir)"
   ]
  },
  {
   "cell_type": "code",
   "execution_count": 17,
   "id": "subsequent-girlfriend",
   "metadata": {},
   "outputs": [
    {
     "name": "stderr",
     "output_type": "stream",
     "text": [
      "100%|██████████| 1112/1112 [02:27<00:00,  7.51it/s]\n"
     ]
    }
   ],
   "source": [
    "convert('val', val_dir)"
   ]
  }
 ],
 "metadata": {
  "kernelspec": {
   "display_name": "Python 3",
   "language": "python",
   "name": "python3"
  },
  "language_info": {
   "codemirror_mode": {
    "name": "ipython",
    "version": 3
   },
   "file_extension": ".py",
   "mimetype": "text/x-python",
   "name": "python",
   "nbconvert_exporter": "python",
   "pygments_lexer": "ipython3",
   "version": "3.6.12"
  }
 },
 "nbformat": 4,
 "nbformat_minor": 5
}
