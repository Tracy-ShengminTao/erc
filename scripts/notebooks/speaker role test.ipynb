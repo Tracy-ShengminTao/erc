{
 "cells": [
  {
   "cell_type": "code",
   "execution_count": 1,
   "id": "flexible-illinois",
   "metadata": {},
   "outputs": [
    {
     "name": "stdout",
     "output_type": "stream",
     "text": [
      "/home/tk/repos/erc\n"
     ]
    }
   ],
   "source": [
    "%cd /home/tk/repos/erc/"
   ]
  },
  {
   "cell_type": "code",
   "execution_count": 2,
   "id": "trying-stress",
   "metadata": {},
   "outputs": [],
   "source": [
    "from fairseq.models.roberta import RobertaModel"
   ]
  },
  {
   "cell_type": "code",
   "execution_count": 25,
   "id": "structured-commonwealth",
   "metadata": {},
   "outputs": [],
   "source": [
    "emotion2num = {foo:idx for idx, foo in enumerate(['neutral',\n",
    "                'joy',\n",
    "                'surprise',\n",
    "                'anger',\n",
    "                'sadness',\n",
    "                'disgust',\n",
    "                'fear'])}\n",
    "\n",
    "num2emotion = {val:key for key, val in emotion2num.items()}"
   ]
  },
  {
   "cell_type": "code",
   "execution_count": 27,
   "id": "worst-situation",
   "metadata": {},
   "outputs": [
    {
     "data": {
      "text/plain": [
       "{0: 'neutral',\n",
       " 1: 'joy',\n",
       " 2: 'surprise',\n",
       " 3: 'anger',\n",
       " 4: 'sadness',\n",
       " 5: 'disgust',\n",
       " 6: 'fear'}"
      ]
     },
     "execution_count": 27,
     "metadata": {},
     "output_type": "execute_result"
    }
   ],
   "source": [
    "num2emotion"
   ]
  },
  {
   "cell_type": "code",
   "execution_count": 117,
   "id": "governmental-shock",
   "metadata": {},
   "outputs": [],
   "source": [
    "roberta = RobertaModel.from_pretrained(\n",
    "    \"models/roberta.large/MELD/five-seeds/3-4-upper/\",\n",
    "    checkpoint_file=\"checkpoint_best.pt\",\n",
    "    data_name_or_path=\"models/roberta.large/MELD/five-seeds/3-4-upper/bin/\"\n",
    ")"
   ]
  },
  {
   "cell_type": "code",
   "execution_count": 118,
   "id": "swiss-porcelain",
   "metadata": {},
   "outputs": [
    {
     "data": {
      "text/plain": [
       "tensor([    0, 16134,   417,     2])"
      ]
     },
     "execution_count": 118,
     "metadata": {},
     "output_type": "execute_result"
    }
   ],
   "source": [
    "roberta.encode(*['ddd'])"
   ]
  },
  {
   "cell_type": "code",
   "execution_count": 119,
   "id": "sorted-diagnosis",
   "metadata": {},
   "outputs": [
    {
     "data": {
      "text/plain": [
       "tensor([    0,   281, 36807,     2,     2, 16134,   417,     2])"
      ]
     },
     "execution_count": 119,
     "metadata": {},
     "output_type": "execute_result"
    }
   ],
   "source": [
    "roberta.encode(*['asdf', 'ddd'])"
   ]
  },
  {
   "cell_type": "code",
   "execution_count": 120,
   "id": "forced-sherman",
   "metadata": {},
   "outputs": [
    {
     "data": {
      "text/plain": [
       "tensor([    0,   281, 36807,     2])"
      ]
     },
     "execution_count": 120,
     "metadata": {},
     "output_type": "execute_result"
    }
   ],
   "source": [
    "roberta.encode(*['asdf'])"
   ]
  },
  {
   "cell_type": "code",
   "execution_count": 95,
   "id": "rising-plasma",
   "metadata": {},
   "outputs": [],
   "source": [
    "def get_probs(roberta, speaker0, speaker1, seg0, seg1):\n",
    "    utterance = utterance.strip()\n",
    "    if speaker is not None:\n",
    "        speaker = speaker + ':'\n",
    "        utterance = ' '.join([speaker, utterance])\n",
    "    print(utterance)\n",
    "    utterance = roberta.encode(utterance)\n",
    "#     print(utterance)\n",
    "\n",
    "#     print()\n",
    "\n",
    "    logprobs = roberta.predict('MELD_head', sequence)\n",
    "    probs = logprobs.exp()\n",
    "    probs = probs.detach().cpu().numpy().squeeze()\n",
    "\n",
    "    return [(num2emotion[idx], round(prob, 3)) for idx, prob in enumerate(probs)]    \n",
    "    "
   ]
  },
  {
   "cell_type": "code",
   "execution_count": 132,
   "id": "steady-interpretation",
   "metadata": {},
   "outputs": [
    {
     "name": "stdout",
     "output_type": "stream",
     "text": [
      "tensor([    0,  3764,  5945, 38792,    35,  1336,    32,    47,   116,     2,\n",
      "            2, 20911, 22556,    35,   653,   116,     2])\n"
     ]
    },
    {
     "data": {
      "text/plain": [
       "[('neutral', 0.861),\n",
       " ('joy', 0.019),\n",
       " ('surprise', 0.086),\n",
       " ('anger', 0.011),\n",
       " ('sadness', 0.008),\n",
       " ('disgust', 0.013),\n",
       " ('fear', 0.002)]"
      ]
     },
     "execution_count": 132,
     "metadata": {},
     "output_type": "execute_result"
    }
   ],
   "source": [
    "sequence = ['CHANDLER: How are you?', 'MONICA: What?']\n",
    "sequence = roberta.encode(*sequence)\n",
    "print(sequence)\n",
    "logprobs = roberta.predict('MELD_head', sequence)\n",
    "probs = logprobs.exp()\n",
    "probs = probs.detach().cpu().numpy().squeeze()\n",
    "[(num2emotion[idx], round(prob, 3)) for idx, prob in enumerate(probs)]  "
   ]
  },
  {
   "cell_type": "code",
   "execution_count": 133,
   "id": "attended-modification",
   "metadata": {},
   "outputs": [
    {
     "name": "stdout",
     "output_type": "stream",
     "text": [
      "tensor([    0, 20911, 22556,    35,  1336,    32,    47,   116,     2,     2,\n",
      "         3764,  5945, 38792,    35,   653,   116,     2])\n"
     ]
    },
    {
     "data": {
      "text/plain": [
       "[('neutral', 0.858),\n",
       " ('joy', 0.016),\n",
       " ('surprise', 0.089),\n",
       " ('anger', 0.017),\n",
       " ('sadness', 0.006),\n",
       " ('disgust', 0.012),\n",
       " ('fear', 0.002)]"
      ]
     },
     "execution_count": 133,
     "metadata": {},
     "output_type": "execute_result"
    }
   ],
   "source": [
    "sequence = ['MONICA: How are you?', 'CHANDLER: What?']\n",
    "sequence = roberta.encode(*sequence)\n",
    "print(sequence)\n",
    "logprobs = roberta.predict('MELD_head', sequence)\n",
    "probs = logprobs.exp()\n",
    "probs = probs.detach().cpu().numpy().squeeze()\n",
    "[(num2emotion[idx], round(prob, 3)) for idx, prob in enumerate(probs)]  "
   ]
  },
  {
   "cell_type": "code",
   "execution_count": 131,
   "id": "composed-hotel",
   "metadata": {},
   "outputs": [
    {
     "name": "stdout",
     "output_type": "stream",
     "text": [
      "tensor([    0,  3764,  5945, 38792,    35,   653,   116,     2])\n"
     ]
    },
    {
     "data": {
      "text/plain": [
       "[('neutral', 0.667),\n",
       " ('joy', 0.054),\n",
       " ('surprise', 0.154),\n",
       " ('anger', 0.047),\n",
       " ('sadness', 0.025),\n",
       " ('disgust', 0.042),\n",
       " ('fear', 0.012)]"
      ]
     },
     "execution_count": 131,
     "metadata": {},
     "output_type": "execute_result"
    }
   ],
   "source": [
    "sequence = ['CHANDLER: What?']\n",
    "sequence = roberta.encode(*sequence)\n",
    "print(sequence)\n",
    "logprobs = roberta.predict('MELD_head', sequence)\n",
    "probs = logprobs.exp()\n",
    "probs = probs.detach().cpu().numpy().squeeze()\n",
    "[(num2emotion[idx], round(prob, 3)) for idx, prob in enumerate(probs)]  "
   ]
  },
  {
   "cell_type": "code",
   "execution_count": 128,
   "id": "therapeutic-start",
   "metadata": {},
   "outputs": [
    {
     "data": {
      "text/plain": [
       "tensor([    0,  3764,  5945, 38792,    35,   653,   116,     2])"
      ]
     },
     "execution_count": 128,
     "metadata": {},
     "output_type": "execute_result"
    }
   ],
   "source": [
    "sequence"
   ]
  }
 ],
 "metadata": {
  "kernelspec": {
   "display_name": "Python 3",
   "language": "python",
   "name": "python3"
  },
  "language_info": {
   "codemirror_mode": {
    "name": "ipython",
    "version": 3
   },
   "file_extension": ".py",
   "mimetype": "text/x-python",
   "name": "python",
   "nbconvert_exporter": "python",
   "pygments_lexer": "ipython3",
   "version": "3.7.10"
  }
 },
 "nbformat": 4,
 "nbformat_minor": 5
}
