{
 "cells": [
  {
   "cell_type": "markdown",
   "id": "underlying-solid",
   "metadata": {},
   "source": [
    "## Go to the root repo directory."
   ]
  },
  {
   "cell_type": "code",
   "execution_count": 1,
   "id": "amber-creation",
   "metadata": {},
   "outputs": [
    {
     "name": "stdout",
     "output_type": "stream",
     "text": [
      "/home/tk/repos/erc\n"
     ]
    }
   ],
   "source": [
    "%cd /home/tk/repos/erc/"
   ]
  },
  {
   "cell_type": "markdown",
   "id": "declared-series",
   "metadata": {},
   "source": [
    "## Choose the dataset \n",
    "\n",
    "`DATASET` should be either MELD or IEMOCAP"
   ]
  },
  {
   "cell_type": "code",
   "execution_count": 2,
   "id": "stretch-divide",
   "metadata": {},
   "outputs": [
    {
     "name": "stdout",
     "output_type": "stream",
     "text": [
      "MELD train 2343\n",
      "MELD val 0\n",
      "MELD test 0\n"
     ]
    }
   ],
   "source": [
    "from glob import glob\n",
    "import os\n",
    "\n",
    "DATASET = 'MELD'\n",
    "text_features_paths = {}\n",
    "for SPLIT in ['train', 'val', 'test']:\n",
    "    text_features_paths[SPLIT] = glob(f\"Datasets/{DATASET}/text-features/{SPLIT}/*.npy\")\n",
    "    print(DATASET, SPLIT, len(text_features_paths[SPLIT]))"
   ]
  },
  {
   "cell_type": "markdown",
   "id": "surrounded-consequence",
   "metadata": {},
   "source": [
    "## Randomly choose a sample and see what it is"
   ]
  },
  {
   "cell_type": "code",
   "execution_count": 3,
   "id": "engaging-voltage",
   "metadata": {
    "scrolled": true
   },
   "outputs": [
    {
     "name": "stdout",
     "output_type": "stream",
     "text": [
      "Datasets/MELD/text-features/train/dia153_utt0.npy\n",
      "\n",
      "utterance : ROSS: No real-, honey, really it’s fine, just g-go with Susan.\n",
      "\n",
      "label : 0\n",
      "\n",
      "uttid : dia153_utt0\n",
      "\n",
      "tokens : tensor([    0,   500, 17549,    35,   440,   588, 20551, 10658,     6,   269,\n",
      "           24,    17,    27,    29,  2051,     6,    95,   821,    12,  2977,\n",
      "           19,  6470,     4,     2])\n",
      "\n",
      "logprobs : [[-0.16803461 -3.7351213  -6.2581997  -4.142675   -2.7416916  -3.1234658\n",
      "  -5.3938284 ]]\n",
      "\n",
      "probs : [[0.8453246  0.02387028 0.00191469 0.01588032 0.06446122 0.0440044\n",
      "  0.00454454]]\n",
      "\n",
      "pred : 0\n",
      "\n",
      "features : [[ 0.43519896  0.16311124 -0.30719158 ... -0.5003236  -0.5439267\n",
      "   0.0103919 ]]\n",
      "\n",
      "emotion2num : {'neutral': 0, 'joy': 1, 'surprise': 2, 'anger': 3, 'sadness': 4, 'disgust': 5, 'fear': 6}\n",
      "\n"
     ]
    }
   ],
   "source": [
    "import random\n",
    "import numpy as np\n",
    "\n",
    "path = random.choice(text_features_paths['train'])\n",
    "print(path)\n",
    "print()\n",
    "\n",
    "features = np.load(path, allow_pickle=True)\n",
    "\n",
    "# a dict was saved as a npy, so we should use the item() to get it out.\n",
    "features = features.item()\n",
    "\n",
    "for key, val in features.items():\n",
    "    print(key, ':', val)\n",
    "    print()"
   ]
  },
  {
   "cell_type": "markdown",
   "id": "endangered-wings",
   "metadata": {},
   "source": [
    "### See the tokens. \n",
    "\n",
    "Note that the token idx 0 means the `<CLS>` token,\n",
    "and the token idx 2 is the `<EOS>` token."
   ]
  },
  {
   "cell_type": "code",
   "execution_count": 4,
   "id": "amateur-dancing",
   "metadata": {},
   "outputs": [
    {
     "data": {
      "text/plain": [
       "tensor([    0,   500, 17549,    35,   440,   588, 20551, 10658,     6,   269,\n",
       "           24,    17,    27,    29,  2051,     6,    95,   821,    12,  2977,\n",
       "           19,  6470,     4,     2])"
      ]
     },
     "execution_count": 4,
     "metadata": {},
     "output_type": "execute_result"
    }
   ],
   "source": [
    "features['tokens']"
   ]
  },
  {
   "cell_type": "markdown",
   "id": "secure-communication",
   "metadata": {},
   "source": [
    "### Print the number of tokens. \n",
    "\n",
    "The number of tokens include the `<CLS>` and `<EOS>` tokens."
   ]
  },
  {
   "cell_type": "code",
   "execution_count": 5,
   "id": "aggressive-substitute",
   "metadata": {},
   "outputs": [
    {
     "data": {
      "text/plain": [
       "24"
      ]
     },
     "execution_count": 5,
     "metadata": {},
     "output_type": "execute_result"
    }
   ],
   "source": [
    "len(features['tokens'])"
   ]
  },
  {
   "cell_type": "markdown",
   "id": "phantom-supervision",
   "metadata": {},
   "source": [
    "### What does the feature vector look like?\n",
    "\n",
    "Every feature vector has the shape of (`batch_size`, `num_neurons`). \n",
    "\n",
    "The feature vectors were extracted by the below code snippet.\n",
    "\n",
    "```python\n",
    "self.features = self.roberta.extract_features(self.tokens)\n",
    "self.features = self.features[:, 0, :]  # <CLS> token feature\n",
    "\n",
    "#  dropout doesn't have an effect (i.e. p=0) but I'll still preserve it.\n",
    "self.features = \\\n",
    "    self.roberta.model.classification_heads['MELD_head'].dropout(\n",
    "        self.roberta.model.classification_heads['MELD_head'].activation_fn(\n",
    "            self.roberta.model.classification_heads['MELD_head'].dense(\n",
    "                self.roberta.model.classification_heads['MELD_head'].dropout(self.features))))\n",
    "```\n",
    "\n",
    "Here `activation_fn` is tanh, which makes every element in the vector have the range in (-1, +1)\n",
    "\n",
    "This is actually the output of the second last layer (dense + tanh) in the entire roberta.large neural network. The last layer is a fully-connected layer that takes this feature vector and outputs the vector of size `num_classes`."
   ]
  },
  {
   "cell_type": "code",
   "execution_count": 6,
   "id": "modern-spotlight",
   "metadata": {},
   "outputs": [
    {
     "data": {
      "text/plain": [
       "((1, 1024), dtype('float32'), -0.9667779, 0.9595487)"
      ]
     },
     "execution_count": 6,
     "metadata": {},
     "output_type": "execute_result"
    }
   ],
   "source": [
    "features['features'].shape, features['features'].dtype, features['features'].min(), features['features'].max()"
   ]
  }
 ],
 "metadata": {
  "kernelspec": {
   "display_name": "Python 3",
   "language": "python",
   "name": "python3"
  },
  "language_info": {
   "codemirror_mode": {
    "name": "ipython",
    "version": 3
   },
   "file_extension": ".py",
   "mimetype": "text/x-python",
   "name": "python",
   "nbconvert_exporter": "python",
   "pygments_lexer": "ipython3",
   "version": "3.7.10"
  }
 },
 "nbformat": 4,
 "nbformat_minor": 5
}