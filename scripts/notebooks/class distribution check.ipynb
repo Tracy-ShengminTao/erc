{
 "cells": [
  {
   "cell_type": "code",
   "execution_count": 1,
   "id": "broken-danish",
   "metadata": {},
   "outputs": [
    {
     "name": "stdout",
     "output_type": "stream",
     "text": [
      "/home/tk/repos/erc\n"
     ]
    }
   ],
   "source": [
    "%cd /home/tk/repos/erc/"
   ]
  },
  {
   "cell_type": "code",
   "execution_count": 54,
   "id": "subtle-friendly",
   "metadata": {},
   "outputs": [],
   "source": [
    "from glob import glob\n",
    "import os\n",
    "import json\n",
    "import numpy as np\n",
    "from scipy.spatial import distance\n",
    "\n",
    "def get_emotion2num(DATASET):\n",
    "    emotions = {}\n",
    "    # MELD has 7 classes\n",
    "    emotions['MELD'] = ['neutral',\n",
    "                        'joy',\n",
    "                        'surprise',\n",
    "                        'anger',\n",
    "                        'sadness',\n",
    "                        'disgust',\n",
    "                        'fear']\n",
    "\n",
    "    # IEMOCAP originally has 11 classes but we'll only use 6 of them.\n",
    "    emotions['IEMOCAP'] = ['neutral',\n",
    "                           'frustration',\n",
    "                           'sadness',\n",
    "                           'anger',\n",
    "                           'excited',\n",
    "                           'happiness']\n",
    "\n",
    "    # EmoryNLP has 7 classes\n",
    "    emotions['EmoryNLP'] = ['neutral',\n",
    "                            'joyful',\n",
    "                            'scared',\n",
    "                            'mad',\n",
    "                            'peaceful',\n",
    "                            'powerful',\n",
    "                            'sad']\n",
    "\n",
    "    # DailyDialog originally has 7 classes, but be sure not to include the\n",
    "    # neutral class, which accounts for 80% of the data, in calculating\n",
    "    # the micro f1_score.\n",
    "    emotions['DailyDialog'] = ['neutral',\n",
    "                               'happiness',\n",
    "                               'surprise',\n",
    "                               'sadness',\n",
    "                               'anger',\n",
    "                               'disgust',\n",
    "                               'fear']\n",
    "\n",
    "    emotion2num = {DATASET: {emotion: idx for idx, emotion in enumerate(\n",
    "        emotions_)} for DATASET, emotions_ in emotions.items()}\n",
    "\n",
    "    return emotion2num[DATASET]\n",
    "\n",
    "def get_prob_distributions(list_of_elements):\n",
    "    key2count = dict(Counter(list_of_elements))\n",
    "    unique_keys = list(key2count.keys())\n",
    "    unique_keys = sorted(unique_keys)\n",
    "#     print(unique_keys)\n",
    "    distribution = np.array([key2count[key] for key in unique_keys])\n",
    "    distribution = distribution / distribution.sum()\n",
    "    \n",
    "    return distribution\n"
   ]
  },
  {
   "cell_type": "code",
   "execution_count": 55,
   "id": "ongoing-globe",
   "metadata": {},
   "outputs": [],
   "source": [
    "emotions = {}\n",
    "for DATASET in ['MELD', 'IEMOCAP', 'EmoryNLP', 'DailyDialog']:\n",
    "    emotions[DATASET] = {}\n",
    "    emotion2num = get_emotion2num(DATASET)\n",
    "    for SPLIT in ['train', 'val', 'test']:\n",
    "        emotions[DATASET][SPLIT] = []\n",
    "        paths = glob(os.path.join(f'Datasets/{DATASET}/raw-texts/{SPLIT}/*.json'))\n",
    "        for path in paths:\n",
    "            with open(path, 'r') as stream:\n",
    "                emotion = json.load(stream)['Emotion']\n",
    "            if emotion in list(emotion2num.keys()):\n",
    "                emotions[DATASET][SPLIT].append(emotion)    "
   ]
  },
  {
   "cell_type": "code",
   "execution_count": 59,
   "id": "greek-float",
   "metadata": {},
   "outputs": [
    {
     "name": "stdout",
     "output_type": "stream",
     "text": [
      "MELD\n",
      "0.06550474955037426 0.03914670471976914 0.062252950989606703\n",
      "\n",
      "IEMOCAP\n",
      "0.12312271388269282 0.0664251319487302 0.15926022732486805\n",
      "\n",
      "EmoryNLP\n",
      "0.03255742801480734 0.062374036142908755 0.04773720840015923\n",
      "\n",
      "DailyDialog\n",
      "0.06008652875385612 0.02632099827929686 0.07226251887251979\n",
      "\n"
     ]
    }
   ],
   "source": [
    "for DATASET in ['MELD', 'IEMOCAP', 'EmoryNLP', 'DailyDialog']:\n",
    "    distributions = {}\n",
    "    for SPLIT in ['train', 'val', 'test']:\n",
    "        distributions[SPLIT] = get_prob_distributions(emotions[DATASET][SPLIT])\n",
    "    \n",
    "    distance_train_val = distance.jensenshannon(distributions['train'], distributions['val'])\n",
    "    distance_train_test = distance.jensenshannon(distributions['train'], distributions['test'])\n",
    "    distance_val_test = distance.jensenshannon(distributions['val'], distributions['test'])\n",
    "    \n",
    "    print(DATASET)\n",
    "#     print(distributions)\n",
    "    print(distance_train_val, distance_train_test, distance_val_test)\n",
    "    print()"
   ]
  },
  {
   "cell_type": "code",
   "execution_count": 57,
   "id": "respiratory-vancouver",
   "metadata": {},
   "outputs": [
    {
     "data": {
      "text/plain": [
       "{'train': array([0.00948721, 0.00347597, 0.00167489, 0.12827808, 0.82761271,\n",
       "        0.01111621, 0.01835494]),\n",
       " 'val': array([9.54269426e-03, 3.71793283e-04, 1.36324204e-03, 8.47688685e-02,\n",
       "        8.80902218e-01, 9.79055645e-03, 1.32606271e-02]),\n",
       " 'test': array([0.01524548, 0.00607235, 0.00219638, 0.13165375, 0.81666667,\n",
       "        0.01317829, 0.01498708])}"
      ]
     },
     "execution_count": 57,
     "metadata": {},
     "output_type": "execute_result"
    }
   ],
   "source": [
    "distributions"
   ]
  },
  {
   "cell_type": "code",
   "execution_count": null,
   "id": "fluid-energy",
   "metadata": {},
   "outputs": [],
   "source": []
  }
 ],
 "metadata": {
  "kernelspec": {
   "display_name": "Python 3",
   "language": "python",
   "name": "python3"
  },
  "language_info": {
   "codemirror_mode": {
    "name": "ipython",
    "version": 3
   },
   "file_extension": ".py",
   "mimetype": "text/x-python",
   "name": "python",
   "nbconvert_exporter": "python",
   "pygments_lexer": "ipython3",
   "version": "3.7.10"
  }
 },
 "nbformat": 4,
 "nbformat_minor": 5
}
