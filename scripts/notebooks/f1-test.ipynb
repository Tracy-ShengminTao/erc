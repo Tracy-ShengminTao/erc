{
 "cells": [
  {
   "cell_type": "code",
   "execution_count": 60,
   "id": "gorgeous-christmas",
   "metadata": {},
   "outputs": [],
   "source": [
    "from sklearn.metrics import f1_score, accuracy_score, multilabel_confusion_matrix\n",
    "import numpy as np"
   ]
  },
  {
   "cell_type": "code",
   "execution_count": 61,
   "id": "alert-judges",
   "metadata": {},
   "outputs": [],
   "source": [
    "y_true = np.random.randint(0, 7, 10000)\n",
    "y_pred = np.random.randint(0, 7, 10000)\n",
    "y_true[(np.random.random_sample(size=10000) < 0.8)] = 0\n",
    "y_pred[(np.random.random_sample(size=10000) < 0.8)] = 0\n"
   ]
  },
  {
   "cell_type": "code",
   "execution_count": 62,
   "id": "median-cabin",
   "metadata": {},
   "outputs": [
    {
     "data": {
      "text/plain": [
       "0.6943"
      ]
     },
     "execution_count": 62,
     "metadata": {},
     "output_type": "execute_result"
    }
   ],
   "source": [
    "accuracy_score(y_true, y_pred)"
   ]
  },
  {
   "cell_type": "code",
   "execution_count": 63,
   "id": "clear-colonial",
   "metadata": {},
   "outputs": [
    {
     "data": {
      "text/plain": [
       "0.6943"
      ]
     },
     "execution_count": 63,
     "metadata": {},
     "output_type": "execute_result"
    }
   ],
   "source": [
    "f1_score(y_true, y_pred, average='micro', labels=[0, 1, 2, 3, 4, 5, 6])"
   ]
  },
  {
   "cell_type": "code",
   "execution_count": 64,
   "id": "going-parcel",
   "metadata": {},
   "outputs": [
    {
     "data": {
      "text/plain": [
       "0.032748538011695916"
      ]
     },
     "execution_count": 64,
     "metadata": {},
     "output_type": "execute_result"
    }
   ],
   "source": [
    "f1_score(y_true, y_pred, average='micro', labels=[1, 2, 3, 4, 5, 6])"
   ]
  },
  {
   "cell_type": "code",
   "execution_count": 65,
   "id": "pressed-tennis",
   "metadata": {},
   "outputs": [
    {
     "data": {
      "text/plain": [
       "array([[[ 307, 1420],\n",
       "        [1386, 6887]],\n",
       "\n",
       "       [[9459,  260],\n",
       "        [ 271,   10]],\n",
       "\n",
       "       [[9473,  264],\n",
       "        [ 250,   13]],\n",
       "\n",
       "       [[9434,  256],\n",
       "        [ 301,    9]],\n",
       "\n",
       "       [[9417,  302],\n",
       "        [ 272,    9]],\n",
       "\n",
       "       [[9434,  270],\n",
       "        [ 286,   10]],\n",
       "\n",
       "       [[9419,  285],\n",
       "        [ 291,    5]]])"
      ]
     },
     "execution_count": 65,
     "metadata": {},
     "output_type": "execute_result"
    }
   ],
   "source": [
    "multilabel_confusion_matrix(y_true, y_pred, labels=[0, 1, 2, 3, 4, 5, 6])"
   ]
  },
  {
   "cell_type": "code",
   "execution_count": 81,
   "id": "hired-prototype",
   "metadata": {},
   "outputs": [
    {
     "data": {
      "text/plain": [
       "array([ 307, 9459, 9473, 9434, 9417, 9434, 9419])"
      ]
     },
     "execution_count": 81,
     "metadata": {},
     "output_type": "execute_result"
    }
   ],
   "source": [
    "multilabel_confusion_matrix(y_true, y_pred, labels=[0, 1, 2, 3, 4, 5, 6])[:,0,0]"
   ]
  },
  {
   "cell_type": "code",
   "execution_count": 82,
   "id": "gross-alignment",
   "metadata": {},
   "outputs": [
    {
     "data": {
      "text/plain": [
       "0.6943"
      ]
     },
     "execution_count": 82,
     "metadata": {},
     "output_type": "execute_result"
    }
   ],
   "source": [
    "multilabel_confusion_matrix(y_true, y_pred, labels=[0, 1, 2, 3, 4, 5, 6])[:,1,1].sum() / \\\n",
    "10000\n"
   ]
  },
  {
   "cell_type": "code",
   "execution_count": 90,
   "id": "dutch-friday",
   "metadata": {},
   "outputs": [
    {
     "data": {
      "text/plain": [
       "array([[[9459,  260],\n",
       "        [ 271,   10]],\n",
       "\n",
       "       [[9473,  264],\n",
       "        [ 250,   13]],\n",
       "\n",
       "       [[9434,  256],\n",
       "        [ 301,    9]],\n",
       "\n",
       "       [[9417,  302],\n",
       "        [ 272,    9]],\n",
       "\n",
       "       [[9434,  270],\n",
       "        [ 286,   10]],\n",
       "\n",
       "       [[9419,  285],\n",
       "        [ 291,    5]]])"
      ]
     },
     "execution_count": 90,
     "metadata": {},
     "output_type": "execute_result"
    }
   ],
   "source": [
    "multilabel_confusion_matrix(y_true, y_pred, labels=[1, 2, 3, 4, 5, 6])"
   ]
  },
  {
   "cell_type": "code",
   "execution_count": 99,
   "id": "invisible-photograph",
   "metadata": {},
   "outputs": [
    {
     "data": {
      "text/plain": [
       "1.0"
      ]
     },
     "execution_count": 99,
     "metadata": {},
     "output_type": "execute_result"
    }
   ],
   "source": [
    "multilabel_confusion_matrix(y_true, y_pred, labels=[1, 2, 3, 4, 5, 6])[:,1,1].sum() / (\n",
    "multilabel_confusion_matrix(y_true, y_pred, labels=[1, 2, 3, 4, 5, 6])[:,1,1].sum() + 0.5*(\n",
    "    multilabel_confusion_matrix(y_true, y_pred, labels=[1, 2, 3, 4, 5, 6])[:,0,1].sum()))\n"
   ]
  }
 ],
 "metadata": {
  "kernelspec": {
   "display_name": "Python 3",
   "language": "python",
   "name": "python3"
  },
  "language_info": {
   "codemirror_mode": {
    "name": "ipython",
    "version": 3
   },
   "file_extension": ".py",
   "mimetype": "text/x-python",
   "name": "python",
   "nbconvert_exporter": "python",
   "pygments_lexer": "ipython3",
   "version": "3.7.10"
  }
 },
 "nbformat": 4,
 "nbformat_minor": 5
}
