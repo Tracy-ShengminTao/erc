{
 "cells": [
  {
   "cell_type": "code",
   "execution_count": 1,
   "id": "disciplinary-courage",
   "metadata": {},
   "outputs": [],
   "source": [
    "import os\n",
    "import json\n",
    "import cv2\n",
    "import random\n",
    "import csv\n",
    "from tqdm import tqdm\n",
    "\n",
    "random.seed(42)"
   ]
  },
  {
   "cell_type": "code",
   "execution_count": 2,
   "id": "australian-junction",
   "metadata": {},
   "outputs": [],
   "source": [
    "dataset_root = '/home/kvu/erc/meld/MELD-face-videos/'\n",
    "dataset_json_path = dataset_root + 'datasets.json'\n",
    "train = dataset_root + 'train'\n",
    "dev = dataset_root + 'dev'\n",
    "test = dataset_root + 'test'\n",
    "\n",
    "output = 'single-frame-dataset'"
   ]
  },
  {
   "cell_type": "code",
   "execution_count": 3,
   "id": "listed-offense",
   "metadata": {},
   "outputs": [],
   "source": [
    "with open(dataset_json_path) as f:\n",
    "    dataset_json = json.load(f)"
   ]
  },
  {
   "cell_type": "code",
   "execution_count": 4,
   "id": "acting-sacramento",
   "metadata": {},
   "outputs": [],
   "source": [
    "labels_mapping = {'anger': 6, \n",
    "                  'disgust': 5, \n",
    "                  'fear': 2, \n",
    "                  'joy': 4, \n",
    "                  'neutral': 0, \n",
    "                  'sadness': 3, \n",
    "                  'surprise': 1}"
   ]
  },
  {
   "cell_type": "code",
   "execution_count": 5,
   "id": "manual-cursor",
   "metadata": {},
   "outputs": [
    {
     "data": {
      "text/plain": [
       "{'SrNo': '1',\n",
       " 'Utterance': 'also I was the point person on my company’s transition from the KL-5 to GR-6 system.',\n",
       " 'Speaker': 'Chandler',\n",
       " 'Emotion': 'neutral',\n",
       " 'Sentiment': 'neutral',\n",
       " 'Dialogue_ID': '0',\n",
       " 'Utterance_ID': '0',\n",
       " 'Season': '8',\n",
       " 'Episode': '21',\n",
       " 'StartTime': '00:16:16,059',\n",
       " 'EndTime': '00:16:21,731'}"
      ]
     },
     "execution_count": 5,
     "metadata": {},
     "output_type": "execute_result"
    }
   ],
   "source": [
    "dataset_json['train']['dia0_utt0']"
   ]
  },
  {
   "cell_type": "code",
   "execution_count": 6,
   "id": "veterinary-junction",
   "metadata": {},
   "outputs": [
    {
     "data": {
      "text/plain": [
       "7523"
      ]
     },
     "execution_count": 6,
     "metadata": {},
     "output_type": "execute_result"
    }
   ],
   "source": [
    "len(os.listdir(train))"
   ]
  },
  {
   "cell_type": "code",
   "execution_count": 7,
   "id": "opponent-shoot",
   "metadata": {},
   "outputs": [],
   "source": [
    "oversampling = {'neutral': 1, 'surprise': 3, 'fear': 16, 'sadness': 7, 'joy': 3, 'disgust': 16, 'anger': 4}"
   ]
  },
  {
   "cell_type": "code",
   "execution_count": 17,
   "id": "southern-delhi",
   "metadata": {},
   "outputs": [],
   "source": [
    "def video2frame(set_name, source_video_folder, output_folder, output_csv_path):\n",
    "    row_list = []\n",
    "    row_list.append(['image_id', 'label'])\n",
    "\n",
    "    list_dir = os.listdir(source_video_folder) \n",
    "    for vid in tqdm(list_dir):\n",
    "        # Get video's metadata\n",
    "        vid_name = vid[:-4]\n",
    "        vid_capture = cv2.VideoCapture(source_video_folder + '/' + vid)\n",
    "        vid_length = int(vid_capture.get(cv2.CAP_PROP_FRAME_COUNT)) - 1\n",
    "#         if vid_length < 2:\n",
    "#             continue\n",
    "        emotion = dataset_json[set_name][vid_name]['Emotion']\n",
    "        \n",
    "        ratio = 1 if set_name == 'test' else oversampling[emotion]\n",
    "        for i in range(ratio):\n",
    "            # Pick a random frame\n",
    "            frame_index = random.randint(0, vid_length)\n",
    "            vid_capture.set(cv2.CAP_PROP_POS_FRAMES, frame_index)\n",
    "\n",
    "            ret, frame = vid_capture.read()\n",
    "            output_name = vid_name + f\"_{i}\" + '.jpg'\n",
    "            output_path = output_folder + '/' + output_name\n",
    "            cv2.imwrite(output_path, frame)\n",
    "\n",
    "            image_id = output_name\n",
    "            label = labels_mapping[emotion]\n",
    "            row_list.append([image_id, label])\n",
    "\n",
    "    with open(output_csv_path, 'w', newline='') as f:\n",
    "        writer = csv.writer(f, delimiter=',')\n",
    "        writer.writerows(row_list)"
   ]
  },
  {
   "cell_type": "code",
   "execution_count": 15,
   "id": "disciplinary-timber",
   "metadata": {},
   "outputs": [
    {
     "name": "stderr",
     "output_type": "stream",
     "text": [
      "100%|██████████| 7523/7523 [02:51<00:00, 43.87it/s] \n"
     ]
    }
   ],
   "source": [
    "video2frame(set_name='train', \n",
    "            source_video_folder=train, \n",
    "            output_folder='/home/kvu/erc/data/train', \n",
    "            output_csv_path='/home/kvu/erc/Datasets/MELD-single-frame/train.csv')"
   ]
  },
  {
   "cell_type": "code",
   "execution_count": 16,
   "id": "greenhouse-relaxation",
   "metadata": {},
   "outputs": [
    {
     "name": "stderr",
     "output_type": "stream",
     "text": [
      "100%|██████████| 860/860 [00:19<00:00, 43.40it/s]\n"
     ]
    }
   ],
   "source": [
    "video2frame(set_name='dev', \n",
    "            source_video_folder=dev, \n",
    "            output_folder='/home/kvu/erc/data/dev', \n",
    "            output_csv_path='/home/kvu/erc/Datasets/MELD-single-frame/dev.csv')"
   ]
  },
  {
   "cell_type": "code",
   "execution_count": 18,
   "id": "sealed-shanghai",
   "metadata": {},
   "outputs": [
    {
     "name": "stderr",
     "output_type": "stream",
     "text": [
      "100%|██████████| 1983/1983 [00:38<00:00, 51.32it/s]\n"
     ]
    }
   ],
   "source": [
    "video2frame(set_name='test', \n",
    "            source_video_folder=test, \n",
    "            output_folder='/home/kvu/erc/data/test', \n",
    "            output_csv_path='/home/kvu/erc/Datasets/MELD-single-frame/test.csv')"
   ]
  },
  {
   "cell_type": "code",
   "execution_count": null,
   "id": "vocal-adult",
   "metadata": {},
   "outputs": [],
   "source": []
  }
 ],
 "metadata": {
  "kernelspec": {
   "display_name": "Python 3",
   "language": "python",
   "name": "python3"
  },
  "language_info": {
   "codemirror_mode": {
    "name": "ipython",
    "version": 3
   },
   "file_extension": ".py",
   "mimetype": "text/x-python",
   "name": "python",
   "nbconvert_exporter": "python",
   "pygments_lexer": "ipython3",
   "version": "3.8.5"
  }
 },
 "nbformat": 4,
 "nbformat_minor": 5
}
