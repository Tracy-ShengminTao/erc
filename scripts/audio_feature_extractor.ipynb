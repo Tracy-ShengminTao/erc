{
 "cells": [
  {
   "cell_type": "markdown",
   "id": "b4fe84f1",
   "metadata": {},
   "source": [
    "## Load dependencies"
   ]
  },
  {
   "cell_type": "code",
   "execution_count": 1,
   "id": "d61873dc",
   "metadata": {},
   "outputs": [],
   "source": [
    "MODEL_CHECKPOINT_PATH = '/home/kvu/erc/data/audio weights/effnet_42.pth'"
   ]
  },
  {
   "cell_type": "code",
   "execution_count": 2,
   "id": "422ccde1",
   "metadata": {},
   "outputs": [],
   "source": [
    "import sys\n",
    "sys.path.append('/home/kvu/erc/libs')\n",
    "\n",
    "import csv\n",
    "import os\n",
    "from sklearn.metrics import confusion_matrix\n",
    "from tqdm import tqdm\n",
    "\n",
    "import pandas\n",
    "import torch\n",
    "import yaml\n",
    "import seaborn as sns\n",
    "%matplotlib inline\n",
    "import matplotlib.pyplot as plt\n",
    "import numpy as np\n",
    "import pandas as pd\n",
    "from sklearn.metrics import classification_report, confusion_matrix, accuracy_score, f1_score\n",
    "from PIL import Image\n",
    "from torchvision import transforms as tvtf\n",
    "from torch.utils.data import DataLoader\n",
    "from utils.device import detach, move_to\n",
    "\n",
    "from utils.getter import get_instance\n",
    "from datasets import *\n",
    "\n",
    "import warnings\n",
    "warnings.filterwarnings(\"ignore\")"
   ]
  },
  {
   "cell_type": "markdown",
   "id": "3f329a90",
   "metadata": {},
   "source": [
    "## Load model weight and configs"
   ]
  },
  {
   "cell_type": "code",
   "execution_count": 3,
   "id": "3d19150c",
   "metadata": {},
   "outputs": [
    {
     "data": {
      "text/plain": [
       "{'id': 'audio_effnet',\n",
       " 'pretrained': None,\n",
       " 'model': {'name': 'BaseTimmModel',\n",
       "  'args': {'name': 'tf_efficientnet_b1_ap',\n",
       "   'num_classes': 7,\n",
       "   'freeze_backbone': False,\n",
       "   'from_pretrained': True}},\n",
       " 'optimizer': {'name': 'Adam', 'args': {'lr': 0.0003}},\n",
       " 'loss': {'name': 'FocalLoss',\n",
       "  'args': {'alpha': 0.75, 'gamma': 4, 'reduce': True}},\n",
       " 'metric': [{'name': 'F1Weighted', 'args': {}}],\n",
       " 'scheduler': {'name': 'ReduceLROnPlateau',\n",
       "  'args': {'factor': 0.5, 'patience': 2}},\n",
       " 'dataset': {'train': {'name': 'AudioDataset',\n",
       "   'args': {'data_dir': '/content/src/data/MELD/raw-audios-wav/train/',\n",
       "    'csv_path': '/content/src/data/MELD/raw-audios-wav/train.csv',\n",
       "    'format': '.wav',\n",
       "    'sr': 22050,\n",
       "    'duration': 8,\n",
       "    'n_mels': 128,\n",
       "    'is_train': True},\n",
       "   'loader': {'name': 'DataLoader',\n",
       "    'args': {'batch_size': 8, 'shuffle': True, 'drop_last': True}}},\n",
       "  'val': {'name': 'AudioDataset',\n",
       "   'args': {'data_dir': '/content/src/data/MELD/raw-audios-wav/val/',\n",
       "    'csv_path': '/content/src/data/MELD/raw-audios-wav/val.csv',\n",
       "    'format': '.wav',\n",
       "    'sr': 22050,\n",
       "    'duration': 8,\n",
       "    'n_mels': 128,\n",
       "    'is_train': False},\n",
       "   'loader': {'name': 'DataLoader',\n",
       "    'args': {'batch_size': 16, 'shuffle': True, 'drop_last': True}}}},\n",
       " 'trainer': {'nepochs': 10, 'val_step': 1, 'log_step': 1},\n",
       " 'gpus': '0',\n",
       " 'debug': False}"
      ]
     },
     "execution_count": 3,
     "metadata": {},
     "output_type": "execute_result"
    }
   ],
   "source": [
    "config = torch.load(MODEL_CHECKPOINT_PATH)['config']\n",
    "config"
   ]
  },
  {
   "cell_type": "code",
   "execution_count": 4,
   "id": "5f2f8edd",
   "metadata": {},
   "outputs": [
    {
     "data": {
      "text/plain": [
       "<All keys matched successfully>"
      ]
     },
     "execution_count": 4,
     "metadata": {},
     "output_type": "execute_result"
    }
   ],
   "source": [
    "dev_id = 'cuda:{}'.format(config['gpus']) \\\n",
    "    if torch.cuda.is_available() and config.get('gpus', None) is not None \\\n",
    "    else 'cpu'\n",
    "\n",
    "device = torch.device(dev_id)\n",
    "model = get_instance(config['model']).to(device)\n",
    "model.load_state_dict(torch.load(MODEL_CHECKPOINT_PATH)['model_state_dict'])"
   ]
  },
  {
   "cell_type": "markdown",
   "id": "ae2daecd",
   "metadata": {},
   "source": [
    "## Load the dataset and dataloader"
   ]
  },
  {
   "cell_type": "code",
   "execution_count": 13,
   "id": "ac12a8d8",
   "metadata": {},
   "outputs": [],
   "source": [
    "CSV_PATH = '/home/kvu/erc/data/raw-audios-wav/test.csv'\n",
    "DATA_DIR = '/home/kvu/erc/data/raw-audios-wav/test/'\n",
    "\n",
    "dataset = AudioDataset(csv_path=CSV_PATH, data_dir=DATA_DIR, format='.wav', is_train=False, sr=22050, duration=8, n_mels=128)\n",
    "dataset_loader = DataLoader(dataset=dataset, batch_size=8, shuffle=False, pin_memory=False)"
   ]
  },
  {
   "cell_type": "code",
   "execution_count": 14,
   "id": "7094c6ba",
   "metadata": {},
   "outputs": [
    {
     "data": {
      "text/plain": [
       "'dia136_utt0'"
      ]
     },
     "execution_count": 14,
     "metadata": {},
     "output_type": "execute_result"
    }
   ],
   "source": [
    "x, y, audio_id = dataset[0]\n",
    "audio_id"
   ]
  },
  {
   "cell_type": "markdown",
   "id": "2ea70b34",
   "metadata": {},
   "source": [
    "## Feature extractor"
   ]
  },
  {
   "cell_type": "code",
   "execution_count": 7,
   "id": "f5c440d3",
   "metadata": {},
   "outputs": [],
   "source": [
    "model.model.reset_classifier(0)"
   ]
  },
  {
   "cell_type": "code",
   "execution_count": 15,
   "id": "3d7dbf9e",
   "metadata": {},
   "outputs": [
    {
     "name": "stderr",
     "output_type": "stream",
     "text": [
      "100%|██████████| 2610/2610 [05:17<00:00,  8.22it/s]\n"
     ]
    }
   ],
   "source": [
    "for i in tqdm(range(len(dataset))):\n",
    "    x, y, audio_id = dataset[i]\n",
    "    x = torch.unsqueeze(x, 0)\n",
    "    res = model(x.to(device).float())\n",
    "    res = res.detach().cpu().numpy()\n",
    "    np.save(os.path.join('/home/kvu/erc/Datasets/MELD/audio-features/test', audio_id + '.npy'), res)"
   ]
  },
  {
   "cell_type": "code",
   "execution_count": null,
   "id": "d8a3b63e",
   "metadata": {},
   "outputs": [],
   "source": []
  }
 ],
 "metadata": {
  "kernelspec": {
   "display_name": "Python 3",
   "language": "python",
   "name": "python3"
  },
  "language_info": {
   "codemirror_mode": {
    "name": "ipython",
    "version": 3
   },
   "file_extension": ".py",
   "mimetype": "text/x-python",
   "name": "python",
   "nbconvert_exporter": "python",
   "pygments_lexer": "ipython3",
   "version": "3.8.5"
  }
 },
 "nbformat": 4,
 "nbformat_minor": 5
}
