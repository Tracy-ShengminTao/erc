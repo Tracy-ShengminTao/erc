{
 "cells": [
  {
   "cell_type": "markdown",
   "id": "6de2bc5d",
   "metadata": {},
   "source": [
    "## Load dependencies"
   ]
  },
  {
   "cell_type": "code",
   "execution_count": 5,
   "id": "0edcb645",
   "metadata": {},
   "outputs": [],
   "source": [
    "MODEL_CHECKPOINT_PATH = '/home/kvu/erc/data/audio weights/effnet_42.pth'"
   ]
  },
  {
   "cell_type": "code",
   "execution_count": 6,
   "id": "5efe18ea",
   "metadata": {},
   "outputs": [],
   "source": [
    "import sys\n",
    "sys.path.append('/home/kvu/erc/libs')\n",
    "\n",
    "import csv\n",
    "import os\n",
    "from sklearn.metrics import confusion_matrix\n",
    "from tqdm import tqdm\n",
    "\n",
    "import pandas\n",
    "import torch\n",
    "import yaml\n",
    "import seaborn as sns\n",
    "%matplotlib inline\n",
    "import matplotlib.pyplot as plt\n",
    "import numpy as np\n",
    "import pandas as pd\n",
    "from sklearn.metrics import classification_report, confusion_matrix, accuracy_score, f1_score\n",
    "from PIL import Image\n",
    "from torchvision import transforms as tvtf\n",
    "from torch.utils.data import DataLoader\n",
    "from utils.device import detach, move_to\n",
    "\n",
    "from utils.getter import get_instance\n",
    "from datasets import *\n",
    "\n",
    "import warnings\n",
    "warnings.filterwarnings(\"ignore\")"
   ]
  },
  {
   "cell_type": "markdown",
   "id": "6f3ac5e9",
   "metadata": {},
   "source": [
    "## Load model weight and configs"
   ]
  },
  {
   "cell_type": "code",
   "execution_count": 7,
   "id": "942bd813",
   "metadata": {},
   "outputs": [
    {
     "data": {
      "text/plain": [
       "{'id': 'audio_effnet',\n",
       " 'pretrained': None,\n",
       " 'model': {'name': 'BaseTimmModel',\n",
       "  'args': {'name': 'tf_efficientnet_b1_ap',\n",
       "   'num_classes': 7,\n",
       "   'freeze_backbone': False,\n",
       "   'from_pretrained': True}},\n",
       " 'optimizer': {'name': 'Adam', 'args': {'lr': 0.0003}},\n",
       " 'loss': {'name': 'FocalLoss',\n",
       "  'args': {'alpha': 0.75, 'gamma': 4, 'reduce': True}},\n",
       " 'metric': [{'name': 'F1Weighted', 'args': {}}],\n",
       " 'scheduler': {'name': 'ReduceLROnPlateau',\n",
       "  'args': {'factor': 0.5, 'patience': 2}},\n",
       " 'dataset': {'train': {'name': 'AudioDataset',\n",
       "   'args': {'data_dir': '/content/src/data/MELD/raw-audios-wav/train/',\n",
       "    'csv_path': '/content/src/data/MELD/raw-audios-wav/train.csv',\n",
       "    'format': '.wav',\n",
       "    'sr': 22050,\n",
       "    'duration': 8,\n",
       "    'n_mels': 128,\n",
       "    'is_train': True},\n",
       "   'loader': {'name': 'DataLoader',\n",
       "    'args': {'batch_size': 8, 'shuffle': True, 'drop_last': True}}},\n",
       "  'val': {'name': 'AudioDataset',\n",
       "   'args': {'data_dir': '/content/src/data/MELD/raw-audios-wav/val/',\n",
       "    'csv_path': '/content/src/data/MELD/raw-audios-wav/val.csv',\n",
       "    'format': '.wav',\n",
       "    'sr': 22050,\n",
       "    'duration': 8,\n",
       "    'n_mels': 128,\n",
       "    'is_train': False},\n",
       "   'loader': {'name': 'DataLoader',\n",
       "    'args': {'batch_size': 16, 'shuffle': True, 'drop_last': True}}}},\n",
       " 'trainer': {'nepochs': 10, 'val_step': 1, 'log_step': 1},\n",
       " 'gpus': '0',\n",
       " 'debug': False}"
      ]
     },
     "execution_count": 7,
     "metadata": {},
     "output_type": "execute_result"
    }
   ],
   "source": [
    "config = torch.load(MODEL_CHECKPOINT_PATH)['config']\n",
    "config"
   ]
  },
  {
   "cell_type": "code",
   "execution_count": 8,
   "id": "df2c1d26",
   "metadata": {},
   "outputs": [
    {
     "data": {
      "text/plain": [
       "<All keys matched successfully>"
      ]
     },
     "execution_count": 8,
     "metadata": {},
     "output_type": "execute_result"
    }
   ],
   "source": [
    "dev_id = 'cuda:{}'.format(config['gpus']) \\\n",
    "    if torch.cuda.is_available() and config.get('gpus', None) is not None \\\n",
    "    else 'cpu'\n",
    "\n",
    "device = torch.device(dev_id)\n",
    "model = get_instance(config['model']).to(device)\n",
    "model.load_state_dict(torch.load(MODEL_CHECKPOINT_PATH)['model_state_dict'])"
   ]
  },
  {
   "cell_type": "markdown",
   "id": "8a79b6dd",
   "metadata": {},
   "source": [
    "## Load the dataset and dataloader"
   ]
  },
  {
   "cell_type": "code",
   "execution_count": 10,
   "id": "4a96a042",
   "metadata": {},
   "outputs": [],
   "source": [
    "CSV_PATH = '/home/kvu/erc/data/raw-audios-wav/train.csv'\n",
    "DATA_DIR = '/home/kvu/erc/data/raw-audios-wav/train/'\n",
    "\n",
    "dataset = AudioDataset(csv_path=CSV_PATH, data_dir=DATA_DIR, format='.wav', is_train=False, sr=22050, duration=8, n_mels=128)\n",
    "dataset_loader = DataLoader(dataset=dataset, batch_size=8, shuffle=False, pin_memory=False)"
   ]
  },
  {
   "cell_type": "code",
   "execution_count": 13,
   "id": "e0fb77b7",
   "metadata": {},
   "outputs": [
    {
     "data": {
      "text/plain": [
       "torch.Size([3, 128, 345])"
      ]
     },
     "execution_count": 13,
     "metadata": {},
     "output_type": "execute_result"
    }
   ],
   "source": [
    "x, y = dataset[0]\n",
    "x.shape"
   ]
  },
  {
   "cell_type": "markdown",
   "id": "e4930ca2",
   "metadata": {},
   "source": [
    "## Feature extractor"
   ]
  },
  {
   "cell_type": "code",
   "execution_count": 15,
   "id": "8ac93f05",
   "metadata": {},
   "outputs": [],
   "source": [
    "model.model.reset_classifier(0)"
   ]
  },
  {
   "cell_type": "code",
   "execution_count": 17,
   "id": "27a393da",
   "metadata": {},
   "outputs": [
    {
     "data": {
      "text/plain": [
       "torch.Size([1, 3, 128, 345])"
      ]
     },
     "execution_count": 17,
     "metadata": {},
     "output_type": "execute_result"
    }
   ],
   "source": [
    "x = torch.unsqueeze(x, 0)\n",
    "x.shape"
   ]
  },
  {
   "cell_type": "code",
   "execution_count": 20,
   "id": "f9fafed6",
   "metadata": {},
   "outputs": [
    {
     "data": {
      "text/plain": [
       "torch.Size([1, 1280])"
      ]
     },
     "execution_count": 20,
     "metadata": {},
     "output_type": "execute_result"
    }
   ],
   "source": [
    "res = model(x.to(device).float())\n",
    "res.shape"
   ]
  },
  {
   "cell_type": "code",
   "execution_count": 22,
   "id": "276e4338",
   "metadata": {},
   "outputs": [
    {
     "data": {
      "text/plain": [
       "array([[ 0.00396519, -0.03426354,  0.04282009, ..., -0.01117208,\n",
       "        -0.008929  ,  0.0490795 ]], dtype=float32)"
      ]
     },
     "execution_count": 22,
     "metadata": {},
     "output_type": "execute_result"
    }
   ],
   "source": [
    "res.detach().cpu().numpy()"
   ]
  },
  {
   "cell_type": "code",
   "execution_count": null,
   "id": "9e7c88ed",
   "metadata": {},
   "outputs": [],
   "source": []
  }
 ],
 "metadata": {
  "kernelspec": {
   "display_name": "Python 3",
   "language": "python",
   "name": "python3"
  },
  "language_info": {
   "codemirror_mode": {
    "name": "ipython",
    "version": 3
   },
   "file_extension": ".py",
   "mimetype": "text/x-python",
   "name": "python",
   "nbconvert_exporter": "python",
   "pygments_lexer": "ipython3",
   "version": "3.8.5"
  }
 },
 "nbformat": 4,
 "nbformat_minor": 5
}
