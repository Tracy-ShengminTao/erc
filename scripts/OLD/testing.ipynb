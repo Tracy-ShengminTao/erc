{
 "cells": [
  {
   "cell_type": "code",
   "execution_count": 6,
   "id": "appropriate-generic",
   "metadata": {},
   "outputs": [
    {
     "name": "stdout",
     "output_type": "stream",
     "text": [
      "/home/tkm290/repos/erc\n"
     ]
    }
   ],
   "source": [
    "%cd /home/tkm290/repos/erc"
   ]
  },
  {
   "cell_type": "code",
   "execution_count": 7,
   "id": "extensive-proposal",
   "metadata": {
    "scrolled": true
   },
   "outputs": [
    {
     "name": "stderr",
     "output_type": "stream",
     "text": [
      "  0%|          | 0/3 [00:00<?, ?it/s]\n",
      "0it [00:00, ?it/s]\u001b[A\n",
      "9it [00:00, 85.39it/s]\u001b[A\n",
      "18it [00:00, 82.99it/s]\u001b[A\n",
      "27it [00:00, 84.12it/s]\u001b[A\n",
      "36it [00:00, 84.98it/s]\u001b[A\n",
      "45it [00:00, 85.12it/s]\u001b[A\n",
      "54it [00:00, 85.39it/s]\u001b[A\n",
      "63it [00:00, 85.38it/s]\u001b[A\n",
      "72it [00:00, 85.58it/s]\u001b[A\n",
      "81it [00:00, 85.36it/s]\u001b[A\n",
      "90it [00:01, 85.40it/s]\u001b[A\n",
      "99it [00:01, 84.84it/s]\u001b[A\n",
      "108it [00:01, 84.64it/s]\u001b[A\n",
      "117it [00:01, 84.56it/s]\u001b[A\n",
      "126it [00:01, 84.52it/s]\u001b[A\n",
      "135it [00:01, 84.67it/s]\u001b[A\n",
      "144it [00:01, 84.71it/s]\u001b[A\n",
      "153it [00:01, 84.75it/s]\u001b[A\n",
      "162it [00:01, 84.93it/s]\u001b[A\n",
      "171it [00:02, 85.23it/s]\u001b[A\n",
      "180it [00:02, 85.52it/s]\u001b[A\n",
      "189it [00:02, 85.65it/s]\u001b[A\n",
      "198it [00:02, 85.01it/s]\u001b[A\n",
      "207it [00:02, 84.95it/s]\u001b[A\n",
      "216it [00:02, 84.79it/s]\u001b[A\n",
      "225it [00:02, 84.97it/s]\u001b[A\n",
      "234it [00:02, 84.23it/s]\u001b[A\n",
      "248it [00:02, 84.41it/s]\u001b[A\n",
      "  0%|          | 0/3 [00:02<?, ?it/s]\n"
     ]
    },
    {
     "ename": "KeyboardInterrupt",
     "evalue": "",
     "output_type": "error",
     "traceback": [
      "\u001b[0;31m---------------------------------------------------------------------------\u001b[0m",
      "\u001b[0;31mKeyboardInterrupt\u001b[0m                         Traceback (most recent call last)",
      "\u001b[0;32m<ipython-input-7-5a2694df4985>\u001b[0m in \u001b[0;36m<module>\u001b[0;34m\u001b[0m\n\u001b[1;32m     46\u001b[0m         \u001b[0mtokens\u001b[0m \u001b[0;34m=\u001b[0m \u001b[0mroberta\u001b[0m\u001b[0;34m.\u001b[0m\u001b[0mencode\u001b[0m\u001b[0;34m(\u001b[0m\u001b[0mline\u001b[0m\u001b[0;34m)\u001b[0m\u001b[0;34m\u001b[0m\u001b[0;34m\u001b[0m\u001b[0m\n\u001b[1;32m     47\u001b[0m         pred = label_fn(roberta.predict(\n\u001b[0;32m---> 48\u001b[0;31m             DATASET + '_head', tokens).argmax().item())\n\u001b[0m\u001b[1;32m     49\u001b[0m \u001b[0;34m\u001b[0m\u001b[0m\n\u001b[1;32m     50\u001b[0m         \u001b[0my_true\u001b[0m\u001b[0;34m[\u001b[0m\u001b[0mSPLIT\u001b[0m\u001b[0;34m]\u001b[0m\u001b[0;34m.\u001b[0m\u001b[0mappend\u001b[0m\u001b[0;34m(\u001b[0m\u001b[0mlabel\u001b[0m\u001b[0;34m)\u001b[0m\u001b[0;34m\u001b[0m\u001b[0;34m\u001b[0m\u001b[0m\n",
      "\u001b[0;31mKeyboardInterrupt\u001b[0m: "
     ]
    }
   ],
   "source": [
    "from sklearn.metrics import f1_score\n",
    "from tqdm.tqdm import tqdm\n",
    "import os\n",
    "from glob import glob\n",
    "import argparse\n",
    "from fairseq.models.roberta import RobertaModel\n",
    "import sys\n",
    "DATASET_DIR = \"Datasets/\"\n",
    "DATASET = 'MELD'\n",
    "use_cuda = True\n",
    "\n",
    "if DATASET not in ['MELD', 'IEMOCAP', 'AFEW', 'CAER']:\n",
    "    sys.exit(f\"{DATASET} is not supported!\")\n",
    "\n",
    "roberta = RobertaModel.from_pretrained(\n",
    "    'models/roberta.base',\n",
    "    checkpoint_file=f'{DATASET}.pt',\n",
    "    data_name_or_path=os.path.join(DATASET_DIR, DATASET, 'roberta/bin')\n",
    ")\n",
    "\n",
    "def label_fn(label): return roberta.task.label_dictionary.string(\n",
    "    [label + roberta.task.label_dictionary.nspecial]\n",
    ")\n",
    "\n",
    "roberta.eval()  # disable dropout\n",
    "if use_cuda:\n",
    "    roberta.cuda()\n",
    "\n",
    "y_true = {}\n",
    "y_pred = {}\n",
    "\n",
    "for SPLIT in tqdm(['train', 'val', 'test']):\n",
    "\n",
    "    y_true[SPLIT] = []\n",
    "    y_pred[SPLIT] = []\n",
    "\n",
    "    X = os.path.join(DATASET_DIR, DATASET, 'roberta', SPLIT + '.input0')\n",
    "    with open(X, 'r') as stream:\n",
    "        X = [line.strip() for line in stream.readlines()]\n",
    "\n",
    "    Y = os.path.join(DATASET_DIR, DATASET, 'roberta', SPLIT + '.label')\n",
    "    with open(Y, 'r') as stream:\n",
    "        Y = [line.strip() for line in stream.readlines()]\n",
    "\n",
    "    for line, label in tqdm(zip(X, Y)):\n",
    "        tokens = roberta.encode(line)\n",
    "        pred = label_fn(roberta.predict(\n",
    "            DATASET + '_head', tokens).argmax().item())\n",
    "\n",
    "        y_true[SPLIT].append(label)\n",
    "        y_pred[SPLIT].append(pred)\n",
    "\n",
    "for SPLIT in ['train', 'val', 'test']:\n",
    "    score = f1_score(y_true[SPLIT], y_pred[SPLIT], average='weighted')\n",
    "    print(f\"Weighed f1 score on {DATASET}, {SPLIT}: {score}\")"
   ]
  },
  {
   "cell_type": "code",
   "execution_count": 9,
   "id": "oriental-grill",
   "metadata": {},
   "outputs": [
    {
     "data": {
      "text/plain": [
       "<fairseq.tasks.sentence_prediction.SentencePredictionTask at 0x7febe2b85d90>"
      ]
     },
     "execution_count": 9,
     "metadata": {},
     "output_type": "execute_result"
    }
   ],
   "source": [
    "roberta."
   ]
  },
  {
   "cell_type": "code",
   "execution_count": 10,
   "id": "pacific-lafayette",
   "metadata": {},
   "outputs": [
    {
     "ename": "AttributeError",
     "evalue": "'SentencePredictionTask' object has no attribute 'mask_idx'",
     "output_type": "error",
     "traceback": [
      "\u001b[0;31m---------------------------------------------------------------------------\u001b[0m",
      "\u001b[0;31mAttributeError\u001b[0m                            Traceback (most recent call last)",
      "\u001b[0;32m<ipython-input-10-41e7f6492e99>\u001b[0m in \u001b[0;36m<module>\u001b[0;34m\u001b[0m\n\u001b[0;32m----> 1\u001b[0;31m \u001b[0mroberta\u001b[0m\u001b[0;34m.\u001b[0m\u001b[0mfill_mask\u001b[0m\u001b[0;34m(\u001b[0m\u001b[0;34m'The first Star wars movie came out in <mask>'\u001b[0m\u001b[0;34m,\u001b[0m \u001b[0mtopk\u001b[0m\u001b[0;34m=\u001b[0m\u001b[0;36m3\u001b[0m\u001b[0;34m)\u001b[0m\u001b[0;34m\u001b[0m\u001b[0;34m\u001b[0m\u001b[0m\n\u001b[0m",
      "\u001b[0;32m~/repos/fairseq/fairseq/models/roberta/hub_interface.py\u001b[0m in \u001b[0;36mfill_mask\u001b[0;34m(self, masked_input, topk)\u001b[0m\n\u001b[1;32m    174\u001b[0m         )\n\u001b[1;32m    175\u001b[0m \u001b[0;34m\u001b[0m\u001b[0m\n\u001b[0;32m--> 176\u001b[0;31m         \u001b[0mmasked_index\u001b[0m \u001b[0;34m=\u001b[0m \u001b[0;34m(\u001b[0m\u001b[0mtokens\u001b[0m \u001b[0;34m==\u001b[0m \u001b[0mself\u001b[0m\u001b[0;34m.\u001b[0m\u001b[0mtask\u001b[0m\u001b[0;34m.\u001b[0m\u001b[0mmask_idx\u001b[0m\u001b[0;34m)\u001b[0m\u001b[0;34m.\u001b[0m\u001b[0mnonzero\u001b[0m\u001b[0;34m(\u001b[0m\u001b[0mas_tuple\u001b[0m\u001b[0;34m=\u001b[0m\u001b[0;32mFalse\u001b[0m\u001b[0;34m)\u001b[0m\u001b[0;34m\u001b[0m\u001b[0;34m\u001b[0m\u001b[0m\n\u001b[0m\u001b[1;32m    177\u001b[0m         \u001b[0;32mif\u001b[0m \u001b[0mtokens\u001b[0m\u001b[0;34m.\u001b[0m\u001b[0mdim\u001b[0m\u001b[0;34m(\u001b[0m\u001b[0;34m)\u001b[0m \u001b[0;34m==\u001b[0m \u001b[0;36m1\u001b[0m\u001b[0;34m:\u001b[0m\u001b[0;34m\u001b[0m\u001b[0;34m\u001b[0m\u001b[0m\n\u001b[1;32m    178\u001b[0m             \u001b[0mtokens\u001b[0m \u001b[0;34m=\u001b[0m \u001b[0mtokens\u001b[0m\u001b[0;34m.\u001b[0m\u001b[0munsqueeze\u001b[0m\u001b[0;34m(\u001b[0m\u001b[0;36m0\u001b[0m\u001b[0;34m)\u001b[0m\u001b[0;34m\u001b[0m\u001b[0;34m\u001b[0m\u001b[0m\n",
      "\u001b[0;31mAttributeError\u001b[0m: 'SentencePredictionTask' object has no attribute 'mask_idx'"
     ]
    }
   ],
   "source": [
    "roberta.fill_mask('The first Star wars movie came out in <mask>', topk=3)"
   ]
  },
  {
   "cell_type": "code",
   "execution_count": 12,
   "id": "introductory-patio",
   "metadata": {},
   "outputs": [],
   "source": [
    "roberta."
   ]
  }
 ],
 "metadata": {
  "kernelspec": {
   "display_name": "Python 3",
   "language": "python",
   "name": "python3"
  },
  "language_info": {
   "codemirror_mode": {
    "name": "ipython",
    "version": 3
   },
   "file_extension": ".py",
   "mimetype": "text/x-python",
   "name": "python",
   "nbconvert_exporter": "python",
   "pygments_lexer": "ipython3",
   "version": "3.7.5"
  }
 },
 "nbformat": 4,
 "nbformat_minor": 5
}
