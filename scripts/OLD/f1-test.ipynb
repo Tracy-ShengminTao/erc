{
 "cells": [
  {
   "cell_type": "code",
   "execution_count": 7,
   "id": "gorgeous-christmas",
   "metadata": {},
   "outputs": [],
   "source": [
    "from sklearn.metrics import f1_score\n",
    "import numpy as np\n",
    "\n"
   ]
  },
  {
   "cell_type": "code",
   "execution_count": 35,
   "id": "alert-judges",
   "metadata": {},
   "outputs": [
    {
     "data": {
      "text/plain": [
       "0.042714299582564806"
      ]
     },
     "execution_count": 35,
     "metadata": {},
     "output_type": "execute_result"
    }
   ],
   "source": [
    "y_true = np.random.randint(0, 7, 10000)\n",
    "y_pred = np.random.randint(0, 7, 10000)\n",
    "y_true[(np.random.random_sample(size=10000) < 0.8)] = 0\n",
    "\n",
    "f1_score(y_true, y_pred, average='micro', labels=[1, 2, 3, 4, 5, 6])"
   ]
  },
  {
   "cell_type": "code",
   "execution_count": 41,
   "id": "running-allah",
   "metadata": {},
   "outputs": [
    {
     "data": {
      "text/plain": [
       "0.044619198222070264"
      ]
     },
     "execution_count": 41,
     "metadata": {},
     "output_type": "execute_result"
    }
   ],
   "source": [
    "y_pred[y_pred==0] = 1\n",
    "\n",
    "f1_score(y_true, y_pred, average='micro', labels=[1, 2, 3, 4, 5, 6])"
   ]
  },
  {
   "cell_type": "code",
   "execution_count": 14,
   "id": "indonesian-collection",
   "metadata": {},
   "outputs": [
    {
     "data": {
      "text/plain": [
       "0.04464591173451933"
      ]
     },
     "execution_count": 14,
     "metadata": {},
     "output_type": "execute_result"
    }
   ],
   "source": [
    "y_true = np.random.randint(0, 7, 10000)\n",
    "y_pred = np.random.randint(1, 7, 10000)\n",
    "y_true[(np.random.random_sample(size=10000) < 0.8)] = 0\n",
    "\n"
   ]
  },
  {
   "cell_type": "code",
   "execution_count": 23,
   "id": "laden-rider",
   "metadata": {},
   "outputs": [
    {
     "data": {
      "text/plain": [
       "array([False, False, False, ..., False, False, False])"
      ]
     },
     "execution_count": 23,
     "metadata": {},
     "output_type": "execute_result"
    }
   ],
   "source": [
    "y_pred==0"
   ]
  }
 ],
 "metadata": {
  "kernelspec": {
   "display_name": "Python 3",
   "language": "python",
   "name": "python3"
  },
  "language_info": {
   "codemirror_mode": {
    "name": "ipython",
    "version": 3
   },
   "file_extension": ".py",
   "mimetype": "text/x-python",
   "name": "python",
   "nbconvert_exporter": "python",
   "pygments_lexer": "ipython3",
   "version": "3.7.10"
  }
 },
 "nbformat": 4,
 "nbformat_minor": 5
}
