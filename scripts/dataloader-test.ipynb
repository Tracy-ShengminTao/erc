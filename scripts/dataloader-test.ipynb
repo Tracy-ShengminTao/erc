{
 "cells": [
  {
   "cell_type": "code",
   "execution_count": 1,
   "id": "editorial-bookmark",
   "metadata": {},
   "outputs": [],
   "source": [
    "import sys\n",
    "sys.path.append(\"../libs/\")\n",
    "import yaml\n",
    "\n",
    "config = yaml.load(open('/home/tkm290/repos/erc/configs/timesformer.yaml', \"r\"), Loader=yaml.Loader)"
   ]
  },
  {
   "cell_type": "code",
   "execution_count": 2,
   "id": "coated-adult",
   "metadata": {},
   "outputs": [],
   "source": [
    "from datasets.multimodal import AudioModality, TextModality, VideoModality, Label"
   ]
  },
  {
   "cell_type": "code",
   "execution_count": 3,
   "id": "false-personal",
   "metadata": {},
   "outputs": [],
   "source": [
    "lbl = Label(label_path=config['dataset']['train']['args']['label_path'],\n",
    "     emotions=['anger', 'disgust', 'excited', 'fear', 'frustration', 'happiness', 'neutral',\n",
    "              'other', 'sadness', 'surprise', 'undecided'],\n",
    "     datatype='train')\n",
    "\n",
    "am = AudioModality(audios_dir=config['dataset']['train']['args']['audios_dir'], \n",
    "                  uttids=list(lbl.uttid2num.keys()))"
   ]
  },
  {
   "cell_type": "code",
   "execution_count": 4,
   "id": "medical-malpractice",
   "metadata": {},
   "outputs": [
    {
     "data": {
      "text/plain": [
       "<datasets.multimodal.AudioModality at 0x7fce7f82a690>"
      ]
     },
     "execution_count": 4,
     "metadata": {},
     "output_type": "execute_result"
    }
   ],
   "source": [
    "am"
   ]
  },
  {
   "cell_type": "code",
   "execution_count": 5,
   "id": "boring-enforcement",
   "metadata": {},
   "outputs": [],
   "source": [
    "from datasets.multimodal import IEMOCAP"
   ]
  },
  {
   "cell_type": "code",
   "execution_count": 6,
   "id": "hungarian-disease",
   "metadata": {},
   "outputs": [
    {
     "name": "stdout",
     "output_type": "stream",
     "text": [
      "finding common utterances in video, face, audio, and text ...\n",
      "In total there are 6378 utterances in common, across the three modalities\n"
     ]
    }
   ],
   "source": [
    "ds = IEMOCAP(**config['dataset']['train']['args'])"
   ]
  },
  {
   "cell_type": "code",
   "execution_count": 7,
   "id": "racial-childhood",
   "metadata": {},
   "outputs": [
    {
     "data": {
      "text/plain": [
       "'/home/tkm290/repos/erc/Datasets/IEMOCAP/raw-videos/train/Ses03M_impro06_F020.mp4'"
      ]
     },
     "execution_count": 7,
     "metadata": {},
     "output_type": "execute_result"
    }
   ],
   "source": [
    "ds.videopaths[0]"
   ]
  },
  {
   "cell_type": "code",
   "execution_count": 8,
   "id": "frozen-therapist",
   "metadata": {},
   "outputs": [
    {
     "data": {
      "text/plain": [
       "'/home/tkm290/repos/erc/Datasets/IEMOCAP/raw-audios/train/Ses03M_impro06_F020.wav'"
      ]
     },
     "execution_count": 8,
     "metadata": {},
     "output_type": "execute_result"
    }
   ],
   "source": [
    "ds.audiopaths[0]"
   ]
  },
  {
   "cell_type": "code",
   "execution_count": 9,
   "id": "rolled-contrast",
   "metadata": {},
   "outputs": [
    {
     "data": {
      "text/plain": [
       "'/home/tkm290/repos/erc/Datasets/IEMOCAP/raw-texts/train/Ses03M_impro06_F020.json'"
      ]
     },
     "execution_count": 9,
     "metadata": {},
     "output_type": "execute_result"
    }
   ],
   "source": [
    "ds.textpaths[0]"
   ]
  },
  {
   "cell_type": "code",
   "execution_count": 10,
   "id": "comfortable-psychology",
   "metadata": {},
   "outputs": [
    {
     "data": {
      "text/plain": [
       "8"
      ]
     },
     "execution_count": 10,
     "metadata": {},
     "output_type": "execute_result"
    }
   ],
   "source": [
    "ds.labels[0]"
   ]
  },
  {
   "cell_type": "code",
   "execution_count": 11,
   "id": "medium-prescription",
   "metadata": {},
   "outputs": [
    {
     "name": "stdout",
     "output_type": "stream",
     "text": [
      "8\n",
      "('/home/tkm290/repos/erc/Datasets/IEMOCAP/raw-videos/train/Ses03M_impro06_F020.mp4', '/home/tkm290/repos/erc/Datasets/IEMOCAP/faces/train/Ses03M_impro06_F020.pkl')\n",
      "/home/tkm290/repos/erc/Datasets/IEMOCAP/raw-audios/train/Ses03M_impro06_F020.wav\n",
      "/home/tkm290/repos/erc/Datasets/IEMOCAP/raw-texts/train/Ses03M_impro06_F020.json\n"
     ]
    }
   ],
   "source": [
    "ds[0]"
   ]
  },
  {
   "cell_type": "code",
   "execution_count": 13,
   "id": "unable-cause",
   "metadata": {},
   "outputs": [
    {
     "name": "stdout",
     "output_type": "stream",
     "text": [
      "6\n",
      "('/home/tkm290/repos/erc/Datasets/IEMOCAP/raw-videos/train/Ses04M_impro05_F019.mp4', '/home/tkm290/repos/erc/Datasets/IEMOCAP/faces/train/Ses04M_impro05_F019.pkl')\n",
      "/home/tkm290/repos/erc/Datasets/IEMOCAP/raw-audios/train/Ses04M_impro05_F019.wav\n",
      "/home/tkm290/repos/erc/Datasets/IEMOCAP/raw-texts/train/Ses04M_impro05_F019.json\n"
     ]
    }
   ],
   "source": [
    "ds[1]"
   ]
  }
 ],
 "metadata": {
  "kernelspec": {
   "display_name": "Python 3",
   "language": "python",
   "name": "python3"
  },
  "language_info": {
   "codemirror_mode": {
    "name": "ipython",
    "version": 3
   },
   "file_extension": ".py",
   "mimetype": "text/x-python",
   "name": "python",
   "nbconvert_exporter": "python",
   "pygments_lexer": "ipython3",
   "version": "3.7.5"
  }
 },
 "nbformat": 4,
 "nbformat_minor": 5
}
